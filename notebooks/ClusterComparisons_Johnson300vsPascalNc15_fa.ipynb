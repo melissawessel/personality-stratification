{
 "cells": [
  {
   "cell_type": "markdown",
   "metadata": {},
   "source": [
    "# Johnson300 vs Pascal"
   ]
  },
  {
   "cell_type": "code",
   "execution_count": 2,
   "metadata": {},
   "outputs": [],
   "source": [
    "import os,sys\n",
    "import pandas as pd\n",
    "import numpy as np\n",
    "import pylab as plt\n",
    "from scipy.spatial.distance import euclidean,cdist\n",
    "from scipy import stats"
   ]
  },
  {
   "cell_type": "code",
   "execution_count": 3,
   "metadata": {},
   "outputs": [],
   "source": [
    "clusGerlach = pd.read_csv('data/clusters/Gerlach_clusters.csv', index_col=0)"
   ]
  },
  {
   "cell_type": "code",
   "execution_count": 4,
   "metadata": {},
   "outputs": [
    {
     "data": {
      "text/html": [
       "<div>\n",
       "<style scoped>\n",
       "    .dataframe tbody tr th:only-of-type {\n",
       "        vertical-align: middle;\n",
       "    }\n",
       "\n",
       "    .dataframe tbody tr th {\n",
       "        vertical-align: top;\n",
       "    }\n",
       "\n",
       "    .dataframe thead th {\n",
       "        text-align: right;\n",
       "    }\n",
       "</style>\n",
       "<table border=\"1\" class=\"dataframe\">\n",
       "  <thead>\n",
       "    <tr style=\"text-align: right;\">\n",
       "      <th></th>\n",
       "      <th>N</th>\n",
       "      <th>E</th>\n",
       "      <th>O</th>\n",
       "      <th>A</th>\n",
       "      <th>C</th>\n",
       "    </tr>\n",
       "  </thead>\n",
       "  <tbody>\n",
       "    <tr>\n",
       "      <th>Average</th>\n",
       "      <td>0.55</td>\n",
       "      <td>0.51</td>\n",
       "      <td>-0.60</td>\n",
       "      <td>0.25</td>\n",
       "      <td>0.25</td>\n",
       "    </tr>\n",
       "    <tr>\n",
       "      <th>SelfCentered</th>\n",
       "      <td>-0.23</td>\n",
       "      <td>0.70</td>\n",
       "      <td>-0.75</td>\n",
       "      <td>-0.56</td>\n",
       "      <td>-0.44</td>\n",
       "    </tr>\n",
       "    <tr>\n",
       "      <th>Reserved</th>\n",
       "      <td>-0.54</td>\n",
       "      <td>-0.07</td>\n",
       "      <td>-0.77</td>\n",
       "      <td>0.12</td>\n",
       "      <td>0.19</td>\n",
       "    </tr>\n",
       "    <tr>\n",
       "      <th>RoleModel</th>\n",
       "      <td>-0.70</td>\n",
       "      <td>0.52</td>\n",
       "      <td>0.23</td>\n",
       "      <td>0.62</td>\n",
       "      <td>0.78</td>\n",
       "    </tr>\n",
       "  </tbody>\n",
       "</table>\n",
       "</div>"
      ],
      "text/plain": [
       "                 N     E     O     A     C\n",
       "Average       0.55  0.51 -0.60  0.25  0.25\n",
       "SelfCentered -0.23  0.70 -0.75 -0.56 -0.44\n",
       "Reserved     -0.54 -0.07 -0.77  0.12  0.19\n",
       "RoleModel    -0.70  0.52  0.23  0.62  0.78"
      ]
     },
     "execution_count": 4,
     "metadata": {},
     "output_type": "execute_result"
    }
   ],
   "source": [
    "clusGerlach"
   ]
  },
  {
   "cell_type": "code",
   "execution_count": 5,
   "metadata": {},
   "outputs": [],
   "source": [
    "clusPascal = pd.DataFrame(np.load('data/clusters/Pascal_clusters_Nc15_fa_normed_1.npy')\n",
    "                          ,columns=['N','E','O','A','C'])"
   ]
  },
  {
   "cell_type": "code",
   "execution_count": 6,
   "metadata": {},
   "outputs": [
    {
     "data": {
      "text/html": [
       "<div>\n",
       "<style scoped>\n",
       "    .dataframe tbody tr th:only-of-type {\n",
       "        vertical-align: middle;\n",
       "    }\n",
       "\n",
       "    .dataframe tbody tr th {\n",
       "        vertical-align: top;\n",
       "    }\n",
       "\n",
       "    .dataframe thead th {\n",
       "        text-align: right;\n",
       "    }\n",
       "</style>\n",
       "<table border=\"1\" class=\"dataframe\">\n",
       "  <thead>\n",
       "    <tr style=\"text-align: right;\">\n",
       "      <th></th>\n",
       "      <th>N</th>\n",
       "      <th>E</th>\n",
       "      <th>O</th>\n",
       "      <th>A</th>\n",
       "      <th>C</th>\n",
       "    </tr>\n",
       "  </thead>\n",
       "  <tbody>\n",
       "    <tr>\n",
       "      <th>0</th>\n",
       "      <td>0.761211</td>\n",
       "      <td>-0.783172</td>\n",
       "      <td>0.417110</td>\n",
       "      <td>0.229151</td>\n",
       "      <td>-1.298879</td>\n",
       "    </tr>\n",
       "    <tr>\n",
       "      <th>1</th>\n",
       "      <td>-1.012371</td>\n",
       "      <td>-0.733610</td>\n",
       "      <td>-0.245170</td>\n",
       "      <td>-1.343440</td>\n",
       "      <td>0.351950</td>\n",
       "    </tr>\n",
       "    <tr>\n",
       "      <th>2</th>\n",
       "      <td>-0.955963</td>\n",
       "      <td>0.984100</td>\n",
       "      <td>0.534021</td>\n",
       "      <td>0.357465</td>\n",
       "      <td>0.363252</td>\n",
       "    </tr>\n",
       "    <tr>\n",
       "      <th>3</th>\n",
       "      <td>-1.012773</td>\n",
       "      <td>-0.859524</td>\n",
       "      <td>-1.099417</td>\n",
       "      <td>0.358304</td>\n",
       "      <td>0.313745</td>\n",
       "    </tr>\n",
       "  </tbody>\n",
       "</table>\n",
       "</div>"
      ],
      "text/plain": [
       "          N         E         O         A         C\n",
       "0  0.761211 -0.783172  0.417110  0.229151 -1.298879\n",
       "1 -1.012371 -0.733610 -0.245170 -1.343440  0.351950\n",
       "2 -0.955963  0.984100  0.534021  0.357465  0.363252\n",
       "3 -1.012773 -0.859524 -1.099417  0.358304  0.313745"
      ]
     },
     "execution_count": 6,
     "metadata": {},
     "output_type": "execute_result"
    }
   ],
   "source": [
    "clusPascal"
   ]
  },
  {
   "cell_type": "code",
   "execution_count": null,
   "metadata": {},
   "outputs": [],
   "source": []
  },
  {
   "cell_type": "code",
   "execution_count": null,
   "metadata": {},
   "outputs": [],
   "source": []
  },
  {
   "cell_type": "code",
   "execution_count": 9,
   "metadata": {},
   "outputs": [
    {
     "data": {
      "text/html": [
       "<div>\n",
       "<style scoped>\n",
       "    .dataframe tbody tr th:only-of-type {\n",
       "        vertical-align: middle;\n",
       "    }\n",
       "\n",
       "    .dataframe tbody tr th {\n",
       "        vertical-align: top;\n",
       "    }\n",
       "\n",
       "    .dataframe thead th {\n",
       "        text-align: right;\n",
       "    }\n",
       "</style>\n",
       "<table border=\"1\" class=\"dataframe\">\n",
       "  <thead>\n",
       "    <tr style=\"text-align: right;\">\n",
       "      <th></th>\n",
       "      <th>Average</th>\n",
       "      <th>SelfCentered</th>\n",
       "      <th>Reserved</th>\n",
       "      <th>RoleModel</th>\n",
       "    </tr>\n",
       "  </thead>\n",
       "  <tbody>\n",
       "    <tr>\n",
       "      <th>0</th>\n",
       "      <td>NaN</td>\n",
       "      <td>NaN</td>\n",
       "      <td>NaN</td>\n",
       "      <td>NaN</td>\n",
       "    </tr>\n",
       "    <tr>\n",
       "      <th>1</th>\n",
       "      <td>NaN</td>\n",
       "      <td>NaN</td>\n",
       "      <td>NaN</td>\n",
       "      <td>NaN</td>\n",
       "    </tr>\n",
       "    <tr>\n",
       "      <th>2</th>\n",
       "      <td>NaN</td>\n",
       "      <td>NaN</td>\n",
       "      <td>NaN</td>\n",
       "      <td>0.784818</td>\n",
       "    </tr>\n",
       "    <tr>\n",
       "      <th>3</th>\n",
       "      <td>NaN</td>\n",
       "      <td>NaN</td>\n",
       "      <td>1.013646</td>\n",
       "      <td>NaN</td>\n",
       "    </tr>\n",
       "  </tbody>\n",
       "</table>\n",
       "</div>"
      ],
      "text/plain": [
       "   Average  SelfCentered  Reserved  RoleModel\n",
       "0      NaN           NaN       NaN        NaN\n",
       "1      NaN           NaN       NaN        NaN\n",
       "2      NaN           NaN       NaN   0.784818\n",
       "3      NaN           NaN  1.013646        NaN"
      ]
     },
     "execution_count": 9,
     "metadata": {},
     "output_type": "execute_result"
    }
   ],
   "source": [
    "distdf = pd.DataFrame(cdist(clusPascal, clusGerlach, metric='euclidean'), \n",
    "                      columns = ['Average','SelfCentered','Reserved','RoleModel'])\n",
    "distdf[distdf<1.1]"
   ]
  },
  {
   "cell_type": "code",
   "execution_count": null,
   "metadata": {},
   "outputs": [],
   "source": []
  },
  {
   "cell_type": "code",
   "execution_count": null,
   "metadata": {},
   "outputs": [],
   "source": []
  },
  {
   "cell_type": "markdown",
   "metadata": {},
   "source": [
    "## Role Model"
   ]
  },
  {
   "cell_type": "code",
   "execution_count": 13,
   "metadata": {},
   "outputs": [
    {
     "data": {
      "text/plain": [
       "<matplotlib.collections.LineCollection at 0x10c2a99b0>"
      ]
     },
     "execution_count": 13,
     "metadata": {},
     "output_type": "execute_result"
    },
    {
     "data": {
      "image/png": "[encoded data removed]",
      "text/plain": [
       "<Figure size 432x288 with 1 Axes>"
      ]
     },
     "metadata": {},
     "output_type": "display_data"
    }
   ],
   "source": [
    "r = '#d62728'\n",
    "g = '#2ca02c'\n",
    "y = '#ff7f0e'\n",
    "b = '#1f77b4'\n",
    "plt.scatter(['N','E','O','A','C'],clusPascal.iloc[2], marker='D', color='r')\n",
    "plt.scatter(['N','E','O','A','C'],clusGerlach.loc['RoleModel'], marker='o', color=r)\n",
    "plt.ylim(-1.25,1.25)\n",
    "plt.hlines(y=0,xmin='N',xmax='C',linestyles='dashed')"
   ]
  },
  {
   "cell_type": "markdown",
   "metadata": {},
   "source": [
    "## Reserved"
   ]
  },
  {
   "cell_type": "code",
   "execution_count": 14,
   "metadata": {},
   "outputs": [
    {
     "data": {
      "text/plain": [
       "<matplotlib.collections.LineCollection at 0x10c382780>"
      ]
     },
     "execution_count": 14,
     "metadata": {},
     "output_type": "execute_result"
    },
    {
     "data": {
      "image/png": "[encoded data removed]",
      "text/plain": [
       "<Figure size 432x288 with 1 Axes>"
      ]
     },
     "metadata": {},
     "output_type": "display_data"
    }
   ],
   "source": [
    "plt.scatter(['N','E','O','A','C'],clusPascal.iloc[3], marker='D', color='g')\n",
    "plt.scatter(['N','E','O','A','C'],clusGerlach.loc['Reserved'], marker='o', color=g)\n",
    "plt.ylim(-1.25,1.25)\n",
    "plt.hlines(y=0,xmin='N',xmax='C',linestyles='dashed')"
   ]
  },
  {
   "cell_type": "code",
   "execution_count": null,
   "metadata": {},
   "outputs": [],
   "source": []
  }
 ],
 "metadata": {
  "kernelspec": {
   "display_name": "Python 3",
   "language": "python",
   "name": "python3"
  },
  "language_info": {
   "codemirror_mode": {
    "name": "ipython",
    "version": 3
   },
   "file_extension": ".py",
   "mimetype": "text/x-python",
   "name": "python",
   "nbconvert_exporter": "python",
   "pygments_lexer": "ipython3",
   "version": "3.6.4"
  }
 },
 "nbformat": 4,
 "nbformat_minor": 2
}
