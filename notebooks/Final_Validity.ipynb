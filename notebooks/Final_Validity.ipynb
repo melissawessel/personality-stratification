{
 "cells": [
  {
   "cell_type": "markdown",
   "metadata": {},
   "source": [
    "# Validity Organized"
   ]
  },
  {
   "cell_type": "code",
   "execution_count": 1,
   "metadata": {},
   "outputs": [],
   "source": [
    "import os,sys\n",
    "import numpy as np\n",
    "import pandas as pd\n",
    "from scipy import stats\n",
    "\n",
    "import warnings; warnings.filterwarnings('ignore');\n",
    "\n",
    "src_dir = os.path.abspath(os.pardir)\n",
    "sys.path[0] = src_dir\n",
    "\n",
    "from analysis.CodingScoring import scoreTIPI, normTIPI, stratTIPI"
   ]
  },
  {
   "cell_type": "code",
   "execution_count": 2,
   "metadata": {},
   "outputs": [],
   "source": [
    "questions = pd.read_csv('../data/External/dataHeadings.csv')\n",
    "dataRaw = pd.read_csv('../data/External/dataRaw.csv', names=questions.QuestionCode)\n",
    "# dataRaw.head()"
   ]
  },
  {
   "cell_type": "code",
   "execution_count": 3,
   "metadata": {},
   "outputs": [],
   "source": [
    "df = dataRaw.join(normTIPI(scoreTIPI(dataRaw)))\n",
    "# df.head()"
   ]
  },
  {
   "cell_type": "code",
   "execution_count": 4,
   "metadata": {},
   "outputs": [],
   "source": [
    "cxOCEAS = df[['Chronotype','O','C','E','A','S']]\n",
    "# cxOCEAS.to_csv('chronotypeOCEAS.csv')\n",
    "# cxOCEAS.head()"
   ]
  },
  {
   "cell_type": "code",
   "execution_count": 45,
   "metadata": {},
   "outputs": [
    {
     "data": {
      "text/html": [
       "<div>\n",
       "<style scoped>\n",
       "    .dataframe tbody tr th:only-of-type {\n",
       "        vertical-align: middle;\n",
       "    }\n",
       "\n",
       "    .dataframe tbody tr th {\n",
       "        vertical-align: top;\n",
       "    }\n",
       "\n",
       "    .dataframe thead th {\n",
       "        text-align: right;\n",
       "    }\n",
       "</style>\n",
       "<table border=\"1\" class=\"dataframe\">\n",
       "  <thead>\n",
       "    <tr style=\"text-align: right;\">\n",
       "      <th>Chronotype</th>\n",
       "      <th>Lark</th>\n",
       "      <th>Owl</th>\n",
       "      <th>Strong lark</th>\n",
       "      <th>Strong owl</th>\n",
       "    </tr>\n",
       "  </thead>\n",
       "  <tbody>\n",
       "    <tr>\n",
       "      <th>O</th>\n",
       "      <td>-0.250813</td>\n",
       "      <td>-0.222538</td>\n",
       "      <td>-0.239012</td>\n",
       "      <td>-0.062307</td>\n",
       "    </tr>\n",
       "    <tr>\n",
       "      <th>C</th>\n",
       "      <td>0.451232</td>\n",
       "      <td>0.151161</td>\n",
       "      <td>0.596748</td>\n",
       "      <td>-0.081510</td>\n",
       "    </tr>\n",
       "    <tr>\n",
       "      <th>E</th>\n",
       "      <td>-0.198122</td>\n",
       "      <td>-0.231596</td>\n",
       "      <td>-0.232154</td>\n",
       "      <td>-0.247742</td>\n",
       "    </tr>\n",
       "    <tr>\n",
       "      <th>A</th>\n",
       "      <td>0.164111</td>\n",
       "      <td>0.072580</td>\n",
       "      <td>0.164584</td>\n",
       "      <td>-0.020602</td>\n",
       "    </tr>\n",
       "    <tr>\n",
       "      <th>S</th>\n",
       "      <td>0.188074</td>\n",
       "      <td>0.099233</td>\n",
       "      <td>0.223488</td>\n",
       "      <td>-0.042507</td>\n",
       "    </tr>\n",
       "  </tbody>\n",
       "</table>\n",
       "</div>"
      ],
      "text/plain": [
       "Chronotype      Lark       Owl  Strong lark  Strong owl\n",
       "O          -0.250813 -0.222538    -0.239012   -0.062307\n",
       "C           0.451232  0.151161     0.596748   -0.081510\n",
       "E          -0.198122 -0.231596    -0.232154   -0.247742\n",
       "A           0.164111  0.072580     0.164584   -0.020602\n",
       "S           0.188074  0.099233     0.223488   -0.042507"
      ]
     },
     "execution_count": 45,
     "metadata": {},
     "output_type": "execute_result"
    }
   ],
   "source": [
    "cxOCEAS.groupby('Chronotype').mean().transpose()"
   ]
  },
  {
   "cell_type": "markdown",
   "metadata": {},
   "source": [
    "One way ANOVA on continuous data"
   ]
  },
  {
   "cell_type": "code",
   "execution_count": 13,
   "metadata": {},
   "outputs": [
    {
     "name": "stdout",
     "output_type": "stream",
     "text": [
      "F=30.401000, p=0.000000\n",
      "F=300.886551, p=0.000000\n",
      "F=1.638169, p=0.178211\n",
      "F=26.590246, p=0.000000\n",
      "F=42.857438, p=0.000000\n"
     ]
    }
   ],
   "source": [
    "for trait in ['O','C','E','A','S']:\n",
    "    sl = cxOCEAS[trait][cxOCEAS['Chronotype']=='Strong lark'].dropna()\n",
    "    l = cxOCEAS[trait][cxOCEAS['Chronotype']=='Lark'].dropna()\n",
    "    o = cxOCEAS[trait][cxOCEAS['Chronotype']=='Owl'].dropna()\n",
    "    so = cxOCEAS[trait][cxOCEAS['Chronotype']=='Strong owl'].dropna()\n",
    "    f_val, p_val = stats.f_oneway(sl,l,o,so)\n",
    "    print('F=%f, p=%f'%(f_val,p_val))"
   ]
  },
  {
   "cell_type": "code",
   "execution_count": 48,
   "metadata": {},
   "outputs": [],
   "source": [
    "cxOCEAS['N'] = 0-cxOCEAS['S']\n",
    "cxOCEAN = cxOCEAS.drop(columns=['S']).dropna()\n",
    "cxOCEAN_strat = stratTIPI(cxOCEAN,3)"
   ]
  },
  {
   "cell_type": "code",
   "execution_count": 54,
   "metadata": {},
   "outputs": [
    {
     "data": {
      "text/html": [
       "<div>\n",
       "<style scoped>\n",
       "    .dataframe tbody tr th:only-of-type {\n",
       "        vertical-align: middle;\n",
       "    }\n",
       "\n",
       "    .dataframe tbody tr th {\n",
       "        vertical-align: top;\n",
       "    }\n",
       "\n",
       "    .dataframe thead th {\n",
       "        text-align: right;\n",
       "    }\n",
       "</style>\n",
       "<table border=\"1\" class=\"dataframe\">\n",
       "  <thead>\n",
       "    <tr style=\"text-align: right;\">\n",
       "      <th>Chronotype</th>\n",
       "      <th>Lark</th>\n",
       "      <th>Owl</th>\n",
       "      <th>Strong lark</th>\n",
       "      <th>Strong owl</th>\n",
       "    </tr>\n",
       "    <tr>\n",
       "      <th>N_strat</th>\n",
       "      <th></th>\n",
       "      <th></th>\n",
       "      <th></th>\n",
       "      <th></th>\n",
       "    </tr>\n",
       "  </thead>\n",
       "  <tbody>\n",
       "    <tr>\n",
       "      <th>-1</th>\n",
       "      <td>1195</td>\n",
       "      <td>1538</td>\n",
       "      <td>388</td>\n",
       "      <td>869</td>\n",
       "    </tr>\n",
       "    <tr>\n",
       "      <th>0</th>\n",
       "      <td>2788</td>\n",
       "      <td>3756</td>\n",
       "      <td>732</td>\n",
       "      <td>2120</td>\n",
       "    </tr>\n",
       "    <tr>\n",
       "      <th>1</th>\n",
       "      <td>470</td>\n",
       "      <td>838</td>\n",
       "      <td>148</td>\n",
       "      <td>697</td>\n",
       "    </tr>\n",
       "  </tbody>\n",
       "</table>\n",
       "</div>"
      ],
      "text/plain": [
       "Chronotype  Lark   Owl  Strong lark  Strong owl\n",
       "N_strat                                        \n",
       "-1          1195  1538          388         869\n",
       " 0          2788  3756          732        2120\n",
       " 1           470   838          148         697"
      ]
     },
     "execution_count": 54,
     "metadata": {},
     "output_type": "execute_result"
    }
   ],
   "source": [
    "pd.crosstab(index=cxOCEAN_strat['N_strat'],columns=cxOCEAN_strat['Chronotype'])"
   ]
  },
  {
   "cell_type": "markdown",
   "metadata": {},
   "source": [
    "Chi-square on stratified data"
   ]
  },
  {
   "cell_type": "code",
   "execution_count": 8,
   "metadata": {},
   "outputs": [
    {
     "name": "stdout",
     "output_type": "stream",
     "text": [
      "Chi2=72.095988, p=0.000000, dof=6.000000\n",
      "Chi2=705.254558, p=0.000000, dof=6.000000\n",
      "Chi2=52.354679, p=0.000000, dof=6.000000\n",
      "Chi2=83.631618, p=0.000000, dof=6.000000\n",
      "Chi2=139.858501, p=0.000000, dof=6.000000\n"
     ]
    }
   ],
   "source": [
    "for trait in ['O','C','E','A','N']:\n",
    "    x = pd.crosstab(index=cxOCEAN_strat['%s_strat'%trait],columns=cxOCEAN_strat['Chronotype'])\n",
    "    chi2, p, dof, expected = stats.chi2_contingency(x.values)\n",
    "    print('Chi2=%f, p=%f, dof=%f'%(chi2,p,dof))"
   ]
  },
  {
   "cell_type": "markdown",
   "metadata": {},
   "source": [
    "Investigate Extraversion"
   ]
  },
  {
   "cell_type": "code",
   "execution_count": 12,
   "metadata": {},
   "outputs": [
    {
     "data": {
      "text/html": [
       "<div>\n",
       "<style scoped>\n",
       "    .dataframe tbody tr th:only-of-type {\n",
       "        vertical-align: middle;\n",
       "    }\n",
       "\n",
       "    .dataframe tbody tr th {\n",
       "        vertical-align: top;\n",
       "    }\n",
       "\n",
       "    .dataframe thead th {\n",
       "        text-align: right;\n",
       "    }\n",
       "</style>\n",
       "<table border=\"1\" class=\"dataframe\">\n",
       "  <thead>\n",
       "    <tr style=\"text-align: right;\">\n",
       "      <th>Chronotype</th>\n",
       "      <th>Strong lark</th>\n",
       "      <th>Lark</th>\n",
       "      <th>Owl</th>\n",
       "      <th>Strong owl</th>\n",
       "    </tr>\n",
       "    <tr>\n",
       "      <th>E_strat</th>\n",
       "      <th></th>\n",
       "      <th></th>\n",
       "      <th></th>\n",
       "      <th></th>\n",
       "    </tr>\n",
       "  </thead>\n",
       "  <tbody>\n",
       "    <tr>\n",
       "      <th>-1</th>\n",
       "      <td>341</td>\n",
       "      <td>1090</td>\n",
       "      <td>1564</td>\n",
       "      <td>1077</td>\n",
       "    </tr>\n",
       "    <tr>\n",
       "      <th>0</th>\n",
       "      <td>725</td>\n",
       "      <td>2767</td>\n",
       "      <td>3768</td>\n",
       "      <td>2044</td>\n",
       "    </tr>\n",
       "    <tr>\n",
       "      <th>1</th>\n",
       "      <td>202</td>\n",
       "      <td>596</td>\n",
       "      <td>800</td>\n",
       "      <td>565</td>\n",
       "    </tr>\n",
       "  </tbody>\n",
       "</table>\n",
       "</div>"
      ],
      "text/plain": [
       "Chronotype  Strong lark  Lark   Owl  Strong owl\n",
       "E_strat                                        \n",
       "-1                  341  1090  1564        1077\n",
       " 0                  725  2767  3768        2044\n",
       " 1                  202   596   800         565"
      ]
     },
     "execution_count": 12,
     "metadata": {},
     "output_type": "execute_result"
    }
   ],
   "source": [
    "chi = pd.crosstab(index=cxOCEAN_strat['E_strat'],columns=cxOCEAN_strat['Chronotype'])\n",
    "chi[['Strong lark','Lark','Owl','Strong owl']]"
   ]
  },
  {
   "cell_type": "code",
   "execution_count": 20,
   "metadata": {},
   "outputs": [
    {
     "data": {
      "text/html": [
       "<div>\n",
       "<style scoped>\n",
       "    .dataframe tbody tr th:only-of-type {\n",
       "        vertical-align: middle;\n",
       "    }\n",
       "\n",
       "    .dataframe tbody tr th {\n",
       "        vertical-align: top;\n",
       "    }\n",
       "\n",
       "    .dataframe thead th {\n",
       "        text-align: right;\n",
       "    }\n",
       "</style>\n",
       "<table border=\"1\" class=\"dataframe\">\n",
       "  <thead>\n",
       "    <tr style=\"text-align: right;\">\n",
       "      <th>Chronotype</th>\n",
       "      <th>Strong lark</th>\n",
       "      <th>Lark</th>\n",
       "      <th>Owl</th>\n",
       "      <th>Strong owl</th>\n",
       "    </tr>\n",
       "  </thead>\n",
       "  <tbody>\n",
       "    <tr>\n",
       "      <th>E</th>\n",
       "      <td>-0.231328</td>\n",
       "      <td>-0.195902</td>\n",
       "      <td>-0.229726</td>\n",
       "      <td>-0.244788</td>\n",
       "    </tr>\n",
       "  </tbody>\n",
       "</table>\n",
       "</div>"
      ],
      "text/plain": [
       "Chronotype  Strong lark      Lark       Owl  Strong owl\n",
       "E             -0.231328 -0.195902 -0.229726   -0.244788"
      ]
     },
     "execution_count": 20,
     "metadata": {},
     "output_type": "execute_result"
    }
   ],
   "source": [
    "anova = cxOCEAN_strat[['Chronotype','E']].groupby(['Chronotype']).mean().transpose()\n",
    "anova[['Strong lark','Lark','Owl','Strong owl']]"
   ]
  },
  {
   "cell_type": "markdown",
   "metadata": {},
   "source": [
    "### Favorite color"
   ]
  },
  {
   "cell_type": "code",
   "execution_count": 5,
   "metadata": {},
   "outputs": [],
   "source": [
    "std_colors = ['blue','green','black','yellow','purple','red','orange','pink']"
   ]
  },
  {
   "cell_type": "code",
   "execution_count": 6,
   "metadata": {},
   "outputs": [],
   "source": [
    "df_color_OCEAN = df[['FavColor','O','C','E','A','S']][df['FavColor'].str.lower().str.strip().isin(std_colors)]"
   ]
  },
  {
   "cell_type": "code",
   "execution_count": 6,
   "metadata": {},
   "outputs": [],
   "source": [
    "df_color_OCEAN['FavColor'] = df_color_OCEAN['FavColor'].str.lower().str.strip()"
   ]
  },
  {
   "cell_type": "code",
   "execution_count": 7,
   "metadata": {},
   "outputs": [],
   "source": [
    "df_color_OCEAN['N'] = 0-df_color_OCEAN['S']\n",
    "df_color_OCEAN = df_color_OCEAN.drop(columns='S')\n",
    "df_color_OCEAN = df_color_OCEAN.dropna()"
   ]
  },
  {
   "cell_type": "code",
   "execution_count": 46,
   "metadata": {},
   "outputs": [
    {
     "data": {
      "text/html": [
       "<div>\n",
       "<style scoped>\n",
       "    .dataframe tbody tr th:only-of-type {\n",
       "        vertical-align: middle;\n",
       "    }\n",
       "\n",
       "    .dataframe tbody tr th {\n",
       "        vertical-align: top;\n",
       "    }\n",
       "\n",
       "    .dataframe thead th {\n",
       "        text-align: right;\n",
       "    }\n",
       "</style>\n",
       "<table border=\"1\" class=\"dataframe\">\n",
       "  <thead>\n",
       "    <tr style=\"text-align: right;\">\n",
       "      <th>FavColor</th>\n",
       "      <th>black</th>\n",
       "      <th>blue</th>\n",
       "      <th>green</th>\n",
       "      <th>orange</th>\n",
       "      <th>pink</th>\n",
       "      <th>purple</th>\n",
       "      <th>red</th>\n",
       "      <th>yellow</th>\n",
       "    </tr>\n",
       "  </thead>\n",
       "  <tbody>\n",
       "    <tr>\n",
       "      <th>O</th>\n",
       "      <td>-0.162288</td>\n",
       "      <td>-0.266999</td>\n",
       "      <td>-0.184459</td>\n",
       "      <td>-0.048483</td>\n",
       "      <td>-0.372666</td>\n",
       "      <td>-0.222334</td>\n",
       "      <td>-0.202441</td>\n",
       "      <td>-0.166028</td>\n",
       "    </tr>\n",
       "    <tr>\n",
       "      <th>C</th>\n",
       "      <td>0.099729</td>\n",
       "      <td>0.260581</td>\n",
       "      <td>0.235971</td>\n",
       "      <td>0.187997</td>\n",
       "      <td>0.264777</td>\n",
       "      <td>0.209272</td>\n",
       "      <td>0.233502</td>\n",
       "      <td>0.267389</td>\n",
       "    </tr>\n",
       "    <tr>\n",
       "      <th>E</th>\n",
       "      <td>-0.314979</td>\n",
       "      <td>-0.253572</td>\n",
       "      <td>-0.277718</td>\n",
       "      <td>-0.094479</td>\n",
       "      <td>-0.123006</td>\n",
       "      <td>-0.192427</td>\n",
       "      <td>-0.137823</td>\n",
       "      <td>-0.130981</td>\n",
       "    </tr>\n",
       "    <tr>\n",
       "      <th>A</th>\n",
       "      <td>-0.229243</td>\n",
       "      <td>0.075490</td>\n",
       "      <td>0.101812</td>\n",
       "      <td>0.065918</td>\n",
       "      <td>0.137048</td>\n",
       "      <td>0.190280</td>\n",
       "      <td>0.067201</td>\n",
       "      <td>0.121796</td>\n",
       "    </tr>\n",
       "    <tr>\n",
       "      <th>N</th>\n",
       "      <td>0.080780</td>\n",
       "      <td>-0.198233</td>\n",
       "      <td>-0.132225</td>\n",
       "      <td>-0.098176</td>\n",
       "      <td>0.265020</td>\n",
       "      <td>0.001422</td>\n",
       "      <td>-0.145637</td>\n",
       "      <td>-0.010801</td>\n",
       "    </tr>\n",
       "    <tr>\n",
       "      <th>O_strat</th>\n",
       "      <td>-0.097865</td>\n",
       "      <td>-0.135864</td>\n",
       "      <td>-0.099234</td>\n",
       "      <td>-0.043299</td>\n",
       "      <td>-0.176056</td>\n",
       "      <td>-0.107710</td>\n",
       "      <td>-0.117253</td>\n",
       "      <td>-0.092342</td>\n",
       "    </tr>\n",
       "    <tr>\n",
       "      <th>C_strat</th>\n",
       "      <td>0.021352</td>\n",
       "      <td>0.086478</td>\n",
       "      <td>0.075885</td>\n",
       "      <td>0.028866</td>\n",
       "      <td>0.089202</td>\n",
       "      <td>0.066510</td>\n",
       "      <td>0.080402</td>\n",
       "      <td>0.087838</td>\n",
       "    </tr>\n",
       "    <tr>\n",
       "      <th>E_strat</th>\n",
       "      <td>-0.181495</td>\n",
       "      <td>-0.139746</td>\n",
       "      <td>-0.153594</td>\n",
       "      <td>-0.059794</td>\n",
       "      <td>-0.091549</td>\n",
       "      <td>-0.108888</td>\n",
       "      <td>-0.069514</td>\n",
       "      <td>-0.069820</td>\n",
       "    </tr>\n",
       "    <tr>\n",
       "      <th>A_strat</th>\n",
       "      <td>-0.033808</td>\n",
       "      <td>0.153763</td>\n",
       "      <td>0.167457</td>\n",
       "      <td>0.140206</td>\n",
       "      <td>0.185446</td>\n",
       "      <td>0.211301</td>\n",
       "      <td>0.130653</td>\n",
       "      <td>0.175676</td>\n",
       "    </tr>\n",
       "    <tr>\n",
       "      <th>N_strat</th>\n",
       "      <td>-0.019573</td>\n",
       "      <td>-0.170153</td>\n",
       "      <td>-0.129880</td>\n",
       "      <td>-0.107216</td>\n",
       "      <td>0.086854</td>\n",
       "      <td>-0.064155</td>\n",
       "      <td>-0.148241</td>\n",
       "      <td>-0.054054</td>\n",
       "    </tr>\n",
       "  </tbody>\n",
       "</table>\n",
       "</div>"
      ],
      "text/plain": [
       "FavColor     black      blue     green    orange      pink    purple  \\\n",
       "O        -0.162288 -0.266999 -0.184459 -0.048483 -0.372666 -0.222334   \n",
       "C         0.099729  0.260581  0.235971  0.187997  0.264777  0.209272   \n",
       "E        -0.314979 -0.253572 -0.277718 -0.094479 -0.123006 -0.192427   \n",
       "A        -0.229243  0.075490  0.101812  0.065918  0.137048  0.190280   \n",
       "N         0.080780 -0.198233 -0.132225 -0.098176  0.265020  0.001422   \n",
       "O_strat  -0.097865 -0.135864 -0.099234 -0.043299 -0.176056 -0.107710   \n",
       "C_strat   0.021352  0.086478  0.075885  0.028866  0.089202  0.066510   \n",
       "E_strat  -0.181495 -0.139746 -0.153594 -0.059794 -0.091549 -0.108888   \n",
       "A_strat  -0.033808  0.153763  0.167457  0.140206  0.185446  0.211301   \n",
       "N_strat  -0.019573 -0.170153 -0.129880 -0.107216  0.086854 -0.064155   \n",
       "\n",
       "FavColor       red    yellow  \n",
       "O        -0.202441 -0.166028  \n",
       "C         0.233502  0.267389  \n",
       "E        -0.137823 -0.130981  \n",
       "A         0.067201  0.121796  \n",
       "N        -0.145637 -0.010801  \n",
       "O_strat  -0.117253 -0.092342  \n",
       "C_strat   0.080402  0.087838  \n",
       "E_strat  -0.069514 -0.069820  \n",
       "A_strat   0.130653  0.175676  \n",
       "N_strat  -0.148241 -0.054054  "
      ]
     },
     "execution_count": 46,
     "metadata": {},
     "output_type": "execute_result"
    }
   ],
   "source": [
    "df_color_OCEAN.groupby('FavColor').mean().transpose()"
   ]
  },
  {
   "cell_type": "code",
   "execution_count": null,
   "metadata": {},
   "outputs": [],
   "source": []
  },
  {
   "cell_type": "code",
   "execution_count": 35,
   "metadata": {},
   "outputs": [
    {
     "name": "stdout",
     "output_type": "stream",
     "text": [
      "F=6.150761, p=0.000000\n",
      "F=2.534130, p=0.013251\n",
      "F=5.468164, p=0.000003\n",
      "F=11.231668, p=0.000000\n",
      "F=20.434863, p=0.000000\n"
     ]
    }
   ],
   "source": [
    "for trait in ['O','C','E','A','N']:\n",
    "    b = df_color_OCEAN[trait][df_color_OCEAN['FavColor']=='blue'].dropna()\n",
    "    g = df_color_OCEAN[trait][df_color_OCEAN['FavColor']=='green'].dropna()\n",
    "    bl = df_color_OCEAN[trait][df_color_OCEAN['FavColor']=='black'].dropna()\n",
    "    y = df_color_OCEAN[trait][df_color_OCEAN['FavColor']=='yellow'].dropna()\n",
    "    p = df_color_OCEAN[trait][df_color_OCEAN['FavColor']=='purple'].dropna()\n",
    "    r = df_color_OCEAN[trait][df_color_OCEAN['FavColor']=='red'].dropna()\n",
    "    o = df_color_OCEAN[trait][df_color_OCEAN['FavColor']=='orange'].dropna()\n",
    "    pk = df_color_OCEAN[trait][df_color_OCEAN['FavColor']=='pink'].dropna()\n",
    "    f_val, p_val = stats.f_oneway(b,g,bl,y,p,r,o,pk)\n",
    "    print('F=%f, p=%f'%(f_val,p_val))"
   ]
  },
  {
   "cell_type": "markdown",
   "metadata": {},
   "source": [
    "Chi square"
   ]
  },
  {
   "cell_type": "code",
   "execution_count": 36,
   "metadata": {},
   "outputs": [],
   "source": [
    "df_color_OCEAN_strat = stratTIPI(df_color_OCEAN,3)"
   ]
  },
  {
   "cell_type": "code",
   "execution_count": 47,
   "metadata": {},
   "outputs": [
    {
     "name": "stdout",
     "output_type": "stream",
     "text": [
      "Chi2=38.505321, p=0.000435, dof=14.000000\n",
      "Chi2=23.142801, p=0.057985, dof=14.000000\n",
      "Chi2=42.015415, p=0.000123, dof=14.000000\n",
      "Chi2=82.264428, p=0.000000, dof=14.000000\n",
      "Chi2=127.733672, p=0.000000, dof=14.000000\n"
     ]
    }
   ],
   "source": [
    "for trait in ['O','C','E','A','N']:\n",
    "    x = pd.crosstab(index=df_color_OCEAN_strat['%s_strat'%trait],\n",
    "                    columns=df_color_OCEAN_strat['FavColor'])\n",
    "    chi2, p, dof, expected = stats.chi2_contingency(x.values)\n",
    "    print('Chi2=%f, p=%f, dof=%f'%(chi2,p,dof))"
   ]
  },
  {
   "cell_type": "code",
   "execution_count": 59,
   "metadata": {},
   "outputs": [
    {
     "data": {
      "text/html": [
       "<div>\n",
       "<style scoped>\n",
       "    .dataframe tbody tr th:only-of-type {\n",
       "        vertical-align: middle;\n",
       "    }\n",
       "\n",
       "    .dataframe tbody tr th {\n",
       "        vertical-align: top;\n",
       "    }\n",
       "\n",
       "    .dataframe thead th {\n",
       "        text-align: right;\n",
       "    }\n",
       "</style>\n",
       "<table border=\"1\" class=\"dataframe\">\n",
       "  <thead>\n",
       "    <tr style=\"text-align: right;\">\n",
       "      <th>FavColor</th>\n",
       "      <th>black</th>\n",
       "      <th>blue</th>\n",
       "      <th>green</th>\n",
       "      <th>orange</th>\n",
       "      <th>pink</th>\n",
       "      <th>purple</th>\n",
       "      <th>red</th>\n",
       "      <th>yellow</th>\n",
       "    </tr>\n",
       "    <tr>\n",
       "      <th>N_strat</th>\n",
       "      <th></th>\n",
       "      <th></th>\n",
       "      <th></th>\n",
       "      <th></th>\n",
       "      <th></th>\n",
       "      <th></th>\n",
       "      <th></th>\n",
       "      <th></th>\n",
       "    </tr>\n",
       "  </thead>\n",
       "  <tbody>\n",
       "    <tr>\n",
       "      <th>-1</th>\n",
       "      <td>129</td>\n",
       "      <td>1318</td>\n",
       "      <td>714</td>\n",
       "      <td>121</td>\n",
       "      <td>56</td>\n",
       "      <td>383</td>\n",
       "      <td>333</td>\n",
       "      <td>99</td>\n",
       "    </tr>\n",
       "    <tr>\n",
       "      <th>0</th>\n",
       "      <td>315</td>\n",
       "      <td>2790</td>\n",
       "      <td>1669</td>\n",
       "      <td>295</td>\n",
       "      <td>277</td>\n",
       "      <td>1042</td>\n",
       "      <td>705</td>\n",
       "      <td>270</td>\n",
       "    </tr>\n",
       "    <tr>\n",
       "      <th>1</th>\n",
       "      <td>118</td>\n",
       "      <td>529</td>\n",
       "      <td>358</td>\n",
       "      <td>69</td>\n",
       "      <td>93</td>\n",
       "      <td>274</td>\n",
       "      <td>156</td>\n",
       "      <td>75</td>\n",
       "    </tr>\n",
       "  </tbody>\n",
       "</table>\n",
       "</div>"
      ],
      "text/plain": [
       "FavColor  black  blue  green  orange  pink  purple  red  yellow\n",
       "N_strat                                                        \n",
       "-1          129  1318    714     121    56     383  333      99\n",
       " 0          315  2790   1669     295   277    1042  705     270\n",
       " 1          118   529    358      69    93     274  156      75"
      ]
     },
     "execution_count": 59,
     "metadata": {},
     "output_type": "execute_result"
    }
   ],
   "source": [
    "pd.crosstab(index=df_color_OCEAN_strat['N_strat'],columns=df_color_OCEAN_strat['FavColor'])"
   ]
  },
  {
   "cell_type": "code",
   "execution_count": null,
   "metadata": {},
   "outputs": [],
   "source": []
  }
 ],
 "metadata": {
  "kernelspec": {
   "display_name": "Python 3",
   "language": "python",
   "name": "python3"
  },
  "language_info": {
   "codemirror_mode": {
    "name": "ipython",
    "version": 3
   },
   "file_extension": ".py",
   "mimetype": "text/x-python",
   "name": "python",
   "nbconvert_exporter": "python",
   "pygments_lexer": "ipython3",
   "version": "3.6.4"
  }
 },
 "nbformat": 4,
 "nbformat_minor": 2
}
