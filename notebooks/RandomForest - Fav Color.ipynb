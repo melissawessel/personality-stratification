{
 "cells": [
  {
   "cell_type": "code",
   "execution_count": 1,
   "metadata": {},
   "outputs": [],
   "source": [
    "import os,sys\n",
    "import numpy as np\n",
    "import pandas as pd\n",
    "import matplotlib.pyplot as plt\n",
    "from sklearn.model_selection import train_test_split\n",
    "from sklearn.ensemble import RandomForestRegressor, RandomForestClassifier\n",
    "\n",
    "src_dir = os.path.abspath(os.pardir)\n",
    "sys.path[0] = src_dir\n",
    "\n",
    "np.set_printoptions(threshold=np.inf)\n",
    "\n",
    "from analysis.CodingScoring import scoreTIPI, normTIPI, stratTIPI"
   ]
  },
  {
   "cell_type": "code",
   "execution_count": 2,
   "metadata": {},
   "outputs": [],
   "source": [
    "questions = pd.read_csv('../data/External/dataHeadings.csv')\n",
    "dataRaw = pd.read_csv('../data/External/dataRaw.csv', names=questions.QuestionCode)\n",
    "df = dataRaw.join(normTIPI(scoreTIPI(dataRaw)))"
   ]
  },
  {
   "cell_type": "code",
   "execution_count": 4,
   "metadata": {},
   "outputs": [],
   "source": [
    "std_colors = ['blue','green','black','yellow','purple','red','orange','pink']"
   ]
  },
  {
   "cell_type": "code",
   "execution_count": 5,
   "metadata": {},
   "outputs": [],
   "source": [
    "df_color_OCEAN = df[['FavColor','O','C','E','A','S']][df['FavColor'].str.lower().str.strip().isin(std_colors)]"
   ]
  },
  {
   "cell_type": "code",
   "execution_count": 6,
   "metadata": {},
   "outputs": [],
   "source": [
    "df_color_OCEAN['FavColor'] = df_color_OCEAN['FavColor'].str.lower().str.strip()"
   ]
  },
  {
   "cell_type": "code",
   "execution_count": 7,
   "metadata": {},
   "outputs": [],
   "source": [
    "df_color_OCEAN['N'] = 0-df_color_OCEAN['S']\n",
    "df_color_OCEAN = df_color_OCEAN.drop(columns='S')\n",
    "df_color_OCEAN = df_color_OCEAN.dropna()"
   ]
  },
  {
   "cell_type": "code",
   "execution_count": 11,
   "metadata": {},
   "outputs": [],
   "source": [
    "# df_color_OCEAN"
   ]
  },
  {
   "cell_type": "code",
   "execution_count": 8,
   "metadata": {},
   "outputs": [],
   "source": [
    "for i,color in enumerate(std_colors):\n",
    "    df_color_OCEAN = df_color_OCEAN.replace(color,i)"
   ]
  },
  {
   "cell_type": "code",
   "execution_count": 9,
   "metadata": {},
   "outputs": [],
   "source": [
    "X = df_color_OCEAN[['O','C','E','A','N']].values\n",
    "y = df_color_OCEAN['FavColor'].values"
   ]
  },
  {
   "cell_type": "code",
   "execution_count": 13,
   "metadata": {},
   "outputs": [
    {
     "data": {
      "text/plain": [
       "array([[ 0.87111501, -1.16315566,  0.34704062, -0.57899029,  0.24200419],\n",
       "       [ 0.43213345,  1.6644988 ,  0.66287663, -0.57899029, -0.09608493],\n",
       "       [-0.44582968,  0.95758518,  0.0312046 , -1.80238153, -1.11035229],\n",
       "       ...,\n",
       "       [-0.00684811,  1.6644988 , -1.86381151,  0.64440095, -1.11035229],\n",
       "       [-0.44582968, -0.45624205, -0.91630346, -0.17119321,  2.27053891],\n",
       "       [-0.88481124, -0.45624205,  0.0312046 , -2.21017862,  1.25627155]])"
      ]
     },
     "execution_count": 13,
     "metadata": {},
     "output_type": "execute_result"
    }
   ],
   "source": [
    "X"
   ]
  },
  {
   "cell_type": "code",
   "execution_count": 14,
   "metadata": {},
   "outputs": [
    {
     "data": {
      "text/plain": [
       "array([5, 1, 0, ..., 1, 4, 7])"
      ]
     },
     "execution_count": 14,
     "metadata": {},
     "output_type": "execute_result"
    }
   ],
   "source": [
    "y"
   ]
  },
  {
   "cell_type": "code",
   "execution_count": 10,
   "metadata": {},
   "outputs": [],
   "source": [
    "X_train, X_test, y_train, y_test = train_test_split(X, y, test_size=0.2, random_state=0)  "
   ]
  },
  {
   "cell_type": "code",
   "execution_count": 11,
   "metadata": {},
   "outputs": [
    {
     "data": {
      "text/plain": [
       "0.2904019688269073"
      ]
     },
     "execution_count": 11,
     "metadata": {},
     "output_type": "execute_result"
    }
   ],
   "source": [
    "rfc = RandomForestClassifier(n_estimators=20,random_state=0) \n",
    "rfc.fit(X_train, y_train)  \n",
    "y_pred = rfc.predict(X_test)\n",
    "rfc.score(X_test, y_test)"
   ]
  },
  {
   "cell_type": "markdown",
   "metadata": {},
   "source": [
    "29% accuracy. 8 color choices - 12.5% would be at chance"
   ]
  },
  {
   "cell_type": "code",
   "execution_count": 13,
   "metadata": {},
   "outputs": [
    {
     "data": {
      "text/plain": [
       "array([0.17460377, 0.22062098, 0.22646022, 0.19868662, 0.17962841])"
      ]
     },
     "execution_count": 13,
     "metadata": {},
     "output_type": "execute_result"
    }
   ],
   "source": [
    "rfc.feature_importances_"
   ]
  },
  {
   "cell_type": "code",
   "execution_count": 14,
   "metadata": {},
   "outputs": [
    {
     "name": "stderr",
     "output_type": "stream",
     "text": [
      "/usr/local/lib/python3.6/site-packages/pandas/core/indexing.py:194: SettingWithCopyWarning: \n",
      "A value is trying to be set on a copy of a slice from a DataFrame\n",
      "\n",
      "See the caveats in the documentation: http://pandas.pydata.org/pandas-docs/stable/indexing.html#indexing-view-versus-copy\n",
      "  self._setitem_with_indexer(indexer, value)\n"
     ]
    }
   ],
   "source": [
    "df_color_OCEAN = stratTIPI(df_color_OCEAN,3)"
   ]
  },
  {
   "cell_type": "code",
   "execution_count": 15,
   "metadata": {},
   "outputs": [],
   "source": [
    "X = df_color_OCEAN[['O_strat','C_strat','E_strat','A_strat','N_strat']].values\n",
    "y = df_color_OCEAN['FavColor'].values\n",
    "X_train, X_test, y_train, y_test = train_test_split(X, y, test_size=0.2, random_state=0)  "
   ]
  },
  {
   "cell_type": "code",
   "execution_count": 16,
   "metadata": {},
   "outputs": [
    {
     "data": {
      "text/plain": [
       "0.36587366694011486"
      ]
     },
     "execution_count": 16,
     "metadata": {},
     "output_type": "execute_result"
    }
   ],
   "source": [
    "rfc = RandomForestClassifier(n_estimators=20,random_state=0) \n",
    "rfc.fit(X_train, y_train)  \n",
    "y_pred = rfc.predict(X_test)\n",
    "rfc.score(X_test, y_test)"
   ]
  },
  {
   "cell_type": "markdown",
   "metadata": {},
   "source": [
    "36% accuracy - 3x better than chance"
   ]
  },
  {
   "cell_type": "code",
   "execution_count": 24,
   "metadata": {},
   "outputs": [
    {
     "data": {
      "text/plain": [
       "array([[-1,  1, -1,  0, -1],\n",
       "       [ 1,  0,  1,  0,  0],\n",
       "       [ 0, -1,  0,  1,  0],\n",
       "       ...,\n",
       "       [ 0,  0, -1,  0,  0],\n",
       "       [-1,  1,  0,  0,  0],\n",
       "       [-1,  0, -1,  0,  1]])"
      ]
     },
     "execution_count": 24,
     "metadata": {},
     "output_type": "execute_result"
    }
   ],
   "source": [
    "X_test"
   ]
  },
  {
   "cell_type": "code",
   "execution_count": 26,
   "metadata": {},
   "outputs": [
    {
     "data": {
      "text/plain": [
       "array([0])"
      ]
     },
     "execution_count": 26,
     "metadata": {},
     "output_type": "execute_result"
    }
   ],
   "source": [
    "rfc.predict([[1,0,0,0,0]])"
   ]
  },
  {
   "cell_type": "code",
   "execution_count": 30,
   "metadata": {},
   "outputs": [
    {
     "data": {
      "text/plain": [
       "array([0, 0, 0, 0, 0, 0, 0, 0, 0, 0, 0, 0, 0, 0, 0, 0, 4, 0, 0, 0, 0, 0,\n",
       "       0, 0, 0, 0, 0, 0, 0, 0, 0, 0, 0, 0, 0, 0, 0, 0, 1, 0, 0, 0, 0, 0,\n",
       "       0, 0, 0, 0, 0, 0, 1, 0, 0, 0, 0, 0, 0, 0, 0, 0, 0, 0, 0, 0, 0, 0,\n",
       "       0, 0, 0, 0, 0, 0, 0, 0, 0, 0, 0, 0, 0, 0, 0, 0, 0, 0, 0, 0, 0, 0,\n",
       "       0, 5, 0, 0, 0, 0, 4, 0, 0, 5, 0, 0, 0, 0, 0, 0, 0, 5, 6, 0, 1, 0,\n",
       "       0, 0, 0, 0, 0, 0, 0, 1, 0, 0, 0, 0, 0, 0, 0, 0, 0, 0, 0, 0, 1, 4,\n",
       "       1, 0, 0, 0, 0, 0, 0, 0, 0, 0, 0, 0, 4, 0, 0, 1, 0, 4, 0, 0, 0, 0,\n",
       "       0, 0, 0, 0, 1, 0, 0, 0, 0, 0, 0, 0, 0, 0, 0, 0, 0, 0, 2, 0, 0, 0,\n",
       "       0, 0, 4, 0, 0, 0, 0, 0, 0, 1, 1, 0, 0, 0, 0, 0, 4, 0, 0, 0, 0, 0,\n",
       "       0, 0, 1, 0, 0, 0, 0, 0, 0, 0, 0, 0, 0, 0, 0, 2, 1, 0, 0, 0, 0, 0,\n",
       "       0, 0, 0, 0, 0, 0, 0, 0, 0, 0, 0, 0, 2, 0, 0, 0, 0, 0, 0, 0, 4, 0,\n",
       "       0, 0, 0, 1, 0, 0, 0, 0, 0, 2, 0, 0, 0, 0, 0, 4, 0, 0, 0, 0, 0, 0,\n",
       "       0, 0, 0, 0, 2, 0, 0, 1, 0, 0, 0, 4, 4, 0, 0, 0, 0, 0, 0, 4, 0, 0,\n",
       "       0, 0, 0, 1, 0, 0, 0, 0, 0, 0, 4, 0, 0, 1, 0, 0, 0, 0, 0, 0, 1, 0,\n",
       "       0, 0, 0, 0, 0, 0, 0, 0, 0, 0, 0, 0, 0, 1, 0, 0, 0, 0, 0, 0, 0, 0,\n",
       "       1, 0, 0, 0, 0, 0, 0, 0, 0, 0, 0, 0, 1, 0, 0, 0, 0, 0, 0, 0, 0, 0,\n",
       "       0, 0, 0, 0, 0, 0, 0, 0, 0, 0, 0, 0, 0, 1, 0, 0, 0, 0, 0, 0, 1, 0,\n",
       "       0, 0, 4, 0, 0, 0, 0, 2, 0, 0, 0, 0, 0, 0, 0, 0, 0, 0, 1, 0, 0, 0,\n",
       "       0, 0, 0, 0, 0, 4, 0, 0, 0, 0, 5, 0, 0, 0, 0, 0, 0, 0, 0, 0, 1, 0,\n",
       "       0, 0, 0, 0, 0, 0, 0, 0, 0, 0, 0, 4, 0, 0, 0, 0, 0, 5, 0, 1, 0, 0,\n",
       "       0, 0, 0, 0, 1, 0, 0, 0, 0, 0, 0, 0, 0, 0, 0, 0, 5, 0, 0, 0, 0, 0,\n",
       "       0, 0, 0, 0, 0, 0, 0, 0, 0, 0, 0, 0, 0, 0, 0, 0, 0, 0, 0, 0, 0, 0,\n",
       "       0, 0, 0, 0, 0, 0, 0, 0, 0, 0, 0, 0, 0, 0, 0, 0, 4, 0, 0, 0, 0, 0,\n",
       "       0, 1, 0, 0, 0, 0, 0, 0, 0, 0, 0, 0, 0, 0, 0, 0, 0, 0, 0, 0, 0, 0,\n",
       "       0, 0, 0, 0, 0, 0, 0, 0, 0, 0, 0, 0, 0, 0, 0, 0, 0, 0, 0, 0, 0, 0,\n",
       "       0, 0, 0, 0, 3, 0, 0, 0, 1, 0, 0, 0, 0, 0, 0, 0, 1, 0, 0, 0, 0, 0,\n",
       "       0, 0, 0, 0, 0, 0, 0, 0, 0, 0, 0, 0, 0, 0, 0, 0, 0, 0, 0, 1, 0, 4,\n",
       "       0, 0, 0, 0, 0, 0, 0, 0, 0, 0, 1, 0, 0, 0, 0, 0, 0, 0, 0, 0, 1, 0,\n",
       "       0, 0, 0, 0, 0, 0, 0, 0, 0, 0, 0, 0, 0, 0, 0, 0, 0, 0, 0, 2, 0, 0,\n",
       "       0, 0, 0, 0, 0, 0, 0, 0, 0, 0, 0, 0, 0, 0, 0, 0, 0, 0, 0, 0, 0, 0,\n",
       "       0, 0, 0, 0, 0, 0, 0, 0, 0, 1, 0, 0, 0, 0, 0, 0, 0, 0, 0, 0, 0, 0,\n",
       "       4, 0, 0, 0, 0, 0, 0, 0, 0, 0, 0, 0, 0, 0, 0, 0, 0, 0, 0, 0, 0, 0,\n",
       "       0, 0, 0, 0, 0, 0, 0, 0, 0, 0, 0, 0, 0, 0, 0, 0, 0, 0, 0, 0, 0, 0,\n",
       "       0, 0, 0, 0, 0, 0, 0, 0, 1, 0, 0, 0, 0, 0, 0, 0, 0, 0, 0, 0, 0, 0,\n",
       "       0, 0, 0, 0, 0, 0, 0, 0, 0, 0, 0, 0, 1, 0, 0, 0, 0, 0, 0, 0, 0, 0,\n",
       "       0, 0, 0, 0, 0, 0, 0, 0, 0, 0, 0, 1, 1, 0, 0, 0, 0, 0, 0, 0, 1, 0,\n",
       "       0, 0, 0, 0, 0, 0, 1, 0, 0, 0, 1, 0, 0, 0, 0, 0, 0, 0, 0, 0, 0, 0,\n",
       "       0, 0, 0, 0, 0, 0, 0, 0, 0, 0, 0, 0, 0, 0, 0, 0, 0, 0, 1, 0, 0, 0,\n",
       "       0, 0, 0, 0, 0, 0, 0, 0, 0, 0, 0, 0, 0, 0, 0, 0, 0, 0, 0, 0, 2, 0,\n",
       "       0, 0, 0, 0, 0, 0, 0, 0, 0, 0, 0, 0, 0, 0, 0, 0, 5, 0, 0, 0, 0, 0,\n",
       "       0, 0, 0, 0, 0, 0, 0, 0, 0, 0, 0, 1, 0, 0, 0, 0, 0, 0, 0, 1, 0, 0,\n",
       "       0, 0, 0, 0, 0, 0, 0, 0, 0, 0, 0, 0, 0, 0, 0, 0, 0, 0, 7, 0, 0, 0,\n",
       "       0, 4, 0, 0, 0, 0, 0, 0, 0, 0, 0, 0, 0, 0, 1, 0, 0, 0, 0, 0, 0, 0,\n",
       "       0, 0, 0, 0, 0, 0, 0, 0, 0, 0, 0, 0, 0, 0, 0, 0, 0, 0, 0, 0, 0, 0,\n",
       "       0, 0, 0, 0, 0, 0, 0, 0, 0, 0, 3, 0, 0, 0, 1, 0, 0, 0, 0, 0, 0, 0,\n",
       "       0, 0, 0, 0, 4, 0, 0, 0, 0, 0, 0, 0, 0, 0, 0, 0, 0, 0, 0, 0, 0, 1,\n",
       "       0, 0, 1, 0, 0, 0, 0, 0, 0, 0, 0, 0, 0, 0, 0, 0, 0, 0, 0, 0, 0, 0,\n",
       "       0, 0, 0, 0, 0, 0, 0, 0, 0, 0, 0, 0, 0, 0, 0, 0, 0, 1, 0, 0, 0, 0,\n",
       "       5, 0, 4, 0, 0, 0, 0, 0, 0, 1, 0, 0, 0, 0, 1, 0, 0, 0, 0, 0, 0, 0,\n",
       "       0, 0, 0, 0, 0, 0, 0, 0, 1, 0, 0, 0, 0, 0, 0, 0, 0, 0, 0, 0, 0, 0,\n",
       "       0, 0, 0, 0, 0, 0, 0, 7, 0, 0, 0, 0, 0, 0, 0, 0, 0, 0, 0, 0, 0, 0,\n",
       "       0, 0, 0, 0, 0, 1, 0, 0, 0, 0, 0, 0, 0, 0, 0, 1, 0, 0, 1, 3, 0, 0,\n",
       "       0, 0, 0, 0, 0, 0, 0, 0, 0, 0, 0, 0, 1, 0, 0, 1, 0, 0, 1, 0, 0, 0,\n",
       "       0, 0, 0, 0, 0, 0, 0, 0, 0, 0, 0, 0, 0, 0, 0, 0, 0, 0, 0, 0, 0, 0,\n",
       "       0, 0, 0, 0, 0, 0, 1, 0, 0, 0, 0, 0, 0, 0, 5, 0, 0, 0, 0, 0, 0, 4,\n",
       "       0, 0, 0, 0, 0, 0, 0, 0, 4, 0, 0, 0, 0, 0, 1, 0, 0, 0, 0, 0, 0, 0,\n",
       "       0, 0, 0, 0, 0, 0, 0, 0, 0, 0, 0, 0, 0, 0, 0, 0, 0, 0, 1, 0, 0, 0,\n",
       "       0, 0, 0, 0, 0, 0, 0, 0, 0, 0, 0, 0, 0, 0, 0, 0, 0, 0, 1, 0, 0, 0,\n",
       "       0, 0, 1, 0, 0, 0, 7, 0, 0, 0, 0, 0, 0, 0, 0, 0, 0, 1, 0, 1, 0, 0,\n",
       "       0, 0, 0, 0, 0, 0, 0, 0, 0, 0, 0, 0, 0, 0, 0, 1, 0, 0, 0, 0, 0, 0,\n",
       "       0, 0, 0, 0, 0, 0, 0, 0, 0, 0, 4, 1, 0, 0, 0, 0, 0, 4, 0, 0, 0, 0,\n",
       "       0, 0, 0, 0, 0, 1, 0, 0, 0, 0, 0, 0, 0, 0, 0, 4, 0, 0, 0, 0, 0, 0,\n",
       "       0, 0, 1, 0, 0, 0, 0, 1, 0, 0, 0, 0, 5, 0, 0, 0, 0, 0, 0, 0, 0, 0,\n",
       "       7, 0, 0, 0, 0, 0, 1, 0, 0, 0, 0, 0, 0, 0, 0, 0, 0, 0, 0, 0, 0, 0,\n",
       "       0, 0, 0, 0, 0, 0, 0, 1, 1, 0, 0, 4, 4, 0, 0, 0, 0, 0, 1, 0, 0, 0,\n",
       "       0, 0, 0, 0, 0, 0, 0, 0, 0, 0, 0, 0, 1, 0, 0, 0, 0, 0, 0, 0, 0, 1,\n",
       "       0, 0, 0, 1, 0, 0, 0, 0, 0, 0, 0, 0, 0, 0, 0, 0, 0, 1, 0, 1, 4, 0,\n",
       "       0, 0, 0, 0, 0, 0, 0, 0, 0, 0, 0, 0, 0, 0, 0, 0, 0, 3, 0, 0, 0, 0,\n",
       "       0, 0, 0, 0, 0, 0, 0, 0, 0, 0, 0, 1, 0, 0, 0, 0, 0, 0, 0, 0, 0, 0,\n",
       "       0, 0, 0, 0, 0, 0, 4, 0, 0, 0, 0, 0, 0, 0, 0, 0, 1, 0, 0, 0, 0, 0,\n",
       "       0, 0, 0, 0, 0, 0, 0, 0, 0, 0, 0, 0, 0, 1, 0, 0, 0, 0, 0, 0, 0, 0,\n",
       "       1, 0, 0, 0, 0, 0, 0, 0, 0, 0, 0, 0, 0, 0, 0, 0, 0, 0, 0, 0, 1, 0,\n",
       "       0, 0, 0, 0, 0, 0, 1, 0, 0, 0, 0, 0, 0, 0, 0, 0, 0, 0, 0, 0, 0, 0,\n",
       "       0, 0, 0, 0, 0, 1, 4, 0, 0, 0, 0, 0, 0, 0, 0, 0, 0, 0, 0, 0, 1, 5,\n",
       "       0, 0, 0, 0, 0, 0, 0, 0, 0, 0, 0, 0, 0, 2, 0, 0, 0, 0, 0, 0, 0, 0,\n",
       "       1, 0, 0, 0, 0, 0, 0, 0, 0, 1, 0, 0, 0, 0, 0, 0, 0, 0, 0, 0, 0, 0,\n",
       "       0, 0, 0, 0, 0, 4, 0, 0, 0, 0, 5, 0, 0, 0, 0, 0, 0, 0, 1, 0, 4, 0,\n",
       "       0, 0, 0, 0, 0, 0, 0, 0, 0, 0, 0, 0, 0, 0, 0, 0, 0, 0, 0, 0, 0, 0,\n",
       "       0, 0, 0, 0, 2, 0, 0, 0, 0, 0, 0, 0, 0, 0, 0, 0, 0, 0, 0, 0, 0, 0,\n",
       "       0, 0, 0, 1, 0, 0, 0, 0, 0, 0, 0, 1, 0, 0, 0, 0, 0, 0, 0, 0, 0, 4,\n",
       "       0, 0, 0, 0, 0, 3, 0, 0, 0, 0, 1, 0, 0, 0, 0, 0, 0, 0, 0, 0, 0, 0,\n",
       "       0, 0, 0, 0, 0, 0, 0, 0, 0, 0, 0, 0, 0, 0, 0, 0, 0, 0, 0, 0, 0, 0,\n",
       "       0, 0, 0, 0, 0, 0, 0, 0, 0, 0, 0, 0, 0, 0, 0, 0, 0, 0, 1, 1, 0, 0,\n",
       "       0, 0, 4, 0, 0, 0, 0, 0, 1, 0, 0, 1, 0, 0, 0, 0, 0, 0, 0, 0, 0, 0,\n",
       "       0, 0, 0, 1, 1, 0, 0, 0, 0, 0, 5, 0, 0, 0, 4, 0, 0, 0, 0, 0, 0, 0,\n",
       "       0, 0, 0, 0, 0, 0, 0, 0, 5, 0, 0, 0, 0, 0, 0, 0, 0, 0, 0, 0, 0, 0,\n",
       "       0, 0, 0, 0, 0, 0, 0, 0, 0, 0, 1, 1, 1, 0, 0, 0, 1, 0, 0, 0, 0, 0,\n",
       "       0, 0, 0, 0, 0, 0, 0, 0, 0, 0, 0, 0, 0, 0, 0, 0, 0, 0, 0, 0, 0, 0,\n",
       "       0, 0, 0, 0, 0, 1, 0, 0, 0, 0, 0, 0, 2, 0, 0, 0, 4, 0, 0, 0, 0, 0,\n",
       "       0, 0, 0, 0, 0, 0, 0, 0, 0, 0, 0, 0, 1, 0, 1, 0, 0, 0, 0, 0, 0, 0,\n",
       "       0, 0, 0, 0, 0, 0, 0, 0, 0, 5, 0, 0, 0, 0, 0, 0, 0, 4, 0, 0, 0, 0,\n",
       "       0, 0, 0, 0, 0, 0, 0, 0, 0, 1, 0, 0, 0, 0, 0, 0, 0, 0, 0, 0, 0, 0,\n",
       "       0, 0, 0, 0, 0, 0, 0, 0, 0, 0, 0, 0, 0, 0, 1, 0, 0, 0, 0, 0, 0, 0,\n",
       "       0, 0, 0, 0, 0, 0, 0, 0, 0, 0, 0, 0, 0, 0, 4, 0, 0, 0, 0, 0, 0, 0,\n",
       "       0, 0, 0, 0, 0, 0, 0, 1, 0, 0, 0, 0, 0, 0, 0, 0, 1, 4, 0, 0, 1, 0,\n",
       "       0, 0, 0, 0, 0, 0, 0, 0, 1, 0, 0, 0, 0, 0, 0, 0, 0, 5, 0, 1, 0, 0,\n",
       "       0, 0, 0, 0, 0, 0, 0, 0, 0, 0, 5, 1, 1, 0, 0, 0, 0, 0, 0, 0, 0, 0,\n",
       "       0, 0, 0, 0, 0, 0, 0, 0, 0, 0, 0, 0, 0, 0, 0, 0, 0, 0, 4, 0, 0, 0,\n",
       "       0, 0, 0, 0, 0, 0, 0, 0, 0, 0, 0, 0, 0, 0, 0, 0, 0, 0, 1, 0, 0, 0,\n",
       "       0, 0, 0, 0, 0, 0, 0, 0, 0, 0, 0, 0, 0, 0, 0, 0, 0, 0, 7, 0, 0, 0,\n",
       "       0, 0, 0, 0, 0, 0, 1, 0, 0, 0, 0, 0, 0, 0, 0, 0, 0, 0, 0, 0, 0, 0,\n",
       "       1, 0, 0, 0, 0, 0, 0, 0, 0, 0, 0, 0, 0, 0, 0, 0, 0, 0, 0, 1, 0, 0,\n",
       "       0, 0, 0, 1, 0, 0, 0, 0, 0, 0, 0, 1, 0, 0, 0, 1, 0, 0, 0, 0, 0, 0,\n",
       "       0, 0, 0, 0, 0, 0, 0, 0, 0, 0, 0, 0, 0, 0, 0, 0, 0, 0, 0, 0, 0, 0,\n",
       "       0, 0, 0, 0, 0, 0, 0, 1, 0, 0, 0, 0, 0, 5, 0, 0, 0, 0, 0, 0, 0, 0,\n",
       "       0, 0, 0, 0, 0, 4, 2, 0, 0, 4, 0, 0, 0, 0, 4, 0, 0, 0, 0, 0, 1, 0,\n",
       "       0, 0, 0, 0, 0, 1, 0, 0, 0, 0, 0, 0, 1, 0, 0, 0, 0, 0, 0, 0, 1, 0,\n",
       "       0, 0, 1, 0, 0, 0, 0, 0, 0, 0, 0, 0, 0, 0, 0, 0, 0, 0, 4, 0, 0, 0,\n",
       "       0, 0, 0, 0, 0, 0, 0, 0, 0, 0, 0, 0, 0, 0, 0, 0, 0, 0, 1, 0, 0, 0,\n",
       "       0, 0, 0, 0, 0, 0, 0, 0, 1, 0, 0, 2, 0, 0, 0, 0, 0, 0, 0, 0, 0, 0,\n",
       "       0, 5, 0, 0, 0, 0, 0, 0, 0, 0, 0, 0, 0, 0, 0, 0, 0, 0])"
      ]
     },
     "execution_count": 30,
     "metadata": {},
     "output_type": "execute_result"
    }
   ],
   "source": [
    "y_pred"
   ]
  },
  {
   "cell_type": "code",
   "execution_count": 17,
   "metadata": {},
   "outputs": [
    {
     "data": {
      "text/plain": [
       "array([0.23190461, 0.20121586, 0.23274964, 0.16395169, 0.1701782 ])"
      ]
     },
     "execution_count": 17,
     "metadata": {},
     "output_type": "execute_result"
    }
   ],
   "source": [
    "rfc.feature_importances_"
   ]
  },
  {
   "cell_type": "code",
   "execution_count": 32,
   "metadata": {},
   "outputs": [
    {
     "data": {
      "text/plain": [
       "array([2])"
      ]
     },
     "execution_count": 32,
     "metadata": {},
     "output_type": "execute_result"
    }
   ],
   "source": [
    "rfc.predict([[1,0,0,-1,0]])"
   ]
  },
  {
   "cell_type": "code",
   "execution_count": 33,
   "metadata": {},
   "outputs": [
    {
     "data": {
      "text/plain": [
       "array([0])"
      ]
     },
     "execution_count": 33,
     "metadata": {},
     "output_type": "execute_result"
    }
   ],
   "source": [
    "rfc.predict([[0,0,0,-1,0]])"
   ]
  },
  {
   "cell_type": "markdown",
   "metadata": {},
   "source": [
    "Try to account for \"other\" favorite color"
   ]
  },
  {
   "cell_type": "code",
   "execution_count": 5,
   "metadata": {},
   "outputs": [],
   "source": [
    "std_colors = ['blue','green','black','yellow','purple','red','orange','pink','other']"
   ]
  },
  {
   "cell_type": "code",
   "execution_count": 6,
   "metadata": {},
   "outputs": [],
   "source": [
    "df_color_OCEAN = df[['FavColor','O','C','E','A','S']]"
   ]
  },
  {
   "cell_type": "code",
   "execution_count": 7,
   "metadata": {},
   "outputs": [
    {
     "name": "stderr",
     "output_type": "stream",
     "text": [
      "/usr/local/lib/python3.6/site-packages/ipykernel_launcher.py:1: SettingWithCopyWarning: \n",
      "A value is trying to be set on a copy of a slice from a DataFrame.\n",
      "Try using .loc[row_indexer,col_indexer] = value instead\n",
      "\n",
      "See the caveats in the documentation: http://pandas.pydata.org/pandas-docs/stable/indexing.html#indexing-view-versus-copy\n",
      "  \"\"\"Entry point for launching an IPython kernel.\n"
     ]
    }
   ],
   "source": [
    "df_color_OCEAN['FavColor'] = df_color_OCEAN['FavColor'].str.lower().str.strip()"
   ]
  },
  {
   "cell_type": "code",
   "execution_count": 8,
   "metadata": {},
   "outputs": [
    {
     "name": "stderr",
     "output_type": "stream",
     "text": [
      "/usr/local/lib/python3.6/site-packages/ipykernel_launcher.py:1: SettingWithCopyWarning: \n",
      "A value is trying to be set on a copy of a slice from a DataFrame.\n",
      "Try using .loc[row_indexer,col_indexer] = value instead\n",
      "\n",
      "See the caveats in the documentation: http://pandas.pydata.org/pandas-docs/stable/indexing.html#indexing-view-versus-copy\n",
      "  \"\"\"Entry point for launching an IPython kernel.\n"
     ]
    }
   ],
   "source": [
    "df_color_OCEAN['N'] = 0-df_color_OCEAN['S']\n",
    "df_color_OCEAN = df_color_OCEAN.drop(columns='S')\n",
    "df_color_OCEAN = df_color_OCEAN.dropna()"
   ]
  },
  {
   "cell_type": "code",
   "execution_count": 9,
   "metadata": {},
   "outputs": [
    {
     "data": {
      "text/html": [
       "<div>\n",
       "<style scoped>\n",
       "    .dataframe tbody tr th:only-of-type {\n",
       "        vertical-align: middle;\n",
       "    }\n",
       "\n",
       "    .dataframe tbody tr th {\n",
       "        vertical-align: top;\n",
       "    }\n",
       "\n",
       "    .dataframe thead th {\n",
       "        text-align: right;\n",
       "    }\n",
       "</style>\n",
       "<table border=\"1\" class=\"dataframe\">\n",
       "  <thead>\n",
       "    <tr style=\"text-align: right;\">\n",
       "      <th></th>\n",
       "      <th>FavColor</th>\n",
       "      <th>O</th>\n",
       "      <th>C</th>\n",
       "      <th>E</th>\n",
       "      <th>A</th>\n",
       "      <th>N</th>\n",
       "    </tr>\n",
       "  </thead>\n",
       "  <tbody>\n",
       "    <tr>\n",
       "      <th>0</th>\n",
       "      <td>red</td>\n",
       "      <td>0.871115</td>\n",
       "      <td>-1.163156</td>\n",
       "      <td>0.347041</td>\n",
       "      <td>-0.578990</td>\n",
       "      <td>0.242004</td>\n",
       "    </tr>\n",
       "    <tr>\n",
       "      <th>1</th>\n",
       "      <td>green</td>\n",
       "      <td>0.432133</td>\n",
       "      <td>1.664499</td>\n",
       "      <td>0.662877</td>\n",
       "      <td>-0.578990</td>\n",
       "      <td>-0.096085</td>\n",
       "    </tr>\n",
       "    <tr>\n",
       "      <th>2</th>\n",
       "      <td>navy blue</td>\n",
       "      <td>-0.884811</td>\n",
       "      <td>-0.456242</td>\n",
       "      <td>0.031205</td>\n",
       "      <td>-0.986787</td>\n",
       "      <td>0.242004</td>\n",
       "    </tr>\n",
       "    <tr>\n",
       "      <th>3</th>\n",
       "      <td>blue</td>\n",
       "      <td>-0.445830</td>\n",
       "      <td>0.957585</td>\n",
       "      <td>0.031205</td>\n",
       "      <td>-1.802382</td>\n",
       "      <td>-1.110352</td>\n",
       "    </tr>\n",
       "    <tr>\n",
       "      <th>4</th>\n",
       "      <td>yellow</td>\n",
       "      <td>-1.762774</td>\n",
       "      <td>-0.102785</td>\n",
       "      <td>-0.916303</td>\n",
       "      <td>0.644401</td>\n",
       "      <td>0.242004</td>\n",
       "    </tr>\n",
       "    <tr>\n",
       "      <th>5</th>\n",
       "      <td>pink</td>\n",
       "      <td>-1.323793</td>\n",
       "      <td>-0.809699</td>\n",
       "      <td>0.031205</td>\n",
       "      <td>-0.171193</td>\n",
       "      <td>-0.772263</td>\n",
       "    </tr>\n",
       "    <tr>\n",
       "      <th>6</th>\n",
       "      <td>green</td>\n",
       "      <td>1.310097</td>\n",
       "      <td>0.957585</td>\n",
       "      <td>0.031205</td>\n",
       "      <td>-0.986787</td>\n",
       "      <td>-0.434174</td>\n",
       "    </tr>\n",
       "    <tr>\n",
       "      <th>7</th>\n",
       "      <td>grayish green-blue.</td>\n",
       "      <td>1.310097</td>\n",
       "      <td>0.957585</td>\n",
       "      <td>1.926221</td>\n",
       "      <td>-0.171193</td>\n",
       "      <td>1.594361</td>\n",
       "    </tr>\n",
       "    <tr>\n",
       "      <th>8</th>\n",
       "      <td>lavender</td>\n",
       "      <td>0.432133</td>\n",
       "      <td>0.957585</td>\n",
       "      <td>-1.232139</td>\n",
       "      <td>0.236604</td>\n",
       "      <td>-1.448441</td>\n",
       "    </tr>\n",
       "    <tr>\n",
       "      <th>9</th>\n",
       "      <td>teal</td>\n",
       "      <td>-1.762774</td>\n",
       "      <td>1.311042</td>\n",
       "      <td>-1.863812</td>\n",
       "      <td>-1.802382</td>\n",
       "      <td>-0.434174</td>\n",
       "    </tr>\n",
       "    <tr>\n",
       "      <th>10</th>\n",
       "      <td>green</td>\n",
       "      <td>-0.445830</td>\n",
       "      <td>0.604128</td>\n",
       "      <td>-1.547975</td>\n",
       "      <td>1.867792</td>\n",
       "      <td>-1.448441</td>\n",
       "    </tr>\n",
       "    <tr>\n",
       "      <th>11</th>\n",
       "      <td>blue</td>\n",
       "      <td>-0.006848</td>\n",
       "      <td>0.957585</td>\n",
       "      <td>1.610385</td>\n",
       "      <td>-0.986787</td>\n",
       "      <td>-0.772263</td>\n",
       "    </tr>\n",
       "    <tr>\n",
       "      <th>12</th>\n",
       "      <td>purple</td>\n",
       "      <td>-0.884811</td>\n",
       "      <td>0.604128</td>\n",
       "      <td>1.294549</td>\n",
       "      <td>-1.802382</td>\n",
       "      <td>-0.772263</td>\n",
       "    </tr>\n",
       "    <tr>\n",
       "      <th>13</th>\n",
       "      <td>purple</td>\n",
       "      <td>0.432133</td>\n",
       "      <td>0.957585</td>\n",
       "      <td>0.978713</td>\n",
       "      <td>-0.171193</td>\n",
       "      <td>-0.096085</td>\n",
       "    </tr>\n",
       "    <tr>\n",
       "      <th>14</th>\n",
       "      <td>rose red</td>\n",
       "      <td>0.432133</td>\n",
       "      <td>0.957585</td>\n",
       "      <td>-0.600467</td>\n",
       "      <td>1.052198</td>\n",
       "      <td>1.932450</td>\n",
       "    </tr>\n",
       "    <tr>\n",
       "      <th>15</th>\n",
       "      <td>red</td>\n",
       "      <td>1.310097</td>\n",
       "      <td>-0.456242</td>\n",
       "      <td>1.294549</td>\n",
       "      <td>1.052198</td>\n",
       "      <td>-1.448441</td>\n",
       "    </tr>\n",
       "    <tr>\n",
       "      <th>16</th>\n",
       "      <td>blue</td>\n",
       "      <td>-0.445830</td>\n",
       "      <td>-0.456242</td>\n",
       "      <td>-0.916303</td>\n",
       "      <td>0.644401</td>\n",
       "      <td>0.580093</td>\n",
       "    </tr>\n",
       "    <tr>\n",
       "      <th>17</th>\n",
       "      <td>purple</td>\n",
       "      <td>-0.006848</td>\n",
       "      <td>-1.163156</td>\n",
       "      <td>0.662877</td>\n",
       "      <td>-0.171193</td>\n",
       "      <td>-0.096085</td>\n",
       "    </tr>\n",
       "    <tr>\n",
       "      <th>18</th>\n",
       "      <td>purple</td>\n",
       "      <td>0.871115</td>\n",
       "      <td>0.604128</td>\n",
       "      <td>-0.916303</td>\n",
       "      <td>0.644401</td>\n",
       "      <td>-1.448441</td>\n",
       "    </tr>\n",
       "    <tr>\n",
       "      <th>19</th>\n",
       "      <td>red</td>\n",
       "      <td>1.310097</td>\n",
       "      <td>1.311042</td>\n",
       "      <td>0.347041</td>\n",
       "      <td>1.459995</td>\n",
       "      <td>-0.096085</td>\n",
       "    </tr>\n",
       "    <tr>\n",
       "      <th>20</th>\n",
       "      <td>green</td>\n",
       "      <td>-0.445830</td>\n",
       "      <td>-0.456242</td>\n",
       "      <td>-0.600467</td>\n",
       "      <td>1.052198</td>\n",
       "      <td>-1.110352</td>\n",
       "    </tr>\n",
       "    <tr>\n",
       "      <th>22</th>\n",
       "      <td>puroke</td>\n",
       "      <td>0.432133</td>\n",
       "      <td>0.957585</td>\n",
       "      <td>0.031205</td>\n",
       "      <td>1.052198</td>\n",
       "      <td>-0.096085</td>\n",
       "    </tr>\n",
       "    <tr>\n",
       "      <th>24</th>\n",
       "      <td>purple</td>\n",
       "      <td>-0.445830</td>\n",
       "      <td>-0.809699</td>\n",
       "      <td>-1.232139</td>\n",
       "      <td>1.459995</td>\n",
       "      <td>0.242004</td>\n",
       "    </tr>\n",
       "    <tr>\n",
       "      <th>25</th>\n",
       "      <td>iridescent</td>\n",
       "      <td>0.871115</td>\n",
       "      <td>-0.102785</td>\n",
       "      <td>0.662877</td>\n",
       "      <td>-1.802382</td>\n",
       "      <td>1.256272</td>\n",
       "    </tr>\n",
       "    <tr>\n",
       "      <th>26</th>\n",
       "      <td>chartreuse</td>\n",
       "      <td>0.871115</td>\n",
       "      <td>0.957585</td>\n",
       "      <td>-1.863812</td>\n",
       "      <td>0.236604</td>\n",
       "      <td>1.594361</td>\n",
       "    </tr>\n",
       "    <tr>\n",
       "      <th>27</th>\n",
       "      <td>black</td>\n",
       "      <td>0.432133</td>\n",
       "      <td>-0.456242</td>\n",
       "      <td>-1.232139</td>\n",
       "      <td>0.644401</td>\n",
       "      <td>-1.110352</td>\n",
       "    </tr>\n",
       "    <tr>\n",
       "      <th>28</th>\n",
       "      <td>blue</td>\n",
       "      <td>1.310097</td>\n",
       "      <td>-1.870069</td>\n",
       "      <td>1.610385</td>\n",
       "      <td>1.867792</td>\n",
       "      <td>-0.772263</td>\n",
       "    </tr>\n",
       "    <tr>\n",
       "      <th>29</th>\n",
       "      <td>purple, red</td>\n",
       "      <td>0.432133</td>\n",
       "      <td>-0.102785</td>\n",
       "      <td>-0.916303</td>\n",
       "      <td>1.459995</td>\n",
       "      <td>-0.772263</td>\n",
       "    </tr>\n",
       "    <tr>\n",
       "      <th>30</th>\n",
       "      <td>green</td>\n",
       "      <td>-0.884811</td>\n",
       "      <td>1.311042</td>\n",
       "      <td>-0.916303</td>\n",
       "      <td>0.236604</td>\n",
       "      <td>-1.448441</td>\n",
       "    </tr>\n",
       "    <tr>\n",
       "      <th>31</th>\n",
       "      <td>red</td>\n",
       "      <td>0.871115</td>\n",
       "      <td>1.311042</td>\n",
       "      <td>-1.863812</td>\n",
       "      <td>1.867792</td>\n",
       "      <td>-1.110352</td>\n",
       "    </tr>\n",
       "    <tr>\n",
       "      <th>...</th>\n",
       "      <td>...</td>\n",
       "      <td>...</td>\n",
       "      <td>...</td>\n",
       "      <td>...</td>\n",
       "      <td>...</td>\n",
       "      <td>...</td>\n",
       "    </tr>\n",
       "    <tr>\n",
       "      <th>16668</th>\n",
       "      <td>green</td>\n",
       "      <td>-2.201756</td>\n",
       "      <td>-1.870069</td>\n",
       "      <td>0.347041</td>\n",
       "      <td>-1.394584</td>\n",
       "      <td>-0.096085</td>\n",
       "    </tr>\n",
       "    <tr>\n",
       "      <th>16669</th>\n",
       "      <td>green</td>\n",
       "      <td>-0.006848</td>\n",
       "      <td>-0.102785</td>\n",
       "      <td>0.978713</td>\n",
       "      <td>-0.171193</td>\n",
       "      <td>0.242004</td>\n",
       "    </tr>\n",
       "    <tr>\n",
       "      <th>16670</th>\n",
       "      <td>blue</td>\n",
       "      <td>0.871115</td>\n",
       "      <td>0.250672</td>\n",
       "      <td>-1.232139</td>\n",
       "      <td>-0.171193</td>\n",
       "      <td>1.256272</td>\n",
       "    </tr>\n",
       "    <tr>\n",
       "      <th>16671</th>\n",
       "      <td>grey</td>\n",
       "      <td>-0.006848</td>\n",
       "      <td>-1.516612</td>\n",
       "      <td>0.031205</td>\n",
       "      <td>1.052198</td>\n",
       "      <td>0.580093</td>\n",
       "    </tr>\n",
       "    <tr>\n",
       "      <th>16672</th>\n",
       "      <td>green</td>\n",
       "      <td>-0.445830</td>\n",
       "      <td>0.957585</td>\n",
       "      <td>1.294549</td>\n",
       "      <td>-2.210179</td>\n",
       "      <td>0.918182</td>\n",
       "    </tr>\n",
       "    <tr>\n",
       "      <th>16673</th>\n",
       "      <td>pink</td>\n",
       "      <td>-0.445830</td>\n",
       "      <td>0.957585</td>\n",
       "      <td>0.662877</td>\n",
       "      <td>-0.578990</td>\n",
       "      <td>-0.434174</td>\n",
       "    </tr>\n",
       "    <tr>\n",
       "      <th>16674</th>\n",
       "      <td>blue</td>\n",
       "      <td>-0.884811</td>\n",
       "      <td>1.664499</td>\n",
       "      <td>1.294549</td>\n",
       "      <td>-0.578990</td>\n",
       "      <td>-0.096085</td>\n",
       "    </tr>\n",
       "    <tr>\n",
       "      <th>16675</th>\n",
       "      <td>purple</td>\n",
       "      <td>-0.006848</td>\n",
       "      <td>0.250672</td>\n",
       "      <td>-1.863812</td>\n",
       "      <td>0.236604</td>\n",
       "      <td>-0.096085</td>\n",
       "    </tr>\n",
       "    <tr>\n",
       "      <th>16676</th>\n",
       "      <td>blue</td>\n",
       "      <td>-0.884811</td>\n",
       "      <td>-0.456242</td>\n",
       "      <td>-1.547975</td>\n",
       "      <td>1.867792</td>\n",
       "      <td>0.242004</td>\n",
       "    </tr>\n",
       "    <tr>\n",
       "      <th>16677</th>\n",
       "      <td>red</td>\n",
       "      <td>-0.445830</td>\n",
       "      <td>0.604128</td>\n",
       "      <td>-1.547975</td>\n",
       "      <td>-0.171193</td>\n",
       "      <td>-1.110352</td>\n",
       "    </tr>\n",
       "    <tr>\n",
       "      <th>16678</th>\n",
       "      <td>dark red</td>\n",
       "      <td>-0.445830</td>\n",
       "      <td>0.250672</td>\n",
       "      <td>-1.547975</td>\n",
       "      <td>1.052198</td>\n",
       "      <td>1.256272</td>\n",
       "    </tr>\n",
       "    <tr>\n",
       "      <th>16679</th>\n",
       "      <td>pink</td>\n",
       "      <td>-0.445830</td>\n",
       "      <td>0.250672</td>\n",
       "      <td>-1.232139</td>\n",
       "      <td>0.644401</td>\n",
       "      <td>0.242004</td>\n",
       "    </tr>\n",
       "    <tr>\n",
       "      <th>16680</th>\n",
       "      <td>blue</td>\n",
       "      <td>0.432133</td>\n",
       "      <td>0.957585</td>\n",
       "      <td>-1.863812</td>\n",
       "      <td>1.459995</td>\n",
       "      <td>-0.096085</td>\n",
       "    </tr>\n",
       "    <tr>\n",
       "      <th>16682</th>\n",
       "      <td>lime green</td>\n",
       "      <td>-1.323793</td>\n",
       "      <td>-0.102785</td>\n",
       "      <td>0.978713</td>\n",
       "      <td>0.644401</td>\n",
       "      <td>1.256272</td>\n",
       "    </tr>\n",
       "    <tr>\n",
       "      <th>16683</th>\n",
       "      <td>grey</td>\n",
       "      <td>-1.762774</td>\n",
       "      <td>-0.456242</td>\n",
       "      <td>-0.284631</td>\n",
       "      <td>0.236604</td>\n",
       "      <td>1.932450</td>\n",
       "    </tr>\n",
       "    <tr>\n",
       "      <th>16684</th>\n",
       "      <td>pink</td>\n",
       "      <td>0.871115</td>\n",
       "      <td>0.957585</td>\n",
       "      <td>0.978713</td>\n",
       "      <td>1.052198</td>\n",
       "      <td>1.256272</td>\n",
       "    </tr>\n",
       "    <tr>\n",
       "      <th>16685</th>\n",
       "      <td>green</td>\n",
       "      <td>-0.884811</td>\n",
       "      <td>-1.163156</td>\n",
       "      <td>-1.232139</td>\n",
       "      <td>-0.171193</td>\n",
       "      <td>1.932450</td>\n",
       "    </tr>\n",
       "    <tr>\n",
       "      <th>16686</th>\n",
       "      <td>i don't have one.</td>\n",
       "      <td>0.432133</td>\n",
       "      <td>-0.456242</td>\n",
       "      <td>1.294549</td>\n",
       "      <td>0.644401</td>\n",
       "      <td>-0.772263</td>\n",
       "    </tr>\n",
       "    <tr>\n",
       "      <th>16687</th>\n",
       "      <td>blue</td>\n",
       "      <td>-2.201756</td>\n",
       "      <td>1.311042</td>\n",
       "      <td>-1.232139</td>\n",
       "      <td>-1.802382</td>\n",
       "      <td>-1.110352</td>\n",
       "    </tr>\n",
       "    <tr>\n",
       "      <th>16688</th>\n",
       "      <td>purple</td>\n",
       "      <td>-0.884811</td>\n",
       "      <td>-1.870069</td>\n",
       "      <td>-1.547975</td>\n",
       "      <td>0.644401</td>\n",
       "      <td>1.594361</td>\n",
       "    </tr>\n",
       "    <tr>\n",
       "      <th>16689</th>\n",
       "      <td>purple</td>\n",
       "      <td>-1.323793</td>\n",
       "      <td>-1.163156</td>\n",
       "      <td>-1.232139</td>\n",
       "      <td>-0.578990</td>\n",
       "      <td>2.270539</td>\n",
       "    </tr>\n",
       "    <tr>\n",
       "      <th>16691</th>\n",
       "      <td>red</td>\n",
       "      <td>-0.006848</td>\n",
       "      <td>0.250672</td>\n",
       "      <td>-0.284631</td>\n",
       "      <td>-0.171193</td>\n",
       "      <td>0.242004</td>\n",
       "    </tr>\n",
       "    <tr>\n",
       "      <th>16692</th>\n",
       "      <td>pastels and golds</td>\n",
       "      <td>0.871115</td>\n",
       "      <td>0.250672</td>\n",
       "      <td>1.294549</td>\n",
       "      <td>1.052198</td>\n",
       "      <td>0.918182</td>\n",
       "    </tr>\n",
       "    <tr>\n",
       "      <th>16693</th>\n",
       "      <td>green</td>\n",
       "      <td>0.432133</td>\n",
       "      <td>0.604128</td>\n",
       "      <td>-1.232139</td>\n",
       "      <td>1.052198</td>\n",
       "      <td>0.580093</td>\n",
       "    </tr>\n",
       "    <tr>\n",
       "      <th>16694</th>\n",
       "      <td>black</td>\n",
       "      <td>1.310097</td>\n",
       "      <td>1.311042</td>\n",
       "      <td>1.294549</td>\n",
       "      <td>0.236604</td>\n",
       "      <td>1.256272</td>\n",
       "    </tr>\n",
       "    <tr>\n",
       "      <th>16696</th>\n",
       "      <td>light blue</td>\n",
       "      <td>0.432133</td>\n",
       "      <td>-0.809699</td>\n",
       "      <td>1.294549</td>\n",
       "      <td>-0.171193</td>\n",
       "      <td>-0.434174</td>\n",
       "    </tr>\n",
       "    <tr>\n",
       "      <th>16697</th>\n",
       "      <td>red</td>\n",
       "      <td>-0.884811</td>\n",
       "      <td>0.250672</td>\n",
       "      <td>0.347041</td>\n",
       "      <td>1.052198</td>\n",
       "      <td>-0.772263</td>\n",
       "    </tr>\n",
       "    <tr>\n",
       "      <th>16698</th>\n",
       "      <td>green</td>\n",
       "      <td>-0.006848</td>\n",
       "      <td>1.664499</td>\n",
       "      <td>-1.863812</td>\n",
       "      <td>0.644401</td>\n",
       "      <td>-1.110352</td>\n",
       "    </tr>\n",
       "    <tr>\n",
       "      <th>16699</th>\n",
       "      <td>purple</td>\n",
       "      <td>-0.445830</td>\n",
       "      <td>-0.456242</td>\n",
       "      <td>-0.916303</td>\n",
       "      <td>-0.171193</td>\n",
       "      <td>2.270539</td>\n",
       "    </tr>\n",
       "    <tr>\n",
       "      <th>16700</th>\n",
       "      <td>pink</td>\n",
       "      <td>-0.884811</td>\n",
       "      <td>-0.456242</td>\n",
       "      <td>0.031205</td>\n",
       "      <td>-2.210179</td>\n",
       "      <td>1.256272</td>\n",
       "    </tr>\n",
       "  </tbody>\n",
       "</table>\n",
       "<p>15798 rows × 6 columns</p>\n",
       "</div>"
      ],
      "text/plain": [
       "                  FavColor         O         C         E         A         N\n",
       "0                      red  0.871115 -1.163156  0.347041 -0.578990  0.242004\n",
       "1                    green  0.432133  1.664499  0.662877 -0.578990 -0.096085\n",
       "2                navy blue -0.884811 -0.456242  0.031205 -0.986787  0.242004\n",
       "3                     blue -0.445830  0.957585  0.031205 -1.802382 -1.110352\n",
       "4                   yellow -1.762774 -0.102785 -0.916303  0.644401  0.242004\n",
       "5                     pink -1.323793 -0.809699  0.031205 -0.171193 -0.772263\n",
       "6                    green  1.310097  0.957585  0.031205 -0.986787 -0.434174\n",
       "7      grayish green-blue.  1.310097  0.957585  1.926221 -0.171193  1.594361\n",
       "8                 lavender  0.432133  0.957585 -1.232139  0.236604 -1.448441\n",
       "9                     teal -1.762774  1.311042 -1.863812 -1.802382 -0.434174\n",
       "10                   green -0.445830  0.604128 -1.547975  1.867792 -1.448441\n",
       "11                    blue -0.006848  0.957585  1.610385 -0.986787 -0.772263\n",
       "12                  purple -0.884811  0.604128  1.294549 -1.802382 -0.772263\n",
       "13                  purple  0.432133  0.957585  0.978713 -0.171193 -0.096085\n",
       "14                rose red  0.432133  0.957585 -0.600467  1.052198  1.932450\n",
       "15                     red  1.310097 -0.456242  1.294549  1.052198 -1.448441\n",
       "16                    blue -0.445830 -0.456242 -0.916303  0.644401  0.580093\n",
       "17                  purple -0.006848 -1.163156  0.662877 -0.171193 -0.096085\n",
       "18                  purple  0.871115  0.604128 -0.916303  0.644401 -1.448441\n",
       "19                     red  1.310097  1.311042  0.347041  1.459995 -0.096085\n",
       "20                   green -0.445830 -0.456242 -0.600467  1.052198 -1.110352\n",
       "22                  puroke  0.432133  0.957585  0.031205  1.052198 -0.096085\n",
       "24                  purple -0.445830 -0.809699 -1.232139  1.459995  0.242004\n",
       "25              iridescent  0.871115 -0.102785  0.662877 -1.802382  1.256272\n",
       "26              chartreuse  0.871115  0.957585 -1.863812  0.236604  1.594361\n",
       "27                   black  0.432133 -0.456242 -1.232139  0.644401 -1.110352\n",
       "28                    blue  1.310097 -1.870069  1.610385  1.867792 -0.772263\n",
       "29             purple, red  0.432133 -0.102785 -0.916303  1.459995 -0.772263\n",
       "30                   green -0.884811  1.311042 -0.916303  0.236604 -1.448441\n",
       "31                     red  0.871115  1.311042 -1.863812  1.867792 -1.110352\n",
       "...                    ...       ...       ...       ...       ...       ...\n",
       "16668                green -2.201756 -1.870069  0.347041 -1.394584 -0.096085\n",
       "16669                green -0.006848 -0.102785  0.978713 -0.171193  0.242004\n",
       "16670                 blue  0.871115  0.250672 -1.232139 -0.171193  1.256272\n",
       "16671                 grey -0.006848 -1.516612  0.031205  1.052198  0.580093\n",
       "16672                green -0.445830  0.957585  1.294549 -2.210179  0.918182\n",
       "16673                 pink -0.445830  0.957585  0.662877 -0.578990 -0.434174\n",
       "16674                 blue -0.884811  1.664499  1.294549 -0.578990 -0.096085\n",
       "16675               purple -0.006848  0.250672 -1.863812  0.236604 -0.096085\n",
       "16676                 blue -0.884811 -0.456242 -1.547975  1.867792  0.242004\n",
       "16677                  red -0.445830  0.604128 -1.547975 -0.171193 -1.110352\n",
       "16678             dark red -0.445830  0.250672 -1.547975  1.052198  1.256272\n",
       "16679                 pink -0.445830  0.250672 -1.232139  0.644401  0.242004\n",
       "16680                 blue  0.432133  0.957585 -1.863812  1.459995 -0.096085\n",
       "16682           lime green -1.323793 -0.102785  0.978713  0.644401  1.256272\n",
       "16683                 grey -1.762774 -0.456242 -0.284631  0.236604  1.932450\n",
       "16684                 pink  0.871115  0.957585  0.978713  1.052198  1.256272\n",
       "16685                green -0.884811 -1.163156 -1.232139 -0.171193  1.932450\n",
       "16686    i don't have one.  0.432133 -0.456242  1.294549  0.644401 -0.772263\n",
       "16687                 blue -2.201756  1.311042 -1.232139 -1.802382 -1.110352\n",
       "16688               purple -0.884811 -1.870069 -1.547975  0.644401  1.594361\n",
       "16689               purple -1.323793 -1.163156 -1.232139 -0.578990  2.270539\n",
       "16691                  red -0.006848  0.250672 -0.284631 -0.171193  0.242004\n",
       "16692    pastels and golds  0.871115  0.250672  1.294549  1.052198  0.918182\n",
       "16693                green  0.432133  0.604128 -1.232139  1.052198  0.580093\n",
       "16694                black  1.310097  1.311042  1.294549  0.236604  1.256272\n",
       "16696           light blue  0.432133 -0.809699  1.294549 -0.171193 -0.434174\n",
       "16697                  red -0.884811  0.250672  0.347041  1.052198 -0.772263\n",
       "16698                green -0.006848  1.664499 -1.863812  0.644401 -1.110352\n",
       "16699               purple -0.445830 -0.456242 -0.916303 -0.171193  2.270539\n",
       "16700                 pink -0.884811 -0.456242  0.031205 -2.210179  1.256272\n",
       "\n",
       "[15798 rows x 6 columns]"
      ]
     },
     "execution_count": 9,
     "metadata": {},
     "output_type": "execute_result"
    }
   ],
   "source": [
    "for i,color in enumerate(std_colors):\n",
    "    df_color_OCEAN = df_color_OCEAN.replace(color,i)\n",
    "    if (color=='other'):\n",
    "        "
   ]
  },
  {
   "cell_type": "code",
   "execution_count": null,
   "metadata": {},
   "outputs": [],
   "source": []
  }
 ],
 "metadata": {
  "kernelspec": {
   "display_name": "Python 3",
   "language": "python",
   "name": "python3"
  },
  "language_info": {
   "codemirror_mode": {
    "name": "ipython",
    "version": 3
   },
   "file_extension": ".py",
   "mimetype": "text/x-python",
   "name": "python",
   "nbconvert_exporter": "python",
   "pygments_lexer": "ipython3",
   "version": "3.6.4"
  }
 },
 "nbformat": 4,
 "nbformat_minor": 2
}
