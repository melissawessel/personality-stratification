{
 "cells": [
  {
   "cell_type": "markdown",
   "metadata": {},
   "source": [
    "# Validity Organized"
   ]
  },
  {
   "cell_type": "code",
   "execution_count": 9,
   "metadata": {},
   "outputs": [],
   "source": [
    "import os,sys\n",
    "import numpy as np\n",
    "import pandas as pd\n",
    "from scipy import stats\n",
    "\n",
    "import warnings; warnings.filterwarnings('ignore');\n",
    "\n",
    "src_dir = os.path.abspath(os.pardir)\n",
    "sys.path[0] = src_dir\n",
    "\n",
    "from analysis.CodingScoring import scoreTIPI, normTIPI, stratTIPI"
   ]
  },
  {
   "cell_type": "code",
   "execution_count": 10,
   "metadata": {},
   "outputs": [],
   "source": [
    "questions = pd.read_csv('../data/External/dataHeadings.csv')\n",
    "dataRaw = pd.read_csv('../data/External/dataRaw.csv', names=questions.QuestionCode)\n",
    "# dataRaw.head()"
   ]
  },
  {
   "cell_type": "code",
   "execution_count": 11,
   "metadata": {},
   "outputs": [],
   "source": [
    "df = dataRaw.join(normTIPI(scoreTIPI(dataRaw)))\n",
    "# df.head()"
   ]
  },
  {
   "cell_type": "code",
   "execution_count": 12,
   "metadata": {},
   "outputs": [],
   "source": [
    "cxOCEAS = df[['Chronotype','O','C','E','A','S']]\n",
    "# cxOCEAS.to_csv('chronotypeOCEAS.csv')\n",
    "# cxOCEAS.head()"
   ]
  },
  {
   "cell_type": "markdown",
   "metadata": {},
   "source": [
    "One way ANOVA on continuous data"
   ]
  },
  {
   "cell_type": "code",
   "execution_count": 13,
   "metadata": {},
   "outputs": [
    {
     "name": "stdout",
     "output_type": "stream",
     "text": [
      "F=30.401000, p=0.000000\n",
      "F=300.886551, p=0.000000\n",
      "F=1.638169, p=0.178211\n",
      "F=26.590246, p=0.000000\n",
      "F=42.857438, p=0.000000\n"
     ]
    }
   ],
   "source": [
    "for trait in ['O','C','E','A','S']:\n",
    "    sl = cxOCEAS[trait][cxOCEAS['Chronotype']=='Strong lark'].dropna()\n",
    "    l = cxOCEAS[trait][cxOCEAS['Chronotype']=='Lark'].dropna()\n",
    "    o = cxOCEAS[trait][cxOCEAS['Chronotype']=='Owl'].dropna()\n",
    "    so = cxOCEAS[trait][cxOCEAS['Chronotype']=='Strong owl'].dropna()\n",
    "    f_val, p_val = stats.f_oneway(sl,l,o,so)\n",
    "    print('F=%f, p=%f'%(f_val,p_val))"
   ]
  },
  {
   "cell_type": "code",
   "execution_count": 7,
   "metadata": {},
   "outputs": [],
   "source": [
    "cxOCEAS['N'] = 0-cxOCEAS['S']\n",
    "cxOCEAN = cxOCEAS.drop(columns=['S']).dropna()\n",
    "cxOCEAN_strat = stratTIPI(cxOCEAN,3)"
   ]
  },
  {
   "cell_type": "markdown",
   "metadata": {},
   "source": [
    "Chi-square on stratified data"
   ]
  },
  {
   "cell_type": "code",
   "execution_count": 8,
   "metadata": {},
   "outputs": [
    {
     "name": "stdout",
     "output_type": "stream",
     "text": [
      "Chi2=72.095988, p=0.000000, dof=6.000000\n",
      "Chi2=705.254558, p=0.000000, dof=6.000000\n",
      "Chi2=52.354679, p=0.000000, dof=6.000000\n",
      "Chi2=83.631618, p=0.000000, dof=6.000000\n",
      "Chi2=139.858501, p=0.000000, dof=6.000000\n"
     ]
    }
   ],
   "source": [
    "for trait in ['O','C','E','A','N']:\n",
    "    x = pd.crosstab(index=cxOCEAN_strat['%s_strat'%trait],columns=cxOCEAN_strat['Chronotype'])\n",
    "    chi2, p, dof, expected = stats.chi2_contingency(x.values)\n",
    "    print('Chi2=%f, p=%f, dof=%f'%(chi2,p,dof))"
   ]
  },
  {
   "cell_type": "markdown",
   "metadata": {},
   "source": [
    "Investigate Extraversion"
   ]
  },
  {
   "cell_type": "code",
   "execution_count": 12,
   "metadata": {},
   "outputs": [
    {
     "data": {
      "text/html": [
       "<div>\n",
       "<style scoped>\n",
       "    .dataframe tbody tr th:only-of-type {\n",
       "        vertical-align: middle;\n",
       "    }\n",
       "\n",
       "    .dataframe tbody tr th {\n",
       "        vertical-align: top;\n",
       "    }\n",
       "\n",
       "    .dataframe thead th {\n",
       "        text-align: right;\n",
       "    }\n",
       "</style>\n",
       "<table border=\"1\" class=\"dataframe\">\n",
       "  <thead>\n",
       "    <tr style=\"text-align: right;\">\n",
       "      <th>Chronotype</th>\n",
       "      <th>Strong lark</th>\n",
       "      <th>Lark</th>\n",
       "      <th>Owl</th>\n",
       "      <th>Strong owl</th>\n",
       "    </tr>\n",
       "    <tr>\n",
       "      <th>E_strat</th>\n",
       "      <th></th>\n",
       "      <th></th>\n",
       "      <th></th>\n",
       "      <th></th>\n",
       "    </tr>\n",
       "  </thead>\n",
       "  <tbody>\n",
       "    <tr>\n",
       "      <th>-1</th>\n",
       "      <td>341</td>\n",
       "      <td>1090</td>\n",
       "      <td>1564</td>\n",
       "      <td>1077</td>\n",
       "    </tr>\n",
       "    <tr>\n",
       "      <th>0</th>\n",
       "      <td>725</td>\n",
       "      <td>2767</td>\n",
       "      <td>3768</td>\n",
       "      <td>2044</td>\n",
       "    </tr>\n",
       "    <tr>\n",
       "      <th>1</th>\n",
       "      <td>202</td>\n",
       "      <td>596</td>\n",
       "      <td>800</td>\n",
       "      <td>565</td>\n",
       "    </tr>\n",
       "  </tbody>\n",
       "</table>\n",
       "</div>"
      ],
      "text/plain": [
       "Chronotype  Strong lark  Lark   Owl  Strong owl\n",
       "E_strat                                        \n",
       "-1                  341  1090  1564        1077\n",
       " 0                  725  2767  3768        2044\n",
       " 1                  202   596   800         565"
      ]
     },
     "execution_count": 12,
     "metadata": {},
     "output_type": "execute_result"
    }
   ],
   "source": [
    "chi = pd.crosstab(index=cxOCEAN_strat['E_strat'],columns=cxOCEAN_strat['Chronotype'])\n",
    "chi[['Strong lark','Lark','Owl','Strong owl']]"
   ]
  },
  {
   "cell_type": "code",
   "execution_count": 20,
   "metadata": {},
   "outputs": [
    {
     "data": {
      "text/html": [
       "<div>\n",
       "<style scoped>\n",
       "    .dataframe tbody tr th:only-of-type {\n",
       "        vertical-align: middle;\n",
       "    }\n",
       "\n",
       "    .dataframe tbody tr th {\n",
       "        vertical-align: top;\n",
       "    }\n",
       "\n",
       "    .dataframe thead th {\n",
       "        text-align: right;\n",
       "    }\n",
       "</style>\n",
       "<table border=\"1\" class=\"dataframe\">\n",
       "  <thead>\n",
       "    <tr style=\"text-align: right;\">\n",
       "      <th>Chronotype</th>\n",
       "      <th>Strong lark</th>\n",
       "      <th>Lark</th>\n",
       "      <th>Owl</th>\n",
       "      <th>Strong owl</th>\n",
       "    </tr>\n",
       "  </thead>\n",
       "  <tbody>\n",
       "    <tr>\n",
       "      <th>E</th>\n",
       "      <td>-0.231328</td>\n",
       "      <td>-0.195902</td>\n",
       "      <td>-0.229726</td>\n",
       "      <td>-0.244788</td>\n",
       "    </tr>\n",
       "  </tbody>\n",
       "</table>\n",
       "</div>"
      ],
      "text/plain": [
       "Chronotype  Strong lark      Lark       Owl  Strong owl\n",
       "E             -0.231328 -0.195902 -0.229726   -0.244788"
      ]
     },
     "execution_count": 20,
     "metadata": {},
     "output_type": "execute_result"
    }
   ],
   "source": [
    "anova = cxOCEAN_strat[['Chronotype','E']].groupby(['Chronotype']).mean().transpose()\n",
    "anova[['Strong lark','Lark','Owl','Strong owl']]"
   ]
  },
  {
   "cell_type": "markdown",
   "metadata": {},
   "source": [
    "### Favorite color"
   ]
  },
  {
   "cell_type": "code",
   "execution_count": 4,
   "metadata": {},
   "outputs": [],
   "source": [
    "std_colors = ['blue','green','black','yellow','purple','red','orange','pink']"
   ]
  },
  {
   "cell_type": "code",
   "execution_count": 5,
   "metadata": {},
   "outputs": [],
   "source": [
    "df_color_OCEAN = df[['FavColor','O','C','E','A','S']][df['FavColor'].str.lower().str.strip().isin(std_colors)]"
   ]
  },
  {
   "cell_type": "code",
   "execution_count": 6,
   "metadata": {},
   "outputs": [],
   "source": [
    "df_color_OCEAN['FavColor'] = df_color_OCEAN['FavColor'].str.lower().str.strip()"
   ]
  },
  {
   "cell_type": "code",
   "execution_count": 7,
   "metadata": {},
   "outputs": [],
   "source": [
    "df_color_OCEAN['N'] = 0-df_color_OCEAN['S']\n",
    "df_color_OCEAN = df_color_OCEAN.drop(columns='S')\n",
    "df_color_OCEAN = df_color_OCEAN.dropna()"
   ]
  },
  {
   "cell_type": "code",
   "execution_count": 32,
   "metadata": {},
   "outputs": [],
   "source": [
    "color_lists = []\n",
    "for trait in ['O','C','E','A','N']:\n",
    "    for color in std_colors:\n",
    "        x = df_color_OCEAN[trait][df_color_OCEAN['FavColor']==color].dropna()\n",
    "        color_lists = np.append(color_lists,np.array(x))\n",
    "#         print(x)\n",
    "#     f_val, p_val = stats.f_oneway(sl,l,o,so)\n",
    "#     print('F=%f, p=%f'%(f_val,p_val))"
   ]
  },
  {
   "cell_type": "code",
   "execution_count": 33,
   "metadata": {},
   "outputs": [
    {
     "data": {
      "text/plain": [
       "(60940,)"
      ]
     },
     "execution_count": 33,
     "metadata": {},
     "output_type": "execute_result"
    }
   ],
   "source": [
    "['blue','green','black','yellow','purple','red','orange','pink']"
   ]
  },
  {
   "cell_type": "code",
   "execution_count": 35,
   "metadata": {},
   "outputs": [
    {
     "name": "stdout",
     "output_type": "stream",
     "text": [
      "F=6.150761, p=0.000000\n",
      "F=2.534130, p=0.013251\n",
      "F=5.468164, p=0.000003\n",
      "F=11.231668, p=0.000000\n",
      "F=20.434863, p=0.000000\n"
     ]
    }
   ],
   "source": [
    "for trait in ['O','C','E','A','N']:\n",
    "    b = df_color_OCEAN[trait][df_color_OCEAN['FavColor']=='blue'].dropna()\n",
    "    g = df_color_OCEAN[trait][df_color_OCEAN['FavColor']=='green'].dropna()\n",
    "    bl = df_color_OCEAN[trait][df_color_OCEAN['FavColor']=='black'].dropna()\n",
    "    y = df_color_OCEAN[trait][df_color_OCEAN['FavColor']=='yellow'].dropna()\n",
    "    p = df_color_OCEAN[trait][df_color_OCEAN['FavColor']=='purple'].dropna()\n",
    "    r = df_color_OCEAN[trait][df_color_OCEAN['FavColor']=='red'].dropna()\n",
    "    o = df_color_OCEAN[trait][df_color_OCEAN['FavColor']=='orange'].dropna()\n",
    "    pk = df_color_OCEAN[trait][df_color_OCEAN['FavColor']=='pink'].dropna()\n",
    "    f_val, p_val = stats.f_oneway(b,g,bl,y,p,r,o,pk)\n",
    "    print('F=%f, p=%f'%(f_val,p_val))"
   ]
  },
  {
   "cell_type": "markdown",
   "metadata": {},
   "source": [
    "Chi square"
   ]
  },
  {
   "cell_type": "code",
   "execution_count": 36,
   "metadata": {},
   "outputs": [],
   "source": [
    "df_color_OCEAN_strat = stratTIPI(df_color_OCEAN,3)"
   ]
  },
  {
   "cell_type": "code",
   "execution_count": 37,
   "metadata": {},
   "outputs": [
    {
     "name": "stdout",
     "output_type": "stream",
     "text": [
      "Chi2=38.505321, p=0.000435, dof=14.000000\n",
      "Chi2=23.142801, p=0.057985, dof=14.000000\n",
      "Chi2=42.015415, p=0.000123, dof=14.000000\n",
      "Chi2=82.264428, p=0.000000, dof=14.000000\n",
      "Chi2=127.733672, p=0.000000, dof=14.000000\n"
     ]
    }
   ],
   "source": [
    "for trait in ['O','C','E','A','N']:\n",
    "    x = pd.crosstab(index=df_color_OCEAN_strat['%s_strat'%trait],columns=df_color_OCEAN_strat['FavColor'])\n",
    "    chi2, p, dof, expected = stats.chi2_contingency(x.values)\n",
    "    print('Chi2=%f, p=%f, dof=%f'%(chi2,p,dof))"
   ]
  },
  {
   "cell_type": "code",
   "execution_count": null,
   "metadata": {},
   "outputs": [],
   "source": []
  }
 ],
 "metadata": {
  "kernelspec": {
   "display_name": "Python 3",
   "language": "python",
   "name": "python3"
  },
  "language_info": {
   "codemirror_mode": {
    "name": "ipython",
    "version": 3
   },
   "file_extension": ".py",
   "mimetype": "text/x-python",
   "name": "python",
   "nbconvert_exporter": "python",
   "pygments_lexer": "ipython3",
   "version": "3.6.4"
  }
 },
 "nbformat": 4,
 "nbformat_minor": 2
}
