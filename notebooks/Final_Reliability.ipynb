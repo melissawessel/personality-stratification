{
 "cells": [
  {
   "cell_type": "markdown",
   "metadata": {},
   "source": [
    "# Reliability Organized"
   ]
  },
  {
   "cell_type": "code",
   "execution_count": 9,
   "metadata": {},
   "outputs": [],
   "source": [
    "import os,sys\n",
    "import numpy as np\n",
    "import pandas as pd\n",
    "import warnings; warnings.filterwarnings('ignore');\n",
    "\n",
    "src_dir = os.path.abspath(os.pardir)\n",
    "sys.path[0] = src_dir\n",
    "\n",
    "from analysis.CodingScoring import scoreTIPI, normTIPI, stratTIPI, getCronbachAlpha"
   ]
  },
  {
   "cell_type": "markdown",
   "metadata": {},
   "source": [
    "#### Import data"
   ]
  },
  {
   "cell_type": "code",
   "execution_count": 5,
   "metadata": {},
   "outputs": [],
   "source": [
    "questions = pd.read_csv('../data/External/dataHeadings.csv')\n",
    "dataRaw = pd.read_csv('../data/External/dataRaw.csv', names=questions.QuestionCode)\n",
    "# dataRaw[['E+','A-','C+','S-','O+','E-','A+','C-','S+','O-']].head()"
   ]
  },
  {
   "cell_type": "markdown",
   "metadata": {},
   "source": [
    "#### Code and score individual items"
   ]
  },
  {
   "cell_type": "code",
   "execution_count": 6,
   "metadata": {},
   "outputs": [],
   "source": [
    "df = dataRaw[['E+','A-','C+','S-','O+','E-','A+','C-','S+','O-']].replace(['Disagree strongly','Disagree moderately',\n",
    "                            'Disagree slightly','Neither agree nor disagree',\n",
    "                            'Agree slightly','Agree moderately','Agree strongly'],\n",
    "                            [1,2,3,4,5,6,7]).dropna()\n",
    "#  reverse code\n",
    "df[['A-','S-','E-','C-','O-']] = 8-df[['A-','S-','E-','C-','O-']]\n",
    "# df.head()"
   ]
  },
  {
   "cell_type": "markdown",
   "metadata": {},
   "source": [
    "#### Calculate Cronbach's Alpha"
   ]
  },
  {
   "cell_type": "code",
   "execution_count": 4,
   "metadata": {},
   "outputs": [
    {
     "name": "stdout",
     "output_type": "stream",
     "text": [
      "S alpha = 0.724448\n",
      "E alpha = 0.792720\n",
      "O alpha = 0.417748\n",
      "A alpha = 0.406742\n",
      "C alpha = 0.656733\n"
     ]
    }
   ],
   "source": [
    "for trait in ['S','E','O','A','C']:\n",
    "    traitdf = df[[trait+'+',trait+'-']]\n",
    "    traitT = np.asarray(traitdf).transpose()\n",
    "    a = getCronbachAlpha(traitT)\n",
    "    print('%s alpha = %f'% (trait,a))"
   ]
  },
  {
   "cell_type": "markdown",
   "metadata": {},
   "source": [
    "Import TIPI norms"
   ]
  },
  {
   "cell_type": "code",
   "execution_count": 11,
   "metadata": {},
   "outputs": [],
   "source": [
    "TIPInorms = pd.read_csv('../data/External/TIPINorms.csv', index_col=0)\n",
    "TIPInorms.columns = ['E','A','C','S','O']"
   ]
  },
  {
   "cell_type": "markdown",
   "metadata": {},
   "source": [
    "Group variables, code and recaculate Cronbach's alpha"
   ]
  },
  {
   "cell_type": "code",
   "execution_count": 12,
   "metadata": {},
   "outputs": [
    {
     "name": "stdout",
     "output_type": "stream",
     "text": [
      "S alpha = 0.671105\n",
      "E alpha = 0.739151\n",
      "O alpha = 0.417499\n",
      "A alpha = 0.371246\n",
      "C alpha = 0.594727\n"
     ]
    }
   ],
   "source": [
    "for trait in ['S','E','O','A','C']:\n",
    "    traitdf = df[[trait+'+',trait+'-']]\n",
    "    highcut = TIPInorms[trait].loc['Mean']+TIPInorms[trait].loc['SD']\n",
    "    lowcut = TIPInorms[trait].loc['Mean']-TIPInorms[trait].loc['SD']\n",
    "    traitdf[traitdf>highcut] = 'high'\n",
    "    traitdf[traitdf[traitdf.applymap(np.isreal)]<lowcut] = 'low'\n",
    "    traitdf[traitdf.applymap(np.isreal)] = 'mid'\n",
    "    traitdf = traitdf.replace(['high','mid','low'],[3,2,1])\n",
    "    traitT = np.asarray(traitdf).transpose()\n",
    "    a = getCronbachAlpha(traitT)\n",
    "    print('%s alpha = %f'% (trait,a))"
   ]
  },
  {
   "cell_type": "code",
   "execution_count": null,
   "metadata": {},
   "outputs": [],
   "source": []
  }
 ],
 "metadata": {
  "kernelspec": {
   "display_name": "Python 3",
   "language": "python",
   "name": "python3"
  },
  "language_info": {
   "codemirror_mode": {
    "name": "ipython",
    "version": 3
   },
   "file_extension": ".py",
   "mimetype": "text/x-python",
   "name": "python",
   "nbconvert_exporter": "python",
   "pygments_lexer": "ipython3",
   "version": "3.6.4"
  }
 },
 "nbformat": 4,
 "nbformat_minor": 2
}
