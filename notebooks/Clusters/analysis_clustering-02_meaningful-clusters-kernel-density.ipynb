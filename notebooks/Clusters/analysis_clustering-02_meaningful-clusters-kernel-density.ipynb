{
 "cells": [
  {
   "cell_type": "markdown",
   "metadata": {},
   "source": [
    "We fit a gaussian mixture model with a fixed number of clusters; we then estimate for each cluster the kerneldensity and compare it with the kerneldensity at the same point in a randomized dataset."
   ]
  },
  {
   "cell_type": "code",
   "execution_count": 32,
   "metadata": {},
   "outputs": [
    {
     "name": "stdout",
     "output_type": "stream",
     "text": [
      "The autoreload extension is already loaded. To reload it, use:\n",
      "  %reload_ext autoreload\n"
     ]
    }
   ],
   "source": [
    "%load_ext autoreload\n",
    "%autoreload 2\n",
    "\n",
    "import os, sys\n",
    "import pandas as pd\n",
    "import numpy as np\n",
    "import glob\n",
    "from scipy.spatial.distance import euclidean,cdist\n",
    "\n",
    "import pylab as plt\n",
    "from matplotlib.pyplot import get_cmap\n",
    "%matplotlib inline  \n",
    "\n",
    "src_dir = os.path.abspath(os.path.join(os.pardir,'personality-types-orig/src'))\n",
    "sys.path[0] = src_dir\n",
    "\n",
    "from analysis.cluster_density import gmm_kd\n",
    "from analysis.data_sample import get_subset\n",
    "from analysis.density import rho_pval,rho_eff"
   ]
  },
  {
   "cell_type": "markdown",
   "metadata": {},
   "source": [
    "# Load data and setup"
   ]
  },
  {
   "cell_type": "code",
   "execution_count": 42,
   "metadata": {},
   "outputs": [],
   "source": [
    "# TIPI scores - see below for normed scores\n",
    "fname_read = 'data/TIPI_fa_NEOAC.npy'\n",
    "arrTIPI =  np.load(fname_read)\n",
    "\n",
    "\n",
    "# parameters for fitting\n",
    "n_rep = 10 # number of different initial conditions for optimization\n",
    "Nc = 15 # this (13) is the number we found in the paper [Melissa - works with TIPI]\n",
    "n_rep_kd = 1000 # number of randomizations for estaimting density \n",
    "bw = -1 # bandwidth for density estimation (-1, estimate from avg nearest-neighbor distance)\n",
    "N_samples = 10000 # number of pairs of n.n. for estimating bandwidth \n"
   ]
  },
  {
   "cell_type": "code",
   "execution_count": 43,
   "metadata": {},
   "outputs": [
    {
     "data": {
      "text/plain": [
       "array([[ 0.58006338,  0.898994  ,  0.44892642,  0.53372388, -0.88832675],\n",
       "       [ 0.50603069,  0.69710941,  0.84527329, -0.1121367 ,  1.33299156],\n",
       "       [ 0.49048409,  0.47657985, -1.08828374, -0.22037689, -0.2735073 ],\n",
       "       ...,\n",
       "       [-0.76501292, -1.43511877, -0.27862767,  0.40373314,  1.14983515],\n",
       "       [ 1.88619799, -0.2266281 , -0.77953682,  0.45897336, -0.34496559],\n",
       "       [ 0.91118037,  0.40816054,  0.2036622 , -1.76339865, -0.6583265 ]])"
      ]
     },
     "execution_count": 43,
     "metadata": {},
     "output_type": "execute_result"
    }
   ],
   "source": [
    "arrTIPI"
   ]
  },
  {
   "cell_type": "code",
   "execution_count": 44,
   "metadata": {},
   "outputs": [],
   "source": [
    "#####\n",
    "# z-score the data in each dimension\n",
    "#####\n",
    "N_,D_ = np.shape(arrTIPI)\n",
    "for d in range(D_):\n",
    "    x_tmp = arrTIPI[:,d]\n",
    "    x_mu = np.mean(x_tmp)\n",
    "    x_std = np.std(x_tmp)\n",
    "    arrTIPI[:,d] = (x_tmp - x_mu)/x_std\n",
    "\n",
    "# scores are already normed - see TIPI_Scoring.ipynb\n",
    "# arrTIPI = np.load('data/TIPI_scored_normed_NEOAC.npy')\n",
    "\n",
    "#####\n",
    "# get a random subset to reduce processing time\n",
    "# use line above if you want to fit the whole dataset\n",
    "#####\n",
    "arr_x = 1.0*arrTIPI\n",
    "# arr_x = get_subset(arr_pd,20000) \n"
   ]
  },
  {
   "cell_type": "code",
   "execution_count": 45,
   "metadata": {},
   "outputs": [
    {
     "data": {
      "text/plain": [
       "array([[ 0.63898586,  0.97877072,  0.55355663,  0.71825657, -1.04286009],\n",
       "       [ 0.55743296,  0.7589709 ,  1.04227912, -0.15090748,  1.5648788 ],\n",
       "       [ 0.54030716,  0.51887154, -1.34192744, -0.29657123, -0.32108664],\n",
       "       ...,\n",
       "       [-0.84272245, -1.5624712 , -0.34356675,  0.5433221 ,  1.3498605 ],\n",
       "       [ 2.07779679, -0.24673907, -0.96122161,  0.61766139, -0.40497581],\n",
       "       [ 1.0037375 ,  0.4443807 ,  0.25112927, -2.37308602, -0.77284899]])"
      ]
     },
     "execution_count": 45,
     "metadata": {},
     "output_type": "execute_result"
    }
   ],
   "source": [
    "arrTIPI"
   ]
  },
  {
   "cell_type": "markdown",
   "metadata": {
    "collapsed": true
   },
   "source": [
    "# Fit"
   ]
  },
  {
   "cell_type": "code",
   "execution_count": 53,
   "metadata": {},
   "outputs": [],
   "source": [
    "## fit the gmm\n",
    "dict_result = gmm_kd(Nc,arrTIPI,n_rep,n_rep_kd, bw = bw, N_samples = N_samples)"
   ]
  },
  {
   "cell_type": "code",
   "execution_count": 54,
   "metadata": {},
   "outputs": [],
   "source": [
    "\n",
    "## the cluster centers\n",
    "arr_cd = dict_result['cluster']\n",
    "\n",
    "arr_cov = dict_result['cov']\n",
    "\n",
    "arr_rho = dict_result['rho'] ## density for each cluster in original dataset\n",
    "arr_rho_rand = dict_result['rho_rand'] ## density for each cluster in randomized dataset\n",
    "\n",
    "## the p-value and the enrichment for the kerneldensity \n",
    "## in comparison to kd in randomimzed datat\n",
    "arr_rho_eff = rho_eff(arr_rho,arr_rho_rand)\n",
    "arr_rho_pval = rho_pval(arr_rho,arr_rho_rand)"
   ]
  },
  {
   "cell_type": "code",
   "execution_count": 55,
   "metadata": {},
   "outputs": [],
   "source": [
    "del arr_cd_sig\n",
    "arr_cd_sig = np.empty([1,5])\n",
    "arr_cd_sig_id = []"
   ]
  },
  {
   "cell_type": "code",
   "execution_count": 56,
   "metadata": {},
   "outputs": [
    {
     "name": "stdout",
     "output_type": "stream",
     "text": [
      "Cluster 1 \n",
      "N:0.76 | E:-0.78 | O:0.42 | A:0.23 | C:-1.30\n",
      "p-value:0.00 | enrichment:1.34\n",
      "---\n",
      "Cluster 2 \n",
      "N:0.65 | E:-0.84 | O:0.67 | A:0.56 | C:0.47\n",
      "p-value:0.78 | enrichment:0.95\n",
      "---\n",
      "Cluster 3 \n",
      "N:-1.01 | E:-0.73 | O:-0.25 | A:-1.34 | C:0.35\n",
      "p-value:0.00 | enrichment:1.39\n",
      "---\n",
      "Cluster 4 \n",
      "N:0.70 | E:-0.87 | O:-1.16 | A:0.10 | C:0.43\n",
      "p-value:0.02 | enrichment:1.18\n",
      "---\n",
      "Cluster 5 \n",
      "N:-0.99 | E:-0.73 | O:0.58 | A:0.30 | C:0.24\n",
      "p-value:0.32 | enrichment:1.03\n",
      "---\n",
      "Cluster 6 \n",
      "N:0.74 | E:-0.64 | O:0.37 | A:-0.98 | C:0.37\n",
      "p-value:0.90 | enrichment:0.90\n",
      "---\n",
      "Cluster 7 \n",
      "N:-0.96 | E:0.98 | O:0.53 | A:0.36 | C:0.36\n",
      "p-value:0.00 | enrichment:1.46\n",
      "---\n",
      "Cluster 8 \n",
      "N:0.42 | E:-0.46 | O:-0.86 | A:-0.68 | C:-1.62\n",
      "p-value:0.16 | enrichment:1.22\n",
      "---\n",
      "Cluster 9 \n",
      "N:-1.05 | E:0.21 | O:0.23 | A:0.03 | C:-1.67\n",
      "p-value:0.21 | enrichment:1.13\n",
      "---\n",
      "Cluster 10 \n",
      "N:-0.91 | E:0.82 | O:-1.28 | A:0.13 | C:0.34\n",
      "p-value:0.02 | enrichment:1.24\n",
      "---\n",
      "Cluster 11 \n",
      "N:0.74 | E:0.97 | O:0.58 | A:0.05 | C:-1.41\n",
      "p-value:0.01 | enrichment:1.31\n",
      "---\n",
      "Cluster 12 \n",
      "N:-0.03 | E:0.91 | O:0.23 | A:-1.14 | C:0.28\n",
      "p-value:0.27 | enrichment:1.07\n",
      "---\n",
      "Cluster 13 \n",
      "N:0.75 | E:0.92 | O:0.58 | A:0.50 | C:0.51\n",
      "p-value:0.19 | enrichment:1.06\n",
      "---\n",
      "Cluster 14 \n",
      "N:-1.01 | E:-0.86 | O:-1.10 | A:0.36 | C:0.31\n",
      "p-value:0.00 | enrichment:1.30\n",
      "---\n",
      "Cluster 15 \n",
      "N:0.76 | E:0.92 | O:-1.25 | A:0.19 | C:0.20\n",
      "p-value:0.91 | enrichment:0.88\n",
      "---\n"
     ]
    },
    {
     "data": {
      "image/png": "[encoded data removed]",
      "text/plain": [
       "<Figure size 432x288 with 1 Axes>"
      ]
     },
     "metadata": {},
     "output_type": "display_data"
    },
    {
     "data": {
      "image/png": "[encoded data removed]",
      "text/plain": [
       "<Figure size 432x288 with 1 Axes>"
      ]
     },
     "metadata": {},
     "output_type": "display_data"
    },
    {
     "data": {
      "image/png": "[encoded data removed]",
      "text/plain": [
       "<Figure size 432x288 with 1 Axes>"
      ]
     },
     "metadata": {},
     "output_type": "display_data"
    },
    {
     "data": {
      "image/png": "[encoded data removed]",
      "text/plain": [
       "<Figure size 432x288 with 1 Axes>"
      ]
     },
     "metadata": {},
     "output_type": "display_data"
    }
   ],
   "source": [
    "for i_Nc in range(Nc):\n",
    "    print('Cluster %s '%(i_Nc+1))\n",
    "    print('N:%.2f | E:%.2f | O:%.2f | A:%.2f | C:%.2f'%\n",
    "          (arr_cd[i_Nc,0],arr_cd[i_Nc,1],arr_cd[i_Nc,2],arr_cd[i_Nc,3],arr_cd[i_Nc,4]) )\n",
    "    print('p-value:%.2f | enrichment:%.2f'%\n",
    "          (arr_rho_pval[i_Nc],arr_rho_eff[i_Nc]))\n",
    "    if arr_rho_pval[i_Nc]<=.01 and arr_rho_eff[i_Nc]>=1.25:\n",
    "        plt.figure(i_Nc)\n",
    "        plt.plot(['N','E','O','A','C'],arr_cd[i_Nc], marker='o')\n",
    "        plt.ylim(-1.25,1.25)\n",
    "        plt.hlines(y=0,xmin='N',xmax='C',linestyles='dashed')\n",
    "        arr_cd_sig = np.vstack((arr_cd_sig,arr_cd[i_Nc]))\n",
    "        arr_cd_sig_id.append(i_Nc)\n",
    "    print('---')\n",
    "    "
   ]
  },
  {
   "cell_type": "code",
   "execution_count": 57,
   "metadata": {},
   "outputs": [
    {
     "data": {
      "text/plain": [
       "array([[ 0.76121088, -0.78317152,  0.41711005,  0.22915072, -1.2988785 ],\n",
       "       [-1.01237059, -0.73361016, -0.24517022, -1.34343959,  0.35195018],\n",
       "       [-0.95596341,  0.98410019,  0.53402122,  0.35746483,  0.36325226],\n",
       "       [-1.01277321, -0.85952354, -1.09941738,  0.35830382,  0.3137447 ]])"
      ]
     },
     "execution_count": 57,
     "metadata": {},
     "output_type": "execute_result"
    }
   ],
   "source": [
    "arr_cd_sig[1:,]"
   ]
  },
  {
   "cell_type": "code",
   "execution_count": 58,
   "metadata": {},
   "outputs": [],
   "source": [
    "np.save('Pascal_clusters_Nc15_fa_normed_1.npy',arr_cd_sig[1:,])"
   ]
  },
  {
   "cell_type": "code",
   "execution_count": 62,
   "metadata": {},
   "outputs": [
    {
     "data": {
      "text/plain": [
       "array([0.34060003, 0.1950959 , 0.46481228, 0.92310431, 0.42222254])"
      ]
     },
     "execution_count": 62,
     "metadata": {},
     "output_type": "execute_result"
    }
   ],
   "source": [
    "arr_cov[3].diagonal()"
   ]
  },
  {
   "cell_type": "code",
   "execution_count": 100,
   "metadata": {},
   "outputs": [
    {
     "data": {
      "text/plain": [
       "1.4598680565370348"
      ]
     },
     "execution_count": 100,
     "metadata": {},
     "output_type": "execute_result"
    }
   ],
   "source": [
    "avg_cov = arr_cov[3].diagonal()\n",
    "avg = np.array([ 0.45833435,  0.39819   , -0.75955408, -0.19528638, -0.29663314])\n",
    "euclidean(avg+avg_cov,avg-avg_cov)"
   ]
  },
  {
   "cell_type": "code",
   "execution_count": 101,
   "metadata": {},
   "outputs": [
    {
     "data": {
      "text/plain": [
       "array([0.13080468, 0.33042128, 0.27485486, 0.16079605, 0.55237219])"
      ]
     },
     "execution_count": 101,
     "metadata": {},
     "output_type": "execute_result"
    }
   ],
   "source": [
    "avg_cov"
   ]
  },
  {
   "cell_type": "markdown",
   "metadata": {},
   "source": [
    "# Plot the result\n",
    "\n",
    "for each cluster we plot the p-value and the enrichment"
   ]
  },
  {
   "cell_type": "code",
   "execution_count": 80,
   "metadata": {},
   "outputs": [
    {
     "data": {
      "text/plain": [
       "Text(0.5, 0, 'Enrichment, $\\\\rho/\\\\langle \\\\tilde{\\\\rho} \\\\rangle$')"
      ]
     },
     "execution_count": 80,
     "metadata": {},
     "output_type": "execute_result"
    },
    {
     "data": {
      "image/png": "[encoded data removed]",
      "text/plain": [
       "<Figure size 432x288 with 1 Axes>"
      ]
     },
     "metadata": {},
     "output_type": "display_data"
    }
   ],
   "source": [
    "pval_crit = 0.01\n",
    "eff_crit = 1.25\n",
    "cmap = get_cmap('tab10')\n",
    "c_ = cmap(1)\n",
    "c_shade=str(0.8)\n",
    "cmap = get_cmap('tab10')\n",
    "\n",
    "\n",
    "f = plt.figure()\n",
    "\n",
    "ax = f.add_subplot(111)\n",
    "x = np.log10(arr_rho_eff + 0.0*np.random.random(size=len(arr_rho_eff))   ) \n",
    "y = np.log10(arr_rho_pval)\n",
    "ax.plot(x,y,ms=3,lw=0,marker='x',color=c_)\n",
    "# ax.fill_between(x,0.001+0.0*x,1.0+0.0*x,where=y<=pval_crit,color=c_shade)\n",
    "# ax.set_yscale('log')\n",
    "\n",
    "#     xmin = 0.\n",
    "xmax = np.log10(2.)\n",
    "xmin=-xmax\n",
    "\n",
    "ymin = -4.5\n",
    "ymax=0.5\n",
    "x = np.linspace(xmin,xmax,10)\n",
    "y = np.log10(pval_crit)+0.0*x\n",
    "ax.plot(x,y,ms=0,lw=1,ls=':',marker='o',color='black')\n",
    "\n",
    "x = [np.log10(eff_crit),np.log10(eff_crit)]\n",
    "y = [ymin,ymax]\n",
    "ax.plot(x,y,ms=0,lw=1,ls=':',marker='o',color='black')\n",
    "\n",
    "x = [0,0]\n",
    "y = [ymin,ymax]\n",
    "ax.plot(x,y,ms=0,lw=1,ls='-',marker='o',color=str(0.5))#,alpha=0.5)\n",
    "\n",
    "x = np.linspace(np.log10(eff_crit),xmax,10)\n",
    "y1 = ymin + 0.0*x\n",
    "y2 = np.log10(pval_crit) + 0.0*x\n",
    "ax.fill_between(x,y1,y2,color=c_shade)\n",
    "\n",
    "# # ax.set_xlabel(r'cluster index')\n",
    "ax.set_ylabel(r'$\\log_{10}$ $p$-value')\n",
    "# ax.set_yscale('log')\n",
    "\n",
    "x_marks = np.log10( np.array([0.5,0.8, 1., 1.25,2.]) )\n",
    "x_labels = ['0.5','0.8','1','1.25','2']\n",
    "ax.set_xticks(x_marks)\n",
    "ax.set_xticklabels(x_labels)\n",
    "# ax.set_xticklabels([])\n",
    "ax.set_yticks([-4,-3,-2,-1,0])\n",
    "# ax.set_yticklabels([r'$-3$',r'$-2$',r'$-1$',r'$0$'])\n",
    "ax.set_ylim(-4.5,0.5)\n",
    "ax.set_xlim(xmin,xmax)\n",
    "\n",
    "\n",
    "\n",
    "#     ax.locator_params(axis = 'x',nbins=5)\n",
    "ax.set_xlabel(r'Enrichment, $\\rho/\\langle \\tilde{\\rho} \\rangle$',labelpad=3)\n"
   ]
  },
  {
   "cell_type": "code",
   "execution_count": 79,
   "metadata": {},
   "outputs": [
    {
     "data": {
      "text/plain": [
       "'/Users/melissawessel/Documents/dev/python/personality-types-orig/src'"
      ]
     },
     "execution_count": 79,
     "metadata": {},
     "output_type": "execute_result"
    }
   ],
   "source": [
    "src_dir"
   ]
  },
  {
   "cell_type": "code",
   "execution_count": null,
   "metadata": {},
   "outputs": [],
   "source": []
  }
 ],
 "metadata": {
  "kernelspec": {
   "display_name": "Python 3",
   "language": "python",
   "name": "python3"
  },
  "language_info": {
   "codemirror_mode": {
    "name": "ipython",
    "version": 3
   },
   "file_extension": ".py",
   "mimetype": "text/x-python",
   "name": "python",
   "nbconvert_exporter": "python",
   "pygments_lexer": "ipython3",
   "version": "3.6.4"
  }
 },
 "nbformat": 4,
 "nbformat_minor": 1
}
