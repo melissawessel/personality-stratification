{
 "cells": [
  {
   "cell_type": "markdown",
   "metadata": {},
   "source": [
    "# Correlations"
   ]
  },
  {
   "cell_type": "code",
   "execution_count": 1,
   "metadata": {},
   "outputs": [],
   "source": [
    "import numpy as np\n",
    "import pandas as pd\n",
    "import pylab as plt\n",
    "from scipy import stats\n",
    "from sklearn import linear_model, datasets\n",
    "from sklearn.metrics import mean_squared_error, r2_score\n",
    "\n",
    "from analysis.CodingScoring import scoreTIPI, normTIPI\n",
    "plt.style.use('dark_background')"
   ]
  },
  {
   "cell_type": "code",
   "execution_count": 2,
   "metadata": {},
   "outputs": [
    {
     "data": {
      "text/html": [
       "<div>\n",
       "<style scoped>\n",
       "    .dataframe tbody tr th:only-of-type {\n",
       "        vertical-align: middle;\n",
       "    }\n",
       "\n",
       "    .dataframe tbody tr th {\n",
       "        vertical-align: top;\n",
       "    }\n",
       "\n",
       "    .dataframe thead th {\n",
       "        text-align: right;\n",
       "    }\n",
       "</style>\n",
       "<table border=\"1\" class=\"dataframe\">\n",
       "  <thead>\n",
       "    <tr style=\"text-align: right;\">\n",
       "      <th></th>\n",
       "      <th>Start Date</th>\n",
       "      <th>End Date</th>\n",
       "      <th>DressColor</th>\n",
       "      <th>DressColorOther</th>\n",
       "      <th>DressShadow</th>\n",
       "      <th>DressShadowOther</th>\n",
       "      <th>DressLight</th>\n",
       "      <th>DressTrueColors</th>\n",
       "      <th>DressTrueColorsOther</th>\n",
       "      <th>JacketColor</th>\n",
       "      <th>...</th>\n",
       "      <th>C+</th>\n",
       "      <th>S-</th>\n",
       "      <th>O+</th>\n",
       "      <th>E-</th>\n",
       "      <th>A+</th>\n",
       "      <th>C-</th>\n",
       "      <th>S+</th>\n",
       "      <th>O-</th>\n",
       "      <th>HonestyCheck</th>\n",
       "      <th>FreeText</th>\n",
       "    </tr>\n",
       "  </thead>\n",
       "  <tbody>\n",
       "    <tr>\n",
       "      <th>0</th>\n",
       "      <td>10/14/17 0:50</td>\n",
       "      <td>10/14/17 0:59</td>\n",
       "      <td>White/Gold</td>\n",
       "      <td>NaN</td>\n",
       "      <td>Yes</td>\n",
       "      <td>NaN</td>\n",
       "      <td>Artificial light</td>\n",
       "      <td>No</td>\n",
       "      <td>NaN</td>\n",
       "      <td>Other (please specify)</td>\n",
       "      <td>...</td>\n",
       "      <td>Neither agree nor disagree</td>\n",
       "      <td>Agree slightly</td>\n",
       "      <td>Agree strongly</td>\n",
       "      <td>Agree slightly</td>\n",
       "      <td>Agree strongly</td>\n",
       "      <td>Agree moderately</td>\n",
       "      <td>Agree slightly</td>\n",
       "      <td>Disagree moderately</td>\n",
       "      <td>Yes</td>\n",
       "      <td>Best of luck!</td>\n",
       "    </tr>\n",
       "    <tr>\n",
       "      <th>1</th>\n",
       "      <td>10/14/17 0:30</td>\n",
       "      <td>10/14/17 0:40</td>\n",
       "      <td>NaN</td>\n",
       "      <td>Switches from blue/black to blue/gold</td>\n",
       "      <td>No</td>\n",
       "      <td>NaN</td>\n",
       "      <td>Artificial light</td>\n",
       "      <td>No</td>\n",
       "      <td>NaN</td>\n",
       "      <td>Other (please specify)</td>\n",
       "      <td>...</td>\n",
       "      <td>Agree strongly</td>\n",
       "      <td>Agree slightly</td>\n",
       "      <td>Agree slightly</td>\n",
       "      <td>Disagree slightly</td>\n",
       "      <td>Agree moderately</td>\n",
       "      <td>Disagree strongly</td>\n",
       "      <td>Agree moderately</td>\n",
       "      <td>Disagree strongly</td>\n",
       "      <td>Yes</td>\n",
       "      <td>Hope research is going well!! Good luck!</td>\n",
       "    </tr>\n",
       "    <tr>\n",
       "      <th>2</th>\n",
       "      <td>10/14/17 0:00</td>\n",
       "      <td>10/14/17 0:04</td>\n",
       "      <td>Blue/Black</td>\n",
       "      <td>NaN</td>\n",
       "      <td>No</td>\n",
       "      <td>NaN</td>\n",
       "      <td>Artificial light</td>\n",
       "      <td>No</td>\n",
       "      <td>NaN</td>\n",
       "      <td>Blue and white</td>\n",
       "      <td>...</td>\n",
       "      <td>Agree slightly</td>\n",
       "      <td>Agree slightly</td>\n",
       "      <td>Agree moderately</td>\n",
       "      <td>Agree slightly</td>\n",
       "      <td>Agree slightly</td>\n",
       "      <td>Agree slightly</td>\n",
       "      <td>Agree slightly</td>\n",
       "      <td>Agree slightly</td>\n",
       "      <td>Yes</td>\n",
       "      <td>NaN</td>\n",
       "    </tr>\n",
       "    <tr>\n",
       "      <th>3</th>\n",
       "      <td>10/13/17 23:38</td>\n",
       "      <td>10/13/17 23:45</td>\n",
       "      <td>White/Gold</td>\n",
       "      <td>NaN</td>\n",
       "      <td>Yes</td>\n",
       "      <td>NaN</td>\n",
       "      <td>Natural light</td>\n",
       "      <td>No</td>\n",
       "      <td>NaN</td>\n",
       "      <td>Green and gold</td>\n",
       "      <td>...</td>\n",
       "      <td>Agree moderately</td>\n",
       "      <td>Disagree moderately</td>\n",
       "      <td>Agree moderately</td>\n",
       "      <td>Disagree slightly</td>\n",
       "      <td>Disagree slightly</td>\n",
       "      <td>Disagree moderately</td>\n",
       "      <td>Agree moderately</td>\n",
       "      <td>Neither agree nor disagree</td>\n",
       "      <td>Yes</td>\n",
       "      <td>I'm an engineer and would love to see the data...</td>\n",
       "    </tr>\n",
       "    <tr>\n",
       "      <th>4</th>\n",
       "      <td>10/13/17 23:24</td>\n",
       "      <td>10/13/17 23:30</td>\n",
       "      <td>White/Gold</td>\n",
       "      <td>NaN</td>\n",
       "      <td>No</td>\n",
       "      <td>NaN</td>\n",
       "      <td>Natural light</td>\n",
       "      <td>No</td>\n",
       "      <td>NaN</td>\n",
       "      <td>Other (please specify)</td>\n",
       "      <td>...</td>\n",
       "      <td>Agree slightly</td>\n",
       "      <td>Agree slightly</td>\n",
       "      <td>Neither agree nor disagree</td>\n",
       "      <td>Agree slightly</td>\n",
       "      <td>Agree moderately</td>\n",
       "      <td>Neither agree nor disagree</td>\n",
       "      <td>Agree slightly</td>\n",
       "      <td>Agree slightly</td>\n",
       "      <td>Yes</td>\n",
       "      <td>NaN</td>\n",
       "    </tr>\n",
       "  </tbody>\n",
       "</table>\n",
       "<p>5 rows × 39 columns</p>\n",
       "</div>"
      ],
      "text/plain": [
       "       Start Date        End Date  DressColor  \\\n",
       "0   10/14/17 0:50   10/14/17 0:59  White/Gold   \n",
       "1   10/14/17 0:30   10/14/17 0:40         NaN   \n",
       "2   10/14/17 0:00   10/14/17 0:04  Blue/Black   \n",
       "3  10/13/17 23:38  10/13/17 23:45  White/Gold   \n",
       "4  10/13/17 23:24  10/13/17 23:30  White/Gold   \n",
       "\n",
       "                         DressColorOther DressShadow DressShadowOther  \\\n",
       "0                                    NaN         Yes              NaN   \n",
       "1  Switches from blue/black to blue/gold          No              NaN   \n",
       "2                                    NaN          No              NaN   \n",
       "3                                    NaN         Yes              NaN   \n",
       "4                                    NaN          No              NaN   \n",
       "\n",
       "         DressLight DressTrueColors DressTrueColorsOther  \\\n",
       "0  Artificial light              No                  NaN   \n",
       "1  Artificial light              No                  NaN   \n",
       "2  Artificial light              No                  NaN   \n",
       "3     Natural light              No                  NaN   \n",
       "4     Natural light              No                  NaN   \n",
       "\n",
       "              JacketColor                        ...                          \\\n",
       "0  Other (please specify)                        ...                           \n",
       "1  Other (please specify)                        ...                           \n",
       "2          Blue and white                        ...                           \n",
       "3          Green and gold                        ...                           \n",
       "4  Other (please specify)                        ...                           \n",
       "\n",
       "                           C+                   S-  \\\n",
       "0  Neither agree nor disagree       Agree slightly   \n",
       "1              Agree strongly       Agree slightly   \n",
       "2              Agree slightly       Agree slightly   \n",
       "3            Agree moderately  Disagree moderately   \n",
       "4              Agree slightly       Agree slightly   \n",
       "\n",
       "                           O+                 E-                 A+  \\\n",
       "0              Agree strongly     Agree slightly     Agree strongly   \n",
       "1              Agree slightly  Disagree slightly   Agree moderately   \n",
       "2            Agree moderately     Agree slightly     Agree slightly   \n",
       "3            Agree moderately  Disagree slightly  Disagree slightly   \n",
       "4  Neither agree nor disagree     Agree slightly   Agree moderately   \n",
       "\n",
       "                           C-                S+                          O-  \\\n",
       "0            Agree moderately    Agree slightly         Disagree moderately   \n",
       "1           Disagree strongly  Agree moderately           Disagree strongly   \n",
       "2              Agree slightly    Agree slightly              Agree slightly   \n",
       "3         Disagree moderately  Agree moderately  Neither agree nor disagree   \n",
       "4  Neither agree nor disagree    Agree slightly              Agree slightly   \n",
       "\n",
       "  HonestyCheck                                           FreeText  \n",
       "0          Yes                                      Best of luck!  \n",
       "1          Yes          Hope research is going well!! Good luck!   \n",
       "2          Yes                                                NaN  \n",
       "3          Yes  I'm an engineer and would love to see the data...  \n",
       "4          Yes                                                NaN  \n",
       "\n",
       "[5 rows x 39 columns]"
      ]
     },
     "execution_count": 2,
     "metadata": {},
     "output_type": "execute_result"
    }
   ],
   "source": [
    "\n",
    "questions = pd.read_csv('data/External/dataHeadings.csv')\n",
    "dataRaw = pd.read_csv('data/External/dataRaw.csv', names=questions.QuestionCode)\n",
    "dataRaw.head()\n"
   ]
  },
  {
   "cell_type": "code",
   "execution_count": 3,
   "metadata": {},
   "outputs": [],
   "source": [
    "df = dataRaw.join(normTIPI(scoreTIPI(dataRaw)))"
   ]
  },
  {
   "cell_type": "markdown",
   "metadata": {},
   "source": [
    "## Chronotype"
   ]
  },
  {
   "cell_type": "code",
   "execution_count": 4,
   "metadata": {},
   "outputs": [],
   "source": [
    "cxOCEAS = df[['Chronotype','O','C','E','A','S']]"
   ]
  },
  {
   "cell_type": "code",
   "execution_count": 5,
   "metadata": {},
   "outputs": [],
   "source": [
    "m = cxOCEAS.groupby(['Chronotype']).mean()"
   ]
  },
  {
   "cell_type": "code",
   "execution_count": 6,
   "metadata": {},
   "outputs": [
    {
     "data": {
      "text/html": [
       "<div>\n",
       "<style scoped>\n",
       "    .dataframe tbody tr th:only-of-type {\n",
       "        vertical-align: middle;\n",
       "    }\n",
       "\n",
       "    .dataframe tbody tr th {\n",
       "        vertical-align: top;\n",
       "    }\n",
       "\n",
       "    .dataframe thead th {\n",
       "        text-align: right;\n",
       "    }\n",
       "</style>\n",
       "<table border=\"1\" class=\"dataframe\">\n",
       "  <thead>\n",
       "    <tr style=\"text-align: right;\">\n",
       "      <th></th>\n",
       "      <th>O</th>\n",
       "      <th>C</th>\n",
       "      <th>E</th>\n",
       "      <th>A</th>\n",
       "      <th>S</th>\n",
       "    </tr>\n",
       "    <tr>\n",
       "      <th>Chronotype</th>\n",
       "      <th></th>\n",
       "      <th></th>\n",
       "      <th></th>\n",
       "      <th></th>\n",
       "      <th></th>\n",
       "    </tr>\n",
       "  </thead>\n",
       "  <tbody>\n",
       "    <tr>\n",
       "      <th>Lark</th>\n",
       "      <td>-0.250813</td>\n",
       "      <td>0.451232</td>\n",
       "      <td>-0.198122</td>\n",
       "      <td>0.164111</td>\n",
       "      <td>0.188074</td>\n",
       "    </tr>\n",
       "    <tr>\n",
       "      <th>Owl</th>\n",
       "      <td>-0.222538</td>\n",
       "      <td>0.151161</td>\n",
       "      <td>-0.231596</td>\n",
       "      <td>0.072580</td>\n",
       "      <td>0.099233</td>\n",
       "    </tr>\n",
       "    <tr>\n",
       "      <th>Strong lark</th>\n",
       "      <td>-0.239012</td>\n",
       "      <td>0.596748</td>\n",
       "      <td>-0.232154</td>\n",
       "      <td>0.164584</td>\n",
       "      <td>0.223488</td>\n",
       "    </tr>\n",
       "    <tr>\n",
       "      <th>Strong owl</th>\n",
       "      <td>-0.062307</td>\n",
       "      <td>-0.081510</td>\n",
       "      <td>-0.247742</td>\n",
       "      <td>-0.020602</td>\n",
       "      <td>-0.042507</td>\n",
       "    </tr>\n",
       "  </tbody>\n",
       "</table>\n",
       "</div>"
      ],
      "text/plain": [
       "                    O         C         E         A         S\n",
       "Chronotype                                                   \n",
       "Lark        -0.250813  0.451232 -0.198122  0.164111  0.188074\n",
       "Owl         -0.222538  0.151161 -0.231596  0.072580  0.099233\n",
       "Strong lark -0.239012  0.596748 -0.232154  0.164584  0.223488\n",
       "Strong owl  -0.062307 -0.081510 -0.247742 -0.020602 -0.042507"
      ]
     },
     "execution_count": 6,
     "metadata": {},
     "output_type": "execute_result"
    }
   ],
   "source": [
    "m"
   ]
  },
  {
   "cell_type": "code",
   "execution_count": 7,
   "metadata": {},
   "outputs": [
    {
     "data": {
      "text/plain": [
       "<matplotlib.legend.Legend at 0x10e7702e8>"
      ]
     },
     "execution_count": 7,
     "metadata": {},
     "output_type": "execute_result"
    },
    {
     "data": {
      "image/png": "[encoded data removed]",
      "text/plain": [
       "<Figure size 432x288 with 1 Axes>"
      ]
     },
     "metadata": {},
     "output_type": "display_data"
    }
   ],
   "source": [
    "plt.plot(m.loc[['Strong lark','Lark','Owl','Strong owl']], marker='o')\n",
    "plt.legend(['O','C','E','A','S'])"
   ]
  },
  {
   "cell_type": "code",
   "execution_count": 23,
   "metadata": {},
   "outputs": [
    {
     "data": {
      "text/plain": [
       "<matplotlib.axes._subplots.AxesSubplot at 0x1126312e8>"
      ]
     },
     "execution_count": 23,
     "metadata": {},
     "output_type": "execute_result"
    },
    {
     "data": {
      "image/png": "[encoded data removed]",
      "text/plain": [
       "<Figure size 432x288 with 1 Axes>"
      ]
     },
     "metadata": {},
     "output_type": "display_data"
    }
   ],
   "source": [
    "cxOCEAS.boxplot('C', by='Chronotype')"
   ]
  },
  {
   "cell_type": "code",
   "execution_count": 14,
   "metadata": {},
   "outputs": [
    {
     "data": {
      "text/plain": [
       "91     0.957585\n",
       "142    1.664499\n",
       "150    1.664499\n",
       "186    0.604128\n",
       "189    1.664499\n",
       "Name: C, dtype: float64"
      ]
     },
     "execution_count": 14,
     "metadata": {},
     "output_type": "execute_result"
    }
   ],
   "source": [
    "cxOCEAS['C'][cxOCEAS['Chronotype']=='Strong lark'].dropna().head()"
   ]
  },
  {
   "cell_type": "code",
   "execution_count": 24,
   "metadata": {},
   "outputs": [
    {
     "name": "stdout",
     "output_type": "stream",
     "text": [
      "F=42.857438, p=0.000000\n",
      "F=1.638169, p=0.178211\n",
      "F=30.401000, p=0.000000\n",
      "F=26.590246, p=0.000000\n",
      "F=300.886551, p=0.000000\n"
     ]
    }
   ],
   "source": [
    "for trait in ['S','E','O','A','C']:\n",
    "    sl = cxOCEAS[trait][cxOCEAS['Chronotype']=='Strong lark'].dropna()\n",
    "    l = cxOCEAS[trait][cxOCEAS['Chronotype']=='Lark'].dropna()\n",
    "    o = cxOCEAS[trait][cxOCEAS['Chronotype']=='Owl'].dropna()\n",
    "    so = cxOCEAS[trait][cxOCEAS['Chronotype']=='Strong owl'].dropna()\n",
    "    f_val, p_val = stats.f_oneway(sl,l,o,so)\n",
    "    print('F=%f, p=%f'%(f_val,p_val))"
   ]
  },
  {
   "cell_type": "code",
   "execution_count": null,
   "metadata": {},
   "outputs": [],
   "source": []
  },
  {
   "cell_type": "code",
   "execution_count": null,
   "metadata": {},
   "outputs": [],
   "source": []
  },
  {
   "cell_type": "code",
   "execution_count": null,
   "metadata": {},
   "outputs": [],
   "source": []
  },
  {
   "cell_type": "code",
   "execution_count": 95,
   "metadata": {},
   "outputs": [
    {
     "data": {
      "text/plain": [
       "Index(['Start Date', 'End Date', 'DressColor', 'DressColorOther',\n",
       "       'DressShadow', 'DressShadowOther', 'DressLight', 'DressTrueColors',\n",
       "       'DressTrueColorsOther', 'JacketColor', 'JacketColorOther',\n",
       "       'JacketShadow', 'JacketLight', 'JacketLightDirection',\n",
       "       'JacketTrueColors', 'FlopColor', 'FlopColorOther', 'FlopShadow',\n",
       "       'FlopLight', 'FlopTrueColors', 'Age', 'Gender', 'Ethnicity',\n",
       "       'Chronotype', 'ChronotypeOther', 'FavColor', 'VisDisorder', 'E+', 'A-',\n",
       "       'C+', 'S-', 'O+', 'E-', 'A+', 'C-', 'S+', 'O-', 'HonestyCheck',\n",
       "       'FreeText'],\n",
       "      dtype='object')"
      ]
     },
     "execution_count": 95,
     "metadata": {},
     "output_type": "execute_result"
    }
   ],
   "source": [
    "dataRaw.columns"
   ]
  },
  {
   "cell_type": "markdown",
   "metadata": {},
   "source": [
    "## Code OCEAS into high mid low\n",
    "By standard deviation"
   ]
  },
  {
   "cell_type": "code",
   "execution_count": 108,
   "metadata": {},
   "outputs": [
    {
     "data": {
      "text/html": [
       "<div>\n",
       "<style scoped>\n",
       "    .dataframe tbody tr th:only-of-type {\n",
       "        vertical-align: middle;\n",
       "    }\n",
       "\n",
       "    .dataframe tbody tr th {\n",
       "        vertical-align: top;\n",
       "    }\n",
       "\n",
       "    .dataframe thead th {\n",
       "        text-align: right;\n",
       "    }\n",
       "</style>\n",
       "<table border=\"1\" class=\"dataframe\">\n",
       "  <thead>\n",
       "    <tr style=\"text-align: right;\">\n",
       "      <th></th>\n",
       "      <th>Chronotype</th>\n",
       "      <th>O</th>\n",
       "      <th>C</th>\n",
       "      <th>E</th>\n",
       "      <th>A</th>\n",
       "      <th>S</th>\n",
       "    </tr>\n",
       "  </thead>\n",
       "  <tbody>\n",
       "    <tr>\n",
       "      <th>0</th>\n",
       "      <td>Strong owl</td>\n",
       "      <td>6.5</td>\n",
       "      <td>3.0</td>\n",
       "      <td>4.5</td>\n",
       "      <td>4.0</td>\n",
       "      <td>4.0</td>\n",
       "    </tr>\n",
       "    <tr>\n",
       "      <th>1</th>\n",
       "      <td>Strong owl</td>\n",
       "      <td>6.0</td>\n",
       "      <td>7.0</td>\n",
       "      <td>5.0</td>\n",
       "      <td>4.0</td>\n",
       "      <td>4.5</td>\n",
       "    </tr>\n",
       "    <tr>\n",
       "      <th>2</th>\n",
       "      <td>Owl</td>\n",
       "      <td>4.5</td>\n",
       "      <td>4.0</td>\n",
       "      <td>4.0</td>\n",
       "      <td>3.5</td>\n",
       "      <td>4.0</td>\n",
       "    </tr>\n",
       "    <tr>\n",
       "      <th>3</th>\n",
       "      <td>Lark</td>\n",
       "      <td>5.0</td>\n",
       "      <td>6.0</td>\n",
       "      <td>4.0</td>\n",
       "      <td>2.5</td>\n",
       "      <td>6.0</td>\n",
       "    </tr>\n",
       "    <tr>\n",
       "      <th>4</th>\n",
       "      <td>Lark</td>\n",
       "      <td>3.5</td>\n",
       "      <td>4.5</td>\n",
       "      <td>2.5</td>\n",
       "      <td>5.5</td>\n",
       "      <td>4.0</td>\n",
       "    </tr>\n",
       "  </tbody>\n",
       "</table>\n",
       "</div>"
      ],
      "text/plain": [
       "   Chronotype    O    C    E    A    S\n",
       "0  Strong owl  6.5  3.0  4.5  4.0  4.0\n",
       "1  Strong owl  6.0  7.0  5.0  4.0  4.5\n",
       "2         Owl  4.5  4.0  4.0  3.5  4.0\n",
       "3        Lark  5.0  6.0  4.0  2.5  6.0\n",
       "4        Lark  3.5  4.5  2.5  5.5  4.0"
      ]
     },
     "execution_count": 108,
     "metadata": {},
     "output_type": "execute_result"
    }
   ],
   "source": [
    "cxOCEAS.head()"
   ]
  },
  {
   "cell_type": "code",
   "execution_count": 25,
   "metadata": {},
   "outputs": [
    {
     "data": {
      "text/html": [
       "<div>\n",
       "<style scoped>\n",
       "    .dataframe tbody tr th:only-of-type {\n",
       "        vertical-align: middle;\n",
       "    }\n",
       "\n",
       "    .dataframe tbody tr th {\n",
       "        vertical-align: top;\n",
       "    }\n",
       "\n",
       "    .dataframe thead th {\n",
       "        text-align: right;\n",
       "    }\n",
       "</style>\n",
       "<table border=\"1\" class=\"dataframe\">\n",
       "  <thead>\n",
       "    <tr style=\"text-align: right;\">\n",
       "      <th></th>\n",
       "      <th>E</th>\n",
       "      <th>A</th>\n",
       "      <th>C</th>\n",
       "      <th>S</th>\n",
       "      <th>O</th>\n",
       "    </tr>\n",
       "  </thead>\n",
       "  <tbody>\n",
       "    <tr>\n",
       "      <th>count</th>\n",
       "      <td>16495.000000</td>\n",
       "      <td>16430.000000</td>\n",
       "      <td>16437.000000</td>\n",
       "      <td>16463.000000</td>\n",
       "      <td>16481.000000</td>\n",
       "    </tr>\n",
       "    <tr>\n",
       "      <th>mean</th>\n",
       "      <td>-0.223053</td>\n",
       "      <td>0.083562</td>\n",
       "      <td>0.220115</td>\n",
       "      <td>0.101507</td>\n",
       "      <td>-0.186079</td>\n",
       "    </tr>\n",
       "    <tr>\n",
       "      <th>std</th>\n",
       "      <td>1.062520</td>\n",
       "      <td>0.998884</td>\n",
       "      <td>0.963992</td>\n",
       "      <td>1.015286</td>\n",
       "      <td>0.981983</td>\n",
       "    </tr>\n",
       "    <tr>\n",
       "      <th>min</th>\n",
       "      <td>-1.863812</td>\n",
       "      <td>-3.025773</td>\n",
       "      <td>-2.576983</td>\n",
       "      <td>-2.270539</td>\n",
       "      <td>-3.957682</td>\n",
       "    </tr>\n",
       "    <tr>\n",
       "      <th>25%</th>\n",
       "      <td>-1.232139</td>\n",
       "      <td>-0.578990</td>\n",
       "      <td>-0.456242</td>\n",
       "      <td>-0.580093</td>\n",
       "      <td>-0.884811</td>\n",
       "    </tr>\n",
       "    <tr>\n",
       "      <th>50%</th>\n",
       "      <td>-0.284631</td>\n",
       "      <td>0.236604</td>\n",
       "      <td>0.250672</td>\n",
       "      <td>0.096085</td>\n",
       "      <td>-0.006848</td>\n",
       "    </tr>\n",
       "    <tr>\n",
       "      <th>75%</th>\n",
       "      <td>0.662877</td>\n",
       "      <td>1.052198</td>\n",
       "      <td>0.957585</td>\n",
       "      <td>1.110352</td>\n",
       "      <td>0.432133</td>\n",
       "    </tr>\n",
       "    <tr>\n",
       "      <th>max</th>\n",
       "      <td>1.926221</td>\n",
       "      <td>1.867792</td>\n",
       "      <td>1.664499</td>\n",
       "      <td>1.786531</td>\n",
       "      <td>1.310097</td>\n",
       "    </tr>\n",
       "  </tbody>\n",
       "</table>\n",
       "</div>"
      ],
      "text/plain": [
       "                  E             A             C             S             O\n",
       "count  16495.000000  16430.000000  16437.000000  16463.000000  16481.000000\n",
       "mean      -0.223053      0.083562      0.220115      0.101507     -0.186079\n",
       "std        1.062520      0.998884      0.963992      1.015286      0.981983\n",
       "min       -1.863812     -3.025773     -2.576983     -2.270539     -3.957682\n",
       "25%       -1.232139     -0.578990     -0.456242     -0.580093     -0.884811\n",
       "50%       -0.284631      0.236604      0.250672      0.096085     -0.006848\n",
       "75%        0.662877      1.052198      0.957585      1.110352      0.432133\n",
       "max        1.926221      1.867792      1.664499      1.786531      1.310097"
      ]
     },
     "execution_count": 25,
     "metadata": {},
     "output_type": "execute_result"
    }
   ],
   "source": [
    "cxOCEAS[['E','A','C','S','O']].describe()"
   ]
  },
  {
   "cell_type": "code",
   "execution_count": 26,
   "metadata": {},
   "outputs": [
    {
     "data": {
      "image/png": "[encoded data removed]",
      "text/plain": [
       "<Figure size 432x288 with 1 Axes>"
      ]
     },
     "metadata": {},
     "output_type": "display_data"
    }
   ],
   "source": [
    "i=0\n",
    "colors = ['r','y','b','g','c']\n",
    "for trait in ['S','E','O','A','C']:\n",
    "    plt.plot(cxOCEAS[trait].value_counts().sort_index(),color=colors[i])\n",
    "    i+=1"
   ]
  },
  {
   "cell_type": "code",
   "execution_count": 6,
   "metadata": {},
   "outputs": [
    {
     "name": "stderr",
     "output_type": "stream",
     "text": [
      "/usr/local/lib/python3.6/site-packages/pandas/core/frame.py:2540: SettingWithCopyWarning: \n",
      "A value is trying to be set on a copy of a slice from a DataFrame.\n",
      "Try using .loc[row_indexer,col_indexer] = value instead\n",
      "\n",
      "See the caveats in the documentation: http://pandas.pydata.org/pandas-docs/stable/indexing.html#indexing-view-versus-copy\n",
      "  self[k1] = value[k2]\n"
     ]
    }
   ],
   "source": [
    "# df = pd.DataFrame(np.load('TIPI_scored_normed_OCEAN.npy'), columns=['O','C','E','A','N'])\n",
    "cxOCEAS[['O','C','E','A','S']] = normTIPI(cxOCEAS)"
   ]
  },
  {
   "cell_type": "code",
   "execution_count": 27,
   "metadata": {},
   "outputs": [
    {
     "name": "stderr",
     "output_type": "stream",
     "text": [
      "/usr/local/lib/python3.6/site-packages/ipykernel_launcher.py:1: SettingWithCopyWarning: \n",
      "A value is trying to be set on a copy of a slice from a DataFrame.\n",
      "Try using .loc[row_indexer,col_indexer] = value instead\n",
      "\n",
      "See the caveats in the documentation: http://pandas.pydata.org/pandas-docs/stable/indexing.html#indexing-view-versus-copy\n",
      "  \"\"\"Entry point for launching an IPython kernel.\n"
     ]
    },
    {
     "data": {
      "text/html": [
       "<div>\n",
       "<style scoped>\n",
       "    .dataframe tbody tr th:only-of-type {\n",
       "        vertical-align: middle;\n",
       "    }\n",
       "\n",
       "    .dataframe tbody tr th {\n",
       "        vertical-align: top;\n",
       "    }\n",
       "\n",
       "    .dataframe thead th {\n",
       "        text-align: right;\n",
       "    }\n",
       "</style>\n",
       "<table border=\"1\" class=\"dataframe\">\n",
       "  <thead>\n",
       "    <tr style=\"text-align: right;\">\n",
       "      <th></th>\n",
       "      <th>Chronotype</th>\n",
       "      <th>O</th>\n",
       "      <th>C</th>\n",
       "      <th>E</th>\n",
       "      <th>A</th>\n",
       "      <th>N</th>\n",
       "    </tr>\n",
       "  </thead>\n",
       "  <tbody>\n",
       "    <tr>\n",
       "      <th>0</th>\n",
       "      <td>Strong owl</td>\n",
       "      <td>0.871115</td>\n",
       "      <td>-1.163156</td>\n",
       "      <td>0.347041</td>\n",
       "      <td>-0.578990</td>\n",
       "      <td>0.242004</td>\n",
       "    </tr>\n",
       "    <tr>\n",
       "      <th>1</th>\n",
       "      <td>Strong owl</td>\n",
       "      <td>0.432133</td>\n",
       "      <td>1.664499</td>\n",
       "      <td>0.662877</td>\n",
       "      <td>-0.578990</td>\n",
       "      <td>-0.096085</td>\n",
       "    </tr>\n",
       "    <tr>\n",
       "      <th>2</th>\n",
       "      <td>Owl</td>\n",
       "      <td>-0.884811</td>\n",
       "      <td>-0.456242</td>\n",
       "      <td>0.031205</td>\n",
       "      <td>-0.986787</td>\n",
       "      <td>0.242004</td>\n",
       "    </tr>\n",
       "    <tr>\n",
       "      <th>3</th>\n",
       "      <td>Lark</td>\n",
       "      <td>-0.445830</td>\n",
       "      <td>0.957585</td>\n",
       "      <td>0.031205</td>\n",
       "      <td>-1.802382</td>\n",
       "      <td>-1.110352</td>\n",
       "    </tr>\n",
       "    <tr>\n",
       "      <th>4</th>\n",
       "      <td>Lark</td>\n",
       "      <td>-1.762774</td>\n",
       "      <td>-0.102785</td>\n",
       "      <td>-0.916303</td>\n",
       "      <td>0.644401</td>\n",
       "      <td>0.242004</td>\n",
       "    </tr>\n",
       "  </tbody>\n",
       "</table>\n",
       "</div>"
      ],
      "text/plain": [
       "   Chronotype         O         C         E         A         N\n",
       "0  Strong owl  0.871115 -1.163156  0.347041 -0.578990  0.242004\n",
       "1  Strong owl  0.432133  1.664499  0.662877 -0.578990 -0.096085\n",
       "2         Owl -0.884811 -0.456242  0.031205 -0.986787  0.242004\n",
       "3        Lark -0.445830  0.957585  0.031205 -1.802382 -1.110352\n",
       "4        Lark -1.762774 -0.102785 -0.916303  0.644401  0.242004"
      ]
     },
     "execution_count": 27,
     "metadata": {},
     "output_type": "execute_result"
    }
   ],
   "source": [
    "cxOCEAS['N'] = 0-cxOCEAS['S']\n",
    "df = cxOCEAS.drop(columns=['S'])\n",
    "df.head()"
   ]
  },
  {
   "cell_type": "code",
   "execution_count": 28,
   "metadata": {},
   "outputs": [
    {
     "data": {
      "image/png": "[encoded data removed]",
      "text/plain": [
       "<Figure size 432x288 with 1 Axes>"
      ]
     },
     "metadata": {},
     "output_type": "display_data"
    }
   ],
   "source": [
    "i=0\n",
    "colors = ['r','y','b','g','c']\n",
    "for trait in ['N','E','O','A','C']:\n",
    "    plt.plot(cxOCEAS[trait].value_counts().sort_index(),color=colors[i])\n",
    "    i+=1"
   ]
  },
  {
   "cell_type": "markdown",
   "metadata": {},
   "source": [
    "Code traits into low mid high based on standard deviation"
   ]
  },
  {
   "cell_type": "code",
   "execution_count": 29,
   "metadata": {},
   "outputs": [
    {
     "name": "stderr",
     "output_type": "stream",
     "text": [
      "/usr/local/lib/python3.6/site-packages/pandas/core/indexing.py:194: SettingWithCopyWarning: \n",
      "A value is trying to be set on a copy of a slice from a DataFrame\n",
      "\n",
      "See the caveats in the documentation: http://pandas.pydata.org/pandas-docs/stable/indexing.html#indexing-view-versus-copy\n",
      "  self._setitem_with_indexer(indexer, value)\n"
     ]
    },
    {
     "data": {
      "text/html": [
       "<div>\n",
       "<style scoped>\n",
       "    .dataframe tbody tr th:only-of-type {\n",
       "        vertical-align: middle;\n",
       "    }\n",
       "\n",
       "    .dataframe tbody tr th {\n",
       "        vertical-align: top;\n",
       "    }\n",
       "\n",
       "    .dataframe thead th {\n",
       "        text-align: right;\n",
       "    }\n",
       "</style>\n",
       "<table border=\"1\" class=\"dataframe\">\n",
       "  <thead>\n",
       "    <tr style=\"text-align: right;\">\n",
       "      <th></th>\n",
       "      <th>Chronotype</th>\n",
       "      <th>N</th>\n",
       "      <th>E</th>\n",
       "      <th>O</th>\n",
       "      <th>A</th>\n",
       "      <th>C</th>\n",
       "      <th>N_strat</th>\n",
       "      <th>E_strat</th>\n",
       "      <th>O_strat</th>\n",
       "      <th>A_strat</th>\n",
       "      <th>C_strat</th>\n",
       "    </tr>\n",
       "  </thead>\n",
       "  <tbody>\n",
       "    <tr>\n",
       "      <th>0</th>\n",
       "      <td>Strong owl</td>\n",
       "      <td>0.242004</td>\n",
       "      <td>0.347041</td>\n",
       "      <td>0.871115</td>\n",
       "      <td>-0.578990</td>\n",
       "      <td>-1.163156</td>\n",
       "      <td>2</td>\n",
       "      <td>2</td>\n",
       "      <td>2</td>\n",
       "      <td>2</td>\n",
       "      <td>1</td>\n",
       "    </tr>\n",
       "    <tr>\n",
       "      <th>1</th>\n",
       "      <td>Strong owl</td>\n",
       "      <td>-0.096085</td>\n",
       "      <td>0.662877</td>\n",
       "      <td>0.432133</td>\n",
       "      <td>-0.578990</td>\n",
       "      <td>1.664499</td>\n",
       "      <td>2</td>\n",
       "      <td>2</td>\n",
       "      <td>2</td>\n",
       "      <td>2</td>\n",
       "      <td>3</td>\n",
       "    </tr>\n",
       "    <tr>\n",
       "      <th>2</th>\n",
       "      <td>Owl</td>\n",
       "      <td>0.242004</td>\n",
       "      <td>0.031205</td>\n",
       "      <td>-0.884811</td>\n",
       "      <td>-0.986787</td>\n",
       "      <td>-0.456242</td>\n",
       "      <td>2</td>\n",
       "      <td>2</td>\n",
       "      <td>2</td>\n",
       "      <td>2</td>\n",
       "      <td>2</td>\n",
       "    </tr>\n",
       "    <tr>\n",
       "      <th>3</th>\n",
       "      <td>Lark</td>\n",
       "      <td>-1.110352</td>\n",
       "      <td>0.031205</td>\n",
       "      <td>-0.445830</td>\n",
       "      <td>-1.802382</td>\n",
       "      <td>0.957585</td>\n",
       "      <td>1</td>\n",
       "      <td>2</td>\n",
       "      <td>2</td>\n",
       "      <td>1</td>\n",
       "      <td>2</td>\n",
       "    </tr>\n",
       "    <tr>\n",
       "      <th>4</th>\n",
       "      <td>Lark</td>\n",
       "      <td>0.242004</td>\n",
       "      <td>-0.916303</td>\n",
       "      <td>-1.762774</td>\n",
       "      <td>0.644401</td>\n",
       "      <td>-0.102785</td>\n",
       "      <td>2</td>\n",
       "      <td>2</td>\n",
       "      <td>1</td>\n",
       "      <td>2</td>\n",
       "      <td>2</td>\n",
       "    </tr>\n",
       "  </tbody>\n",
       "</table>\n",
       "</div>"
      ],
      "text/plain": [
       "   Chronotype         N         E         O         A         C  N_strat  \\\n",
       "0  Strong owl  0.242004  0.347041  0.871115 -0.578990 -1.163156        2   \n",
       "1  Strong owl -0.096085  0.662877  0.432133 -0.578990  1.664499        2   \n",
       "2         Owl  0.242004  0.031205 -0.884811 -0.986787 -0.456242        2   \n",
       "3        Lark -1.110352  0.031205 -0.445830 -1.802382  0.957585        1   \n",
       "4        Lark  0.242004 -0.916303 -1.762774  0.644401 -0.102785        2   \n",
       "\n",
       "   E_strat  O_strat  A_strat  C_strat  \n",
       "0        2        2        2        1  \n",
       "1        2        2        2        3  \n",
       "2        2        2        2        2  \n",
       "3        2        2        1        2  \n",
       "4        2        1        2        2  "
      ]
     },
     "execution_count": 29,
     "metadata": {},
     "output_type": "execute_result"
    }
   ],
   "source": [
    "# df = df.drop(columns=['N_strat','E_strat','O_strat','A_strat','C_strat'])\n",
    "df = cxOCEAS[['Chronotype','N','E','O','A','C']].dropna()\n",
    "for trait in ['N','E','O','A','C']:\n",
    "    df['%s_strat'%trait]=0\n",
    "    df['%s_strat'%trait].loc[df[trait]<-1] = 1\n",
    "    df['%s_strat'%trait].loc[df[trait]>1] = 3\n",
    "    df['%s_strat'%trait].loc[df['%s_strat'%trait]==0] = 2\n",
    "df.head()"
   ]
  },
  {
   "cell_type": "code",
   "execution_count": 71,
   "metadata": {},
   "outputs": [
    {
     "data": {
      "text/html": [
       "<div>\n",
       "<style scoped>\n",
       "    .dataframe tbody tr th:only-of-type {\n",
       "        vertical-align: middle;\n",
       "    }\n",
       "\n",
       "    .dataframe tbody tr th {\n",
       "        vertical-align: top;\n",
       "    }\n",
       "\n",
       "    .dataframe thead th {\n",
       "        text-align: right;\n",
       "    }\n",
       "</style>\n",
       "<table border=\"1\" class=\"dataframe\">\n",
       "  <thead>\n",
       "    <tr style=\"text-align: right;\">\n",
       "      <th></th>\n",
       "      <th>N</th>\n",
       "      <th>E</th>\n",
       "      <th>O</th>\n",
       "      <th>A</th>\n",
       "      <th>C</th>\n",
       "      <th>N_strat</th>\n",
       "      <th>E_strat</th>\n",
       "      <th>O_strat</th>\n",
       "      <th>A_strat</th>\n",
       "      <th>C_strat</th>\n",
       "    </tr>\n",
       "  </thead>\n",
       "  <tbody>\n",
       "    <tr>\n",
       "      <th>0</th>\n",
       "      <td>0.242004</td>\n",
       "      <td>0.347041</td>\n",
       "      <td>0.871115</td>\n",
       "      <td>-0.578990</td>\n",
       "      <td>-1.163156</td>\n",
       "      <td>2</td>\n",
       "      <td>2</td>\n",
       "      <td>2</td>\n",
       "      <td>2</td>\n",
       "      <td>1</td>\n",
       "    </tr>\n",
       "    <tr>\n",
       "      <th>1</th>\n",
       "      <td>-0.096085</td>\n",
       "      <td>0.662877</td>\n",
       "      <td>0.432133</td>\n",
       "      <td>-0.578990</td>\n",
       "      <td>1.664499</td>\n",
       "      <td>2</td>\n",
       "      <td>2</td>\n",
       "      <td>2</td>\n",
       "      <td>2</td>\n",
       "      <td>3</td>\n",
       "    </tr>\n",
       "    <tr>\n",
       "      <th>2</th>\n",
       "      <td>0.242004</td>\n",
       "      <td>0.031205</td>\n",
       "      <td>-0.884811</td>\n",
       "      <td>-0.986787</td>\n",
       "      <td>-0.456242</td>\n",
       "      <td>2</td>\n",
       "      <td>2</td>\n",
       "      <td>2</td>\n",
       "      <td>2</td>\n",
       "      <td>2</td>\n",
       "    </tr>\n",
       "    <tr>\n",
       "      <th>3</th>\n",
       "      <td>-1.110352</td>\n",
       "      <td>0.031205</td>\n",
       "      <td>-0.445830</td>\n",
       "      <td>-1.802382</td>\n",
       "      <td>0.957585</td>\n",
       "      <td>1</td>\n",
       "      <td>2</td>\n",
       "      <td>2</td>\n",
       "      <td>1</td>\n",
       "      <td>2</td>\n",
       "    </tr>\n",
       "    <tr>\n",
       "      <th>4</th>\n",
       "      <td>0.242004</td>\n",
       "      <td>-0.916303</td>\n",
       "      <td>-1.762774</td>\n",
       "      <td>0.644401</td>\n",
       "      <td>-0.102785</td>\n",
       "      <td>2</td>\n",
       "      <td>2</td>\n",
       "      <td>1</td>\n",
       "      <td>2</td>\n",
       "      <td>2</td>\n",
       "    </tr>\n",
       "  </tbody>\n",
       "</table>\n",
       "</div>"
      ],
      "text/plain": [
       "          N         E         O         A         C  N_strat  E_strat  \\\n",
       "0  0.242004  0.347041  0.871115 -0.578990 -1.163156        2        2   \n",
       "1 -0.096085  0.662877  0.432133 -0.578990  1.664499        2        2   \n",
       "2  0.242004  0.031205 -0.884811 -0.986787 -0.456242        2        2   \n",
       "3 -1.110352  0.031205 -0.445830 -1.802382  0.957585        1        2   \n",
       "4  0.242004 -0.916303 -1.762774  0.644401 -0.102785        2        2   \n",
       "\n",
       "   O_strat  A_strat  C_strat  \n",
       "0        2        2        1  \n",
       "1        2        2        3  \n",
       "2        2        2        2  \n",
       "3        2        1        2  \n",
       "4        1        2        2  "
      ]
     },
     "execution_count": 71,
     "metadata": {},
     "output_type": "execute_result"
    }
   ],
   "source": [
    "df.head()"
   ]
  },
  {
   "cell_type": "code",
   "execution_count": 30,
   "metadata": {},
   "outputs": [
    {
     "data": {
      "image/png": "[encoded data removed]",
      "text/plain": [
       "<Figure size 432x288 with 1 Axes>"
      ]
     },
     "metadata": {},
     "output_type": "display_data"
    },
    {
     "data": {
      "image/png": "[encoded data removed]",
      "text/plain": [
       "<Figure size 432x288 with 1 Axes>"
      ]
     },
     "metadata": {},
     "output_type": "display_data"
    },
    {
     "data": {
      "image/png": "[encoded data removed]",
      "text/plain": [
       "<Figure size 432x288 with 1 Axes>"
      ]
     },
     "metadata": {},
     "output_type": "display_data"
    },
    {
     "data": {
      "image/png": "[encoded data removed]",
      "text/plain": [
       "<Figure size 432x288 with 1 Axes>"
      ]
     },
     "metadata": {},
     "output_type": "display_data"
    },
    {
     "data": {
      "image/png": "[encoded data removed]",
      "text/plain": [
       "<Figure size 432x288 with 1 Axes>"
      ]
     },
     "metadata": {},
     "output_type": "display_data"
    }
   ],
   "source": [
    "i=0\n",
    "colors = ['r','y','b','g','c']\n",
    "for trait in ['N_strat','E_strat','O_strat','A_strat','C_strat']:\n",
    "    plt.figure(i)\n",
    "    plt.title(trait)\n",
    "    plt.bar(x=['low','mid','high'],height=df[trait].value_counts().sort_index(),color=colors[i])\n",
    "    i+=1"
   ]
  },
  {
   "cell_type": "markdown",
   "metadata": {},
   "source": [
    "Bisect traits along the mean a la MBTI"
   ]
  },
  {
   "cell_type": "code",
   "execution_count": null,
   "metadata": {},
   "outputs": [],
   "source": []
  },
  {
   "cell_type": "code",
   "execution_count": 31,
   "metadata": {},
   "outputs": [
    {
     "name": "stderr",
     "output_type": "stream",
     "text": [
      "/usr/local/lib/python3.6/site-packages/pandas/core/indexing.py:194: SettingWithCopyWarning: \n",
      "A value is trying to be set on a copy of a slice from a DataFrame\n",
      "\n",
      "See the caveats in the documentation: http://pandas.pydata.org/pandas-docs/stable/indexing.html#indexing-view-versus-copy\n",
      "  self._setitem_with_indexer(indexer, value)\n"
     ]
    },
    {
     "data": {
      "text/html": [
       "<div>\n",
       "<style scoped>\n",
       "    .dataframe tbody tr th:only-of-type {\n",
       "        vertical-align: middle;\n",
       "    }\n",
       "\n",
       "    .dataframe tbody tr th {\n",
       "        vertical-align: top;\n",
       "    }\n",
       "\n",
       "    .dataframe thead th {\n",
       "        text-align: right;\n",
       "    }\n",
       "</style>\n",
       "<table border=\"1\" class=\"dataframe\">\n",
       "  <thead>\n",
       "    <tr style=\"text-align: right;\">\n",
       "      <th></th>\n",
       "      <th>Chronotype</th>\n",
       "      <th>N</th>\n",
       "      <th>E</th>\n",
       "      <th>O</th>\n",
       "      <th>A</th>\n",
       "      <th>C</th>\n",
       "      <th>N_strat</th>\n",
       "      <th>E_strat</th>\n",
       "      <th>O_strat</th>\n",
       "      <th>A_strat</th>\n",
       "      <th>C_strat</th>\n",
       "      <th>N_bistrat</th>\n",
       "      <th>E_bistrat</th>\n",
       "      <th>O_bistrat</th>\n",
       "      <th>A_bistrat</th>\n",
       "      <th>C_bistrat</th>\n",
       "    </tr>\n",
       "  </thead>\n",
       "  <tbody>\n",
       "    <tr>\n",
       "      <th>0</th>\n",
       "      <td>Strong owl</td>\n",
       "      <td>0.242004</td>\n",
       "      <td>0.347041</td>\n",
       "      <td>0.871115</td>\n",
       "      <td>-0.578990</td>\n",
       "      <td>-1.163156</td>\n",
       "      <td>2</td>\n",
       "      <td>2</td>\n",
       "      <td>2</td>\n",
       "      <td>2</td>\n",
       "      <td>1</td>\n",
       "      <td>3</td>\n",
       "      <td>3</td>\n",
       "      <td>3</td>\n",
       "      <td>1</td>\n",
       "      <td>1</td>\n",
       "    </tr>\n",
       "    <tr>\n",
       "      <th>1</th>\n",
       "      <td>Strong owl</td>\n",
       "      <td>-0.096085</td>\n",
       "      <td>0.662877</td>\n",
       "      <td>0.432133</td>\n",
       "      <td>-0.578990</td>\n",
       "      <td>1.664499</td>\n",
       "      <td>2</td>\n",
       "      <td>2</td>\n",
       "      <td>2</td>\n",
       "      <td>2</td>\n",
       "      <td>3</td>\n",
       "      <td>1</td>\n",
       "      <td>3</td>\n",
       "      <td>3</td>\n",
       "      <td>1</td>\n",
       "      <td>3</td>\n",
       "    </tr>\n",
       "    <tr>\n",
       "      <th>2</th>\n",
       "      <td>Owl</td>\n",
       "      <td>0.242004</td>\n",
       "      <td>0.031205</td>\n",
       "      <td>-0.884811</td>\n",
       "      <td>-0.986787</td>\n",
       "      <td>-0.456242</td>\n",
       "      <td>2</td>\n",
       "      <td>2</td>\n",
       "      <td>2</td>\n",
       "      <td>2</td>\n",
       "      <td>2</td>\n",
       "      <td>3</td>\n",
       "      <td>3</td>\n",
       "      <td>1</td>\n",
       "      <td>1</td>\n",
       "      <td>1</td>\n",
       "    </tr>\n",
       "    <tr>\n",
       "      <th>3</th>\n",
       "      <td>Lark</td>\n",
       "      <td>-1.110352</td>\n",
       "      <td>0.031205</td>\n",
       "      <td>-0.445830</td>\n",
       "      <td>-1.802382</td>\n",
       "      <td>0.957585</td>\n",
       "      <td>1</td>\n",
       "      <td>2</td>\n",
       "      <td>2</td>\n",
       "      <td>1</td>\n",
       "      <td>2</td>\n",
       "      <td>1</td>\n",
       "      <td>3</td>\n",
       "      <td>1</td>\n",
       "      <td>1</td>\n",
       "      <td>3</td>\n",
       "    </tr>\n",
       "    <tr>\n",
       "      <th>4</th>\n",
       "      <td>Lark</td>\n",
       "      <td>0.242004</td>\n",
       "      <td>-0.916303</td>\n",
       "      <td>-1.762774</td>\n",
       "      <td>0.644401</td>\n",
       "      <td>-0.102785</td>\n",
       "      <td>2</td>\n",
       "      <td>2</td>\n",
       "      <td>1</td>\n",
       "      <td>2</td>\n",
       "      <td>2</td>\n",
       "      <td>3</td>\n",
       "      <td>1</td>\n",
       "      <td>1</td>\n",
       "      <td>3</td>\n",
       "      <td>1</td>\n",
       "    </tr>\n",
       "  </tbody>\n",
       "</table>\n",
       "</div>"
      ],
      "text/plain": [
       "   Chronotype         N         E         O         A         C  N_strat  \\\n",
       "0  Strong owl  0.242004  0.347041  0.871115 -0.578990 -1.163156        2   \n",
       "1  Strong owl -0.096085  0.662877  0.432133 -0.578990  1.664499        2   \n",
       "2         Owl  0.242004  0.031205 -0.884811 -0.986787 -0.456242        2   \n",
       "3        Lark -1.110352  0.031205 -0.445830 -1.802382  0.957585        1   \n",
       "4        Lark  0.242004 -0.916303 -1.762774  0.644401 -0.102785        2   \n",
       "\n",
       "   E_strat  O_strat  A_strat  C_strat  N_bistrat  E_bistrat  O_bistrat  \\\n",
       "0        2        2        2        1          3          3          3   \n",
       "1        2        2        2        3          1          3          3   \n",
       "2        2        2        2        2          3          3          1   \n",
       "3        2        2        1        2          1          3          1   \n",
       "4        2        1        2        2          3          1          1   \n",
       "\n",
       "   A_bistrat  C_bistrat  \n",
       "0          1          1  \n",
       "1          1          3  \n",
       "2          1          1  \n",
       "3          1          3  \n",
       "4          3          1  "
      ]
     },
     "execution_count": 31,
     "metadata": {},
     "output_type": "execute_result"
    }
   ],
   "source": [
    "# df = df.drop(columns=['N_bistrat','E_bistrat','O_bistrat','A_bistrat','C_bistrat'])\n",
    "for trait in ['N','E','O','A','C']:\n",
    "    df['%s_bistrat'%trait]=0\n",
    "    df['%s_bistrat'%trait].loc[df[trait]<0] = 1\n",
    "    df['%s_bistrat'%trait].loc[df[trait]>0] = 3\n",
    "df.head()"
   ]
  },
  {
   "cell_type": "code",
   "execution_count": 32,
   "metadata": {},
   "outputs": [
    {
     "data": {
      "text/html": [
       "<div>\n",
       "<style scoped>\n",
       "    .dataframe tbody tr th:only-of-type {\n",
       "        vertical-align: middle;\n",
       "    }\n",
       "\n",
       "    .dataframe tbody tr th {\n",
       "        vertical-align: top;\n",
       "    }\n",
       "\n",
       "    .dataframe thead th {\n",
       "        text-align: right;\n",
       "    }\n",
       "</style>\n",
       "<table border=\"1\" class=\"dataframe\">\n",
       "  <thead>\n",
       "    <tr style=\"text-align: right;\">\n",
       "      <th></th>\n",
       "      <th>Chronotype</th>\n",
       "      <th>N</th>\n",
       "      <th>E</th>\n",
       "      <th>O</th>\n",
       "      <th>A</th>\n",
       "      <th>C</th>\n",
       "      <th>N_strat</th>\n",
       "      <th>E_strat</th>\n",
       "      <th>O_strat</th>\n",
       "      <th>A_strat</th>\n",
       "      <th>C_strat</th>\n",
       "      <th>N_bistrat</th>\n",
       "      <th>E_bistrat</th>\n",
       "      <th>O_bistrat</th>\n",
       "      <th>A_bistrat</th>\n",
       "      <th>C_bistrat</th>\n",
       "    </tr>\n",
       "  </thead>\n",
       "  <tbody>\n",
       "  </tbody>\n",
       "</table>\n",
       "</div>"
      ],
      "text/plain": [
       "Empty DataFrame\n",
       "Columns: [Chronotype, N, E, O, A, C, N_strat, E_strat, O_strat, A_strat, C_strat, N_bistrat, E_bistrat, O_bistrat, A_bistrat, C_bistrat]\n",
       "Index: []"
      ]
     },
     "execution_count": 32,
     "metadata": {},
     "output_type": "execute_result"
    }
   ],
   "source": [
    "df.loc[df['N_bistrat']==0]"
   ]
  },
  {
   "cell_type": "code",
   "execution_count": 33,
   "metadata": {},
   "outputs": [
    {
     "data": {
      "image/png": "[encoded data removed]",
      "text/plain": [
       "<Figure size 432x288 with 1 Axes>"
      ]
     },
     "metadata": {},
     "output_type": "display_data"
    },
    {
     "data": {
      "image/png": "[encoded data removed]",
      "text/plain": [
       "<Figure size 432x288 with 1 Axes>"
      ]
     },
     "metadata": {},
     "output_type": "display_data"
    },
    {
     "data": {
      "image/png": "[encoded data removed]",
      "text/plain": [
       "<Figure size 432x288 with 1 Axes>"
      ]
     },
     "metadata": {},
     "output_type": "display_data"
    },
    {
     "data": {
      "image/png": "[encoded data removed]",
      "text/plain": [
       "<Figure size 432x288 with 1 Axes>"
      ]
     },
     "metadata": {},
     "output_type": "display_data"
    },
    {
     "data": {
      "image/png": "[encoded data removed]",
      "text/plain": [
       "<Figure size 432x288 with 1 Axes>"
      ]
     },
     "metadata": {},
     "output_type": "display_data"
    }
   ],
   "source": [
    "i=0\n",
    "colors = ['r','y','b','g','c']\n",
    "for trait in ['N_bistrat','E_bistrat','O_bistrat','A_bistrat','C_bistrat']:\n",
    "    plt.figure(i)\n",
    "    plt.title(trait)\n",
    "    plt.bar(x=['low','high'],height=df[trait].value_counts().sort_index(),color=colors[i])\n",
    "    i+=1"
   ]
  },
  {
   "cell_type": "code",
   "execution_count": 34,
   "metadata": {},
   "outputs": [
    {
     "data": {
      "text/html": [
       "<div>\n",
       "<style scoped>\n",
       "    .dataframe tbody tr th:only-of-type {\n",
       "        vertical-align: middle;\n",
       "    }\n",
       "\n",
       "    .dataframe tbody tr th {\n",
       "        vertical-align: top;\n",
       "    }\n",
       "\n",
       "    .dataframe thead th {\n",
       "        text-align: right;\n",
       "    }\n",
       "</style>\n",
       "<table border=\"1\" class=\"dataframe\">\n",
       "  <thead>\n",
       "    <tr style=\"text-align: right;\">\n",
       "      <th></th>\n",
       "      <th>Chronotype</th>\n",
       "      <th>N</th>\n",
       "      <th>E</th>\n",
       "      <th>O</th>\n",
       "      <th>A</th>\n",
       "      <th>C</th>\n",
       "      <th>N_strat</th>\n",
       "      <th>E_strat</th>\n",
       "      <th>O_strat</th>\n",
       "      <th>A_strat</th>\n",
       "      <th>C_strat</th>\n",
       "      <th>N_bistrat</th>\n",
       "      <th>E_bistrat</th>\n",
       "      <th>O_bistrat</th>\n",
       "      <th>A_bistrat</th>\n",
       "      <th>C_bistrat</th>\n",
       "    </tr>\n",
       "  </thead>\n",
       "  <tbody>\n",
       "    <tr>\n",
       "      <th>16696</th>\n",
       "      <td>Owl</td>\n",
       "      <td>-0.434174</td>\n",
       "      <td>1.294549</td>\n",
       "      <td>0.432133</td>\n",
       "      <td>-0.171193</td>\n",
       "      <td>-0.809699</td>\n",
       "      <td>2</td>\n",
       "      <td>3</td>\n",
       "      <td>2</td>\n",
       "      <td>2</td>\n",
       "      <td>2</td>\n",
       "      <td>1</td>\n",
       "      <td>3</td>\n",
       "      <td>3</td>\n",
       "      <td>1</td>\n",
       "      <td>1</td>\n",
       "    </tr>\n",
       "    <tr>\n",
       "      <th>16697</th>\n",
       "      <td>Lark</td>\n",
       "      <td>-0.772263</td>\n",
       "      <td>0.347041</td>\n",
       "      <td>-0.884811</td>\n",
       "      <td>1.052198</td>\n",
       "      <td>0.250672</td>\n",
       "      <td>2</td>\n",
       "      <td>2</td>\n",
       "      <td>2</td>\n",
       "      <td>3</td>\n",
       "      <td>2</td>\n",
       "      <td>1</td>\n",
       "      <td>3</td>\n",
       "      <td>1</td>\n",
       "      <td>3</td>\n",
       "      <td>3</td>\n",
       "    </tr>\n",
       "    <tr>\n",
       "      <th>16698</th>\n",
       "      <td>Owl</td>\n",
       "      <td>-1.110352</td>\n",
       "      <td>-1.863812</td>\n",
       "      <td>-0.006848</td>\n",
       "      <td>0.644401</td>\n",
       "      <td>1.664499</td>\n",
       "      <td>1</td>\n",
       "      <td>1</td>\n",
       "      <td>2</td>\n",
       "      <td>2</td>\n",
       "      <td>3</td>\n",
       "      <td>1</td>\n",
       "      <td>1</td>\n",
       "      <td>1</td>\n",
       "      <td>3</td>\n",
       "      <td>3</td>\n",
       "    </tr>\n",
       "    <tr>\n",
       "      <th>16699</th>\n",
       "      <td>Owl</td>\n",
       "      <td>2.270539</td>\n",
       "      <td>-0.916303</td>\n",
       "      <td>-0.445830</td>\n",
       "      <td>-0.171193</td>\n",
       "      <td>-0.456242</td>\n",
       "      <td>3</td>\n",
       "      <td>2</td>\n",
       "      <td>2</td>\n",
       "      <td>2</td>\n",
       "      <td>2</td>\n",
       "      <td>3</td>\n",
       "      <td>1</td>\n",
       "      <td>1</td>\n",
       "      <td>1</td>\n",
       "      <td>1</td>\n",
       "    </tr>\n",
       "    <tr>\n",
       "      <th>16700</th>\n",
       "      <td>Lark</td>\n",
       "      <td>1.256272</td>\n",
       "      <td>0.031205</td>\n",
       "      <td>-0.884811</td>\n",
       "      <td>-2.210179</td>\n",
       "      <td>-0.456242</td>\n",
       "      <td>3</td>\n",
       "      <td>2</td>\n",
       "      <td>2</td>\n",
       "      <td>1</td>\n",
       "      <td>2</td>\n",
       "      <td>3</td>\n",
       "      <td>3</td>\n",
       "      <td>1</td>\n",
       "      <td>1</td>\n",
       "      <td>1</td>\n",
       "    </tr>\n",
       "  </tbody>\n",
       "</table>\n",
       "</div>"
      ],
      "text/plain": [
       "      Chronotype         N         E         O         A         C  N_strat  \\\n",
       "16696        Owl -0.434174  1.294549  0.432133 -0.171193 -0.809699        2   \n",
       "16697       Lark -0.772263  0.347041 -0.884811  1.052198  0.250672        2   \n",
       "16698        Owl -1.110352 -1.863812 -0.006848  0.644401  1.664499        1   \n",
       "16699        Owl  2.270539 -0.916303 -0.445830 -0.171193 -0.456242        3   \n",
       "16700       Lark  1.256272  0.031205 -0.884811 -2.210179 -0.456242        3   \n",
       "\n",
       "       E_strat  O_strat  A_strat  C_strat  N_bistrat  E_bistrat  O_bistrat  \\\n",
       "16696        3        2        2        2          1          3          3   \n",
       "16697        2        2        3        2          1          3          1   \n",
       "16698        1        2        2        3          1          1          1   \n",
       "16699        2        2        2        2          3          1          1   \n",
       "16700        2        2        1        2          3          3          1   \n",
       "\n",
       "       A_bistrat  C_bistrat  \n",
       "16696          1          1  \n",
       "16697          3          3  \n",
       "16698          3          3  \n",
       "16699          1          1  \n",
       "16700          1          1  "
      ]
     },
     "execution_count": 34,
     "metadata": {},
     "output_type": "execute_result"
    }
   ],
   "source": [
    "df.tail()"
   ]
  },
  {
   "cell_type": "markdown",
   "metadata": {},
   "source": [
    "## Chi square tests on stratified data"
   ]
  },
  {
   "cell_type": "code",
   "execution_count": 35,
   "metadata": {},
   "outputs": [
    {
     "data": {
      "text/html": [
       "<div>\n",
       "<style scoped>\n",
       "    .dataframe tbody tr th:only-of-type {\n",
       "        vertical-align: middle;\n",
       "    }\n",
       "\n",
       "    .dataframe tbody tr th {\n",
       "        vertical-align: top;\n",
       "    }\n",
       "\n",
       "    .dataframe thead th {\n",
       "        text-align: right;\n",
       "    }\n",
       "</style>\n",
       "<table border=\"1\" class=\"dataframe\">\n",
       "  <thead>\n",
       "    <tr style=\"text-align: right;\">\n",
       "      <th>Chronotype</th>\n",
       "      <th>Lark</th>\n",
       "      <th>Owl</th>\n",
       "      <th>Strong lark</th>\n",
       "      <th>Strong owl</th>\n",
       "    </tr>\n",
       "    <tr>\n",
       "      <th>C_strat</th>\n",
       "      <th></th>\n",
       "      <th></th>\n",
       "      <th></th>\n",
       "      <th></th>\n",
       "    </tr>\n",
       "  </thead>\n",
       "  <tbody>\n",
       "    <tr>\n",
       "      <th>1</th>\n",
       "      <td>309</td>\n",
       "      <td>805</td>\n",
       "      <td>86</td>\n",
       "      <td>769</td>\n",
       "    </tr>\n",
       "    <tr>\n",
       "      <th>2</th>\n",
       "      <td>3033</td>\n",
       "      <td>4329</td>\n",
       "      <td>741</td>\n",
       "      <td>2440</td>\n",
       "    </tr>\n",
       "    <tr>\n",
       "      <th>3</th>\n",
       "      <td>1111</td>\n",
       "      <td>998</td>\n",
       "      <td>441</td>\n",
       "      <td>477</td>\n",
       "    </tr>\n",
       "  </tbody>\n",
       "</table>\n",
       "</div>"
      ],
      "text/plain": [
       "Chronotype  Lark   Owl  Strong lark  Strong owl\n",
       "C_strat                                        \n",
       "1            309   805           86         769\n",
       "2           3033  4329          741        2440\n",
       "3           1111   998          441         477"
      ]
     },
     "execution_count": 35,
     "metadata": {},
     "output_type": "execute_result"
    }
   ],
   "source": [
    "pd.crosstab(index=df['C_strat'],columns=df['Chronotype'])"
   ]
  },
  {
   "cell_type": "code",
   "execution_count": 36,
   "metadata": {},
   "outputs": [
    {
     "data": {
      "text/plain": [
       "array([[ 309,  805,   86,  769],\n",
       "       [3033, 4329,  741, 2440],\n",
       "       [1111,  998,  441,  477]])"
      ]
     },
     "execution_count": 36,
     "metadata": {},
     "output_type": "execute_result"
    }
   ],
   "source": [
    "x = pd.crosstab(index=df['C_strat'],columns=df['Chronotype'])\n",
    "x.values"
   ]
  },
  {
   "cell_type": "code",
   "execution_count": 37,
   "metadata": {},
   "outputs": [
    {
     "data": {
      "text/plain": [
       "(705.2545580088133,\n",
       " 4.487283988365978e-149,\n",
       " 6,\n",
       " array([[ 564.25490701,  777.00675719,  160.67263016,  467.06570564],\n",
       "        [3021.2998906 , 4160.47853787,  860.32074136, 2500.90083017],\n",
       "        [ 867.44520239, 1194.51470494,  247.00662848,  718.03346419]]))"
      ]
     },
     "execution_count": 37,
     "metadata": {},
     "output_type": "execute_result"
    }
   ],
   "source": [
    "stats.chi2_contingency(x.values)"
   ]
  },
  {
   "cell_type": "code",
   "execution_count": 38,
   "metadata": {},
   "outputs": [
    {
     "data": {
      "text/plain": [
       "(568.0008088295247,\n",
       " 8.711012477230626e-123,\n",
       " 3,\n",
       " array([[1878.46161272, 2586.73402407,  534.89542442, 1554.9089388 ],\n",
       "        [2574.53838728, 3545.26597593,  733.10457558, 2131.0910612 ]]))"
      ]
     },
     "execution_count": 38,
     "metadata": {},
     "output_type": "execute_result"
    }
   ],
   "source": [
    "x = pd.crosstab(index=df['C_bistrat'],columns=df['Chronotype'])\n",
    "stats.chi2_contingency(x.values)"
   ]
  },
  {
   "cell_type": "markdown",
   "metadata": {},
   "source": [
    "## Regressions"
   ]
  },
  {
   "cell_type": "code",
   "execution_count": 53,
   "metadata": {},
   "outputs": [],
   "source": [
    "df = df.replace(['Strong owl','Owl','Lark','Strong lark'],[1,2,3,4])"
   ]
  },
  {
   "cell_type": "code",
   "execution_count": 54,
   "metadata": {},
   "outputs": [
    {
     "data": {
      "text/html": [
       "<div>\n",
       "<style scoped>\n",
       "    .dataframe tbody tr th:only-of-type {\n",
       "        vertical-align: middle;\n",
       "    }\n",
       "\n",
       "    .dataframe tbody tr th {\n",
       "        vertical-align: top;\n",
       "    }\n",
       "\n",
       "    .dataframe thead th {\n",
       "        text-align: right;\n",
       "    }\n",
       "</style>\n",
       "<table border=\"1\" class=\"dataframe\">\n",
       "  <thead>\n",
       "    <tr style=\"text-align: right;\">\n",
       "      <th></th>\n",
       "      <th>Chronotype</th>\n",
       "      <th>N</th>\n",
       "      <th>E</th>\n",
       "      <th>O</th>\n",
       "      <th>A</th>\n",
       "      <th>C</th>\n",
       "      <th>N_strat</th>\n",
       "      <th>E_strat</th>\n",
       "      <th>O_strat</th>\n",
       "      <th>A_strat</th>\n",
       "      <th>C_strat</th>\n",
       "      <th>N_bistrat</th>\n",
       "      <th>E_bistrat</th>\n",
       "      <th>O_bistrat</th>\n",
       "      <th>A_bistrat</th>\n",
       "      <th>C_bistrat</th>\n",
       "    </tr>\n",
       "  </thead>\n",
       "  <tbody>\n",
       "    <tr>\n",
       "      <th>0</th>\n",
       "      <td>1</td>\n",
       "      <td>0.242004</td>\n",
       "      <td>0.347041</td>\n",
       "      <td>0.871115</td>\n",
       "      <td>-0.578990</td>\n",
       "      <td>-1.163156</td>\n",
       "      <td>2</td>\n",
       "      <td>2</td>\n",
       "      <td>2</td>\n",
       "      <td>2</td>\n",
       "      <td>1</td>\n",
       "      <td>3</td>\n",
       "      <td>3</td>\n",
       "      <td>3</td>\n",
       "      <td>1</td>\n",
       "      <td>1</td>\n",
       "    </tr>\n",
       "    <tr>\n",
       "      <th>1</th>\n",
       "      <td>1</td>\n",
       "      <td>-0.096085</td>\n",
       "      <td>0.662877</td>\n",
       "      <td>0.432133</td>\n",
       "      <td>-0.578990</td>\n",
       "      <td>1.664499</td>\n",
       "      <td>2</td>\n",
       "      <td>2</td>\n",
       "      <td>2</td>\n",
       "      <td>2</td>\n",
       "      <td>3</td>\n",
       "      <td>1</td>\n",
       "      <td>3</td>\n",
       "      <td>3</td>\n",
       "      <td>1</td>\n",
       "      <td>3</td>\n",
       "    </tr>\n",
       "    <tr>\n",
       "      <th>2</th>\n",
       "      <td>2</td>\n",
       "      <td>0.242004</td>\n",
       "      <td>0.031205</td>\n",
       "      <td>-0.884811</td>\n",
       "      <td>-0.986787</td>\n",
       "      <td>-0.456242</td>\n",
       "      <td>2</td>\n",
       "      <td>2</td>\n",
       "      <td>2</td>\n",
       "      <td>2</td>\n",
       "      <td>2</td>\n",
       "      <td>3</td>\n",
       "      <td>3</td>\n",
       "      <td>1</td>\n",
       "      <td>1</td>\n",
       "      <td>1</td>\n",
       "    </tr>\n",
       "    <tr>\n",
       "      <th>3</th>\n",
       "      <td>3</td>\n",
       "      <td>-1.110352</td>\n",
       "      <td>0.031205</td>\n",
       "      <td>-0.445830</td>\n",
       "      <td>-1.802382</td>\n",
       "      <td>0.957585</td>\n",
       "      <td>1</td>\n",
       "      <td>2</td>\n",
       "      <td>2</td>\n",
       "      <td>1</td>\n",
       "      <td>2</td>\n",
       "      <td>1</td>\n",
       "      <td>3</td>\n",
       "      <td>1</td>\n",
       "      <td>1</td>\n",
       "      <td>3</td>\n",
       "    </tr>\n",
       "    <tr>\n",
       "      <th>4</th>\n",
       "      <td>3</td>\n",
       "      <td>0.242004</td>\n",
       "      <td>-0.916303</td>\n",
       "      <td>-1.762774</td>\n",
       "      <td>0.644401</td>\n",
       "      <td>-0.102785</td>\n",
       "      <td>2</td>\n",
       "      <td>2</td>\n",
       "      <td>1</td>\n",
       "      <td>2</td>\n",
       "      <td>2</td>\n",
       "      <td>3</td>\n",
       "      <td>1</td>\n",
       "      <td>1</td>\n",
       "      <td>3</td>\n",
       "      <td>1</td>\n",
       "    </tr>\n",
       "  </tbody>\n",
       "</table>\n",
       "</div>"
      ],
      "text/plain": [
       "   Chronotype         N         E         O         A         C  N_strat  \\\n",
       "0           1  0.242004  0.347041  0.871115 -0.578990 -1.163156        2   \n",
       "1           1 -0.096085  0.662877  0.432133 -0.578990  1.664499        2   \n",
       "2           2  0.242004  0.031205 -0.884811 -0.986787 -0.456242        2   \n",
       "3           3 -1.110352  0.031205 -0.445830 -1.802382  0.957585        1   \n",
       "4           3  0.242004 -0.916303 -1.762774  0.644401 -0.102785        2   \n",
       "\n",
       "   E_strat  O_strat  A_strat  C_strat  N_bistrat  E_bistrat  O_bistrat  \\\n",
       "0        2        2        2        1          3          3          3   \n",
       "1        2        2        2        3          1          3          3   \n",
       "2        2        2        2        2          3          3          1   \n",
       "3        2        2        1        2          1          3          1   \n",
       "4        2        1        2        2          3          1          1   \n",
       "\n",
       "   A_bistrat  C_bistrat  \n",
       "0          1          1  \n",
       "1          1          3  \n",
       "2          1          1  \n",
       "3          1          3  \n",
       "4          3          1  "
      ]
     },
     "execution_count": 54,
     "metadata": {},
     "output_type": "execute_result"
    }
   ],
   "source": [
    "df.head()"
   ]
  },
  {
   "cell_type": "code",
   "execution_count": 56,
   "metadata": {},
   "outputs": [
    {
     "name": "stdout",
     "output_type": "stream",
     "text": [
      "Coefficients: \n",
      " [938.23786125]\n",
      "Mean squared error: 2548.07\n",
      "Variance score: 0.47\n"
     ]
    },
    {
     "data": {
      "image/png": "[encoded data removed]",
      "text/plain": [
       "<Figure size 432x288 with 1 Axes>"
      ]
     },
     "metadata": {},
     "output_type": "display_data"
    }
   ],
   "source": [
    "# built in diabetes dataset example regression\n",
    "diabetes = datasets.load_diabetes()\n",
    "\n",
    "# Use only one feature\n",
    "diabetes_X = diabetes.data[:, np.newaxis, 2]\n",
    "\n",
    "# Split the data into training/testing sets\n",
    "diabetes_X_train = diabetes_X[:-20]\n",
    "diabetes_X_test = diabetes_X[-20:]\n",
    "\n",
    "# Split the targets into training/testing sets\n",
    "diabetes_y_train = diabetes.target[:-20]\n",
    "diabetes_y_test = diabetes.target[-20:]\n",
    "\n",
    "# Create linear regression object\n",
    "regr = linear_model.LinearRegression()\n",
    "\n",
    "# Train the model using the training sets\n",
    "regr.fit(diabetes_X_train, diabetes_y_train)\n",
    "\n",
    "# Make predictions using the testing set\n",
    "diabetes_y_pred = regr.predict(diabetes_X_test)\n",
    "\n",
    "# The coefficients\n",
    "print('Coefficients: \\n', regr.coef_)\n",
    "# The mean squared error\n",
    "print(\"Mean squared error: %.2f\"\n",
    "      % mean_squared_error(diabetes_y_test, diabetes_y_pred))\n",
    "# Explained variance score: 1 is perfect prediction\n",
    "print('Variance score: %.2f' % r2_score(diabetes_y_test, diabetes_y_pred))\n",
    "\n",
    "# Plot outputs\n",
    "plt.scatter(diabetes_X_test, diabetes_y_test,  color='r')\n",
    "plt.plot(diabetes_X_test, diabetes_y_pred, color='blue', linewidth=3)\n",
    "\n",
    "plt.xticks(())\n",
    "plt.yticks(())\n",
    "\n",
    "plt.show()"
   ]
  },
  {
   "cell_type": "code",
   "execution_count": null,
   "metadata": {},
   "outputs": [],
   "source": []
  },
  {
   "cell_type": "code",
   "execution_count": 101,
   "metadata": {},
   "outputs": [],
   "source": [
    "testN = 500\n",
    "consc_X_test = df['C'].values.reshape(-1,1)[-1*testN:]\n",
    "consc_X_train = df['C'].values.reshape(-1,1)[:-1*testN]"
   ]
  },
  {
   "cell_type": "code",
   "execution_count": 102,
   "metadata": {},
   "outputs": [],
   "source": [
    "chron_Y_test = df['Chronotype'].values.reshape(-1,1)[-1*testN:]\n",
    "chron_Y_train = df['Chronotype'].values.reshape(-1,1)[:-1*testN]"
   ]
  },
  {
   "cell_type": "code",
   "execution_count": null,
   "metadata": {},
   "outputs": [],
   "source": []
  },
  {
   "cell_type": "code",
   "execution_count": 76,
   "metadata": {},
   "outputs": [],
   "source": [
    "reg = linear_model.LinearRegression()"
   ]
  },
  {
   "cell_type": "code",
   "execution_count": 103,
   "metadata": {},
   "outputs": [
    {
     "data": {
      "text/plain": [
       "LinearRegression(copy_X=True, fit_intercept=True, n_jobs=1, normalize=False)"
      ]
     },
     "execution_count": 103,
     "metadata": {},
     "output_type": "execute_result"
    }
   ],
   "source": [
    "reg.fit(consc_X_train,chron_Y_train)"
   ]
  },
  {
   "cell_type": "code",
   "execution_count": 104,
   "metadata": {},
   "outputs": [],
   "source": [
    "chron_Y_pred = reg.predict(consc_X_test)"
   ]
  },
  {
   "cell_type": "code",
   "execution_count": 105,
   "metadata": {},
   "outputs": [
    {
     "name": "stdout",
     "output_type": "stream",
     "text": [
      "Coefficients: \n",
      " [938.23786125]\n",
      "Mean squared error: 0.861\n",
      "Variance score: 0.024\n"
     ]
    },
    {
     "data": {
      "text/plain": [
       "[<matplotlib.lines.Line2D at 0x115849898>]"
      ]
     },
     "execution_count": 105,
     "metadata": {},
     "output_type": "execute_result"
    },
    {
     "data": {
      "image/png": "[encoded data removed]",
      "text/plain": [
       "<Figure size 432x288 with 1 Axes>"
      ]
     },
     "metadata": {},
     "output_type": "display_data"
    }
   ],
   "source": [
    "print('Coefficients: \\n', regr.coef_)\n",
    "print(\"Mean squared error: %.3f\" % mean_squared_error(chron_Y_test, chron_Y_pred))\n",
    "# Explained variance score: 1 is perfect prediction\n",
    "print('Variance score: %.3f' % r2_score(chron_Y_test, chron_Y_pred))\n",
    "\n",
    "# Plot outputs\n",
    "plt.scatter(consc_X_test, chron_Y_test,  color='r')\n",
    "plt.plot(consc_X_test, chron_Y_pred, color='blue', linewidth=3)"
   ]
  },
  {
   "cell_type": "markdown",
   "metadata": {},
   "source": [
    "### Tri-strat"
   ]
  },
  {
   "cell_type": "code",
   "execution_count": 95,
   "metadata": {},
   "outputs": [],
   "source": [
    "consc_X_test = df['C_strat'].values.reshape(-1,1)[-1*testN:]\n",
    "consc_X_train = df['C_strat'].values.reshape(-1,1)[:-1*testN]"
   ]
  },
  {
   "cell_type": "code",
   "execution_count": 96,
   "metadata": {},
   "outputs": [],
   "source": [
    "reg.fit(consc_X_train,chron_Y_train)\n",
    "chron_Y_pred = reg.predict(consc_X_test)"
   ]
  },
  {
   "cell_type": "code",
   "execution_count": 97,
   "metadata": {},
   "outputs": [
    {
     "name": "stdout",
     "output_type": "stream",
     "text": [
      "Coefficients: \n",
      " [938.23786125]\n",
      "Mean squared error: 0.868\n",
      "Variance score: 0.016\n"
     ]
    },
    {
     "data": {
      "text/plain": [
       "[<matplotlib.lines.Line2D at 0x1156f0208>]"
      ]
     },
     "execution_count": 97,
     "metadata": {},
     "output_type": "execute_result"
    },
    {
     "data": {
      "image/png": "[encoded data removed]",
      "text/plain": [
       "<Figure size 432x288 with 1 Axes>"
      ]
     },
     "metadata": {},
     "output_type": "display_data"
    }
   ],
   "source": [
    "print('Coefficients: \\n', regr.coef_)\n",
    "print(\"Mean squared error: %.3f\" % mean_squared_error(chron_Y_test, chron_Y_pred))\n",
    "# Explained variance score: 1 is perfect prediction\n",
    "print('Variance score: %.3f' % r2_score(chron_Y_test, chron_Y_pred))\n",
    "\n",
    "# Plot outputs\n",
    "plt.scatter(consc_X_test, chron_Y_test,  color='r')\n",
    "plt.plot(consc_X_test, chron_Y_pred, color='blue', linewidth=3)"
   ]
  },
  {
   "cell_type": "markdown",
   "metadata": {},
   "source": [
    "### Bi-strat"
   ]
  },
  {
   "cell_type": "code",
   "execution_count": 90,
   "metadata": {},
   "outputs": [],
   "source": [
    "consc_X_test = df['C_bistrat'].values.reshape(-1,1)[-1*testN:]\n",
    "consc_X_train = df['C_bistrat'].values.reshape(-1,1)[:-1*testN]"
   ]
  },
  {
   "cell_type": "code",
   "execution_count": 91,
   "metadata": {},
   "outputs": [],
   "source": [
    "reg.fit(consc_X_train,chron_Y_train)\n",
    "chron_Y_pred = reg.predict(consc_X_test)"
   ]
  },
  {
   "cell_type": "code",
   "execution_count": 93,
   "metadata": {},
   "outputs": [
    {
     "name": "stdout",
     "output_type": "stream",
     "text": [
      "Coefficients: \n",
      " [938.23786125]\n",
      "Mean squared error: 0.872\n",
      "Variance score: 0.011\n"
     ]
    },
    {
     "data": {
      "text/plain": [
       "[<matplotlib.lines.Line2D at 0x1154dbef0>]"
      ]
     },
     "execution_count": 93,
     "metadata": {},
     "output_type": "execute_result"
    },
    {
     "data": {
      "image/png": "[encoded data removed]",
      "text/plain": [
       "<Figure size 432x288 with 1 Axes>"
      ]
     },
     "metadata": {},
     "output_type": "display_data"
    }
   ],
   "source": [
    "print('Coefficients: \\n', regr.coef_)\n",
    "print(\"Mean squared error: %.3f\" % mean_squared_error(chron_Y_test, chron_Y_pred))\n",
    "# Explained variance score: 1 is perfect prediction\n",
    "print('Variance score: %.3f' % r2_score(chron_Y_test, chron_Y_pred))\n",
    "\n",
    "# Plot outputs\n",
    "plt.scatter(consc_X_test, chron_Y_test,  color='r')\n",
    "plt.plot(consc_X_test, chron_Y_pred, color='blue', linewidth=3)"
   ]
  },
  {
   "cell_type": "markdown",
   "metadata": {},
   "source": [
    "### Multi"
   ]
  },
  {
   "cell_type": "code",
   "execution_count": 107,
   "metadata": {},
   "outputs": [
    {
     "data": {
      "text/plain": [
       "array([[-1.16315566,  0.87111501],\n",
       "       [ 1.6644988 ,  0.43213345],\n",
       "       [-0.45624205, -0.88481124],\n",
       "       ...,\n",
       "       [ 1.6644988 , -0.00684811],\n",
       "       [-0.45624205, -0.44582968],\n",
       "       [-0.45624205, -0.88481124]])"
      ]
     },
     "execution_count": 107,
     "metadata": {},
     "output_type": "execute_result"
    }
   ],
   "source": [
    "df[['C','O']].values"
   ]
  },
  {
   "cell_type": "code",
   "execution_count": 108,
   "metadata": {},
   "outputs": [],
   "source": [
    "consc_X_test = df[['O','C','E','A','N']].values[-1*testN:]\n",
    "consc_X_train = df[['O','C','E','A','N']].values[:-1*testN]"
   ]
  },
  {
   "cell_type": "code",
   "execution_count": 109,
   "metadata": {},
   "outputs": [],
   "source": [
    "reg.fit(consc_X_train,chron_Y_train)\n",
    "chron_Y_pred = reg.predict(consc_X_test)"
   ]
  },
  {
   "cell_type": "code",
   "execution_count": 118,
   "metadata": {},
   "outputs": [
    {
     "name": "stdout",
     "output_type": "stream",
     "text": [
      "Coefficients: \n",
      " [938.23786125]\n",
      "Mean squared error: 0.848\n",
      "Variance score: 0.038\n"
     ]
    },
    {
     "data": {
      "text/plain": [
       "<matplotlib.collections.PathCollection at 0x115cb0198>"
      ]
     },
     "execution_count": 118,
     "metadata": {},
     "output_type": "execute_result"
    },
    {
     "data": {
      "image/png": "[encoded data removed]",
      "text/plain": [
       "<Figure size 432x288 with 1 Axes>"
      ]
     },
     "metadata": {},
     "output_type": "display_data"
    }
   ],
   "source": [
    "print('Coefficients: \\n', regr.coef_)\n",
    "print(\"Mean squared error: %.3f\" % mean_squared_error(chron_Y_test, chron_Y_pred))\n",
    "# Explained variance score: 1 is perfect prediction\n",
    "print('Variance score: %.3f' % r2_score(chron_Y_test, chron_Y_pred))\n",
    "\n",
    "# Plot outputs\n",
    "plt.scatter(consc_X_test[:,1], chron_Y_test,  color='r')\n",
    "plt.scatter(consc_X_test[:,1], chron_Y_pred, color='blue', linewidth=3)"
   ]
  },
  {
   "cell_type": "code",
   "execution_count": 125,
   "metadata": {},
   "outputs": [],
   "source": [
    "consc_X_test = df[['N_strat','E_strat','O_strat','A_strat','C_strat']].values[-1*testN:]\n",
    "consc_X_train = df[['N_strat','E_strat','O_strat','A_strat','C_strat']].values[:-1*testN]"
   ]
  },
  {
   "cell_type": "code",
   "execution_count": 122,
   "metadata": {},
   "outputs": [],
   "source": [
    "consc_X_test = df[['N_bistrat','E_bistrat','O_bistrat','A_bistrat','C_bistrat']].values[-1*testN:]\n",
    "consc_X_train = df[['N_bistrat','E_bistrat','O_bistrat','A_bistrat','C_bistrat']].values[:-1*testN]"
   ]
  },
  {
   "cell_type": "code",
   "execution_count": 126,
   "metadata": {},
   "outputs": [],
   "source": [
    "reg.fit(consc_X_train,chron_Y_train)\n",
    "chron_Y_pred = reg.predict(consc_X_test)"
   ]
  },
  {
   "cell_type": "code",
   "execution_count": 127,
   "metadata": {},
   "outputs": [
    {
     "name": "stdout",
     "output_type": "stream",
     "text": [
      "Coefficients: \n",
      " [938.23786125]\n",
      "Mean squared error: 0.854\n",
      "Variance score: 0.032\n"
     ]
    },
    {
     "data": {
      "text/plain": [
       "<matplotlib.collections.PathCollection at 0x116034630>"
      ]
     },
     "execution_count": 127,
     "metadata": {},
     "output_type": "execute_result"
    },
    {
     "data": {
      "image/png": "[encoded data removed]",
      "text/plain": [
       "<Figure size 432x288 with 1 Axes>"
      ]
     },
     "metadata": {},
     "output_type": "display_data"
    }
   ],
   "source": [
    "print('Coefficients: \\n', regr.coef_)\n",
    "print(\"Mean squared error: %.3f\" % mean_squared_error(chron_Y_test, chron_Y_pred))\n",
    "# Explained variance score: 1 is perfect prediction\n",
    "print('Variance score: %.3f' % r2_score(chron_Y_test, chron_Y_pred))\n",
    "\n",
    "# Plot outputs\n",
    "plt.scatter(consc_X_test[:,1], chron_Y_test,  color='r')\n",
    "plt.scatter(consc_X_test[:,1], chron_Y_pred, color='blue', linewidth=3)"
   ]
  },
  {
   "cell_type": "code",
   "execution_count": 128,
   "metadata": {},
   "outputs": [
    {
     "data": {
      "text/plain": [
       "0.8421052631578948"
      ]
     },
     "execution_count": 128,
     "metadata": {},
     "output_type": "execute_result"
    }
   ],
   "source": [
    ".032/.038\n",
    "# tri strat method accounts for 84% of the variance that a continuous OCEAN model does"
   ]
  },
  {
   "cell_type": "markdown",
   "metadata": {},
   "source": [
    "## Logistic"
   ]
  },
  {
   "cell_type": "code",
   "execution_count": 129,
   "metadata": {},
   "outputs": [],
   "source": [
    "reg_l = linear_model.LogisticRegression()"
   ]
  },
  {
   "cell_type": "code",
   "execution_count": 138,
   "metadata": {},
   "outputs": [],
   "source": [
    "consc_X_test = df['C'].values.reshape(-1,1)[-1*testN:]\n",
    "consc_X_train = df['C'].values.reshape(-1,1)[:-1*testN]"
   ]
  },
  {
   "cell_type": "code",
   "execution_count": 131,
   "metadata": {},
   "outputs": [],
   "source": [
    "consc_X_test = df[['O','C','E','A','N']].values[-1*testN:]\n",
    "consc_X_train = df[['O','C','E','A','N']].values[:-1*testN]"
   ]
  },
  {
   "cell_type": "code",
   "execution_count": 132,
   "metadata": {},
   "outputs": [],
   "source": [
    "chron_Y_test = df['Chronotype'].values.reshape(-1,1)[-1*testN:]\n",
    "chron_Y_train = df['Chronotype'].values.reshape(-1,1)[:-1*testN]"
   ]
  },
  {
   "cell_type": "code",
   "execution_count": 146,
   "metadata": {},
   "outputs": [
    {
     "name": "stderr",
     "output_type": "stream",
     "text": [
      "/usr/local/lib/python3.6/site-packages/sklearn/utils/validation.py:578: DataConversionWarning: A column-vector y was passed when a 1d array was expected. Please change the shape of y to (n_samples, ), for example using ravel().\n",
      "  y = column_or_1d(y, warn=True)\n"
     ]
    },
    {
     "ename": "ValueError",
     "evalue": "shapes (500,1) and (5,1) not aligned: 1 (dim 1) != 5 (dim 0)",
     "output_type": "error",
     "traceback": [
      "\u001b[0;31m--------------------------------------------------------------------\u001b[0m",
      "\u001b[0;31mValueError\u001b[0m                         Traceback (most recent call last)",
      "\u001b[0;32m<ipython-input-146-d630a968e566>\u001b[0m in \u001b[0;36m<module>\u001b[0;34m()\u001b[0m\n\u001b[1;32m      1\u001b[0m \u001b[0mreg_l\u001b[0m\u001b[0;34m.\u001b[0m\u001b[0mfit\u001b[0m\u001b[0;34m(\u001b[0m\u001b[0mconsc_X_train\u001b[0m\u001b[0;34m,\u001b[0m\u001b[0mchron_Y_train\u001b[0m\u001b[0;34m)\u001b[0m\u001b[0;34m\u001b[0m\u001b[0m\n\u001b[0;32m----> 2\u001b[0;31m \u001b[0mchron_Y_pred\u001b[0m \u001b[0;34m=\u001b[0m \u001b[0mreg\u001b[0m\u001b[0;34m.\u001b[0m\u001b[0mpredict\u001b[0m\u001b[0;34m(\u001b[0m\u001b[0mconsc_X_test\u001b[0m\u001b[0;34m)\u001b[0m\u001b[0;34m\u001b[0m\u001b[0m\n\u001b[0m",
      "\u001b[0;32m/usr/local/lib/python3.6/site-packages/sklearn/linear_model/base.py\u001b[0m in \u001b[0;36mpredict\u001b[0;34m(self, X)\u001b[0m\n\u001b[1;32m    254\u001b[0m             \u001b[0mReturns\u001b[0m \u001b[0mpredicted\u001b[0m \u001b[0mvalues\u001b[0m\u001b[0;34m.\u001b[0m\u001b[0;34m\u001b[0m\u001b[0m\n\u001b[1;32m    255\u001b[0m         \"\"\"\n\u001b[0;32m--> 256\u001b[0;31m         \u001b[0;32mreturn\u001b[0m \u001b[0mself\u001b[0m\u001b[0;34m.\u001b[0m\u001b[0m_decision_function\u001b[0m\u001b[0;34m(\u001b[0m\u001b[0mX\u001b[0m\u001b[0;34m)\u001b[0m\u001b[0;34m\u001b[0m\u001b[0m\n\u001b[0m\u001b[1;32m    257\u001b[0m \u001b[0;34m\u001b[0m\u001b[0m\n\u001b[1;32m    258\u001b[0m     \u001b[0m_preprocess_data\u001b[0m \u001b[0;34m=\u001b[0m \u001b[0mstaticmethod\u001b[0m\u001b[0;34m(\u001b[0m\u001b[0m_preprocess_data\u001b[0m\u001b[0;34m)\u001b[0m\u001b[0;34m\u001b[0m\u001b[0m\n",
      "\u001b[0;32m/usr/local/lib/python3.6/site-packages/sklearn/linear_model/base.py\u001b[0m in \u001b[0;36m_decision_function\u001b[0;34m(self, X)\u001b[0m\n\u001b[1;32m    239\u001b[0m         \u001b[0mX\u001b[0m \u001b[0;34m=\u001b[0m \u001b[0mcheck_array\u001b[0m\u001b[0;34m(\u001b[0m\u001b[0mX\u001b[0m\u001b[0;34m,\u001b[0m \u001b[0maccept_sparse\u001b[0m\u001b[0;34m=\u001b[0m\u001b[0;34m[\u001b[0m\u001b[0;34m'csr'\u001b[0m\u001b[0;34m,\u001b[0m \u001b[0;34m'csc'\u001b[0m\u001b[0;34m,\u001b[0m \u001b[0;34m'coo'\u001b[0m\u001b[0;34m]\u001b[0m\u001b[0;34m)\u001b[0m\u001b[0;34m\u001b[0m\u001b[0m\n\u001b[1;32m    240\u001b[0m         return safe_sparse_dot(X, self.coef_.T,\n\u001b[0;32m--> 241\u001b[0;31m                                dense_output=True) + self.intercept_\n\u001b[0m\u001b[1;32m    242\u001b[0m \u001b[0;34m\u001b[0m\u001b[0m\n\u001b[1;32m    243\u001b[0m     \u001b[0;32mdef\u001b[0m \u001b[0mpredict\u001b[0m\u001b[0;34m(\u001b[0m\u001b[0mself\u001b[0m\u001b[0;34m,\u001b[0m \u001b[0mX\u001b[0m\u001b[0;34m)\u001b[0m\u001b[0;34m:\u001b[0m\u001b[0;34m\u001b[0m\u001b[0m\n",
      "\u001b[0;32m/usr/local/lib/python3.6/site-packages/sklearn/utils/extmath.py\u001b[0m in \u001b[0;36msafe_sparse_dot\u001b[0;34m(a, b, dense_output)\u001b[0m\n\u001b[1;32m    138\u001b[0m         \u001b[0;32mreturn\u001b[0m \u001b[0mret\u001b[0m\u001b[0;34m\u001b[0m\u001b[0m\n\u001b[1;32m    139\u001b[0m     \u001b[0;32melse\u001b[0m\u001b[0;34m:\u001b[0m\u001b[0;34m\u001b[0m\u001b[0m\n\u001b[0;32m--> 140\u001b[0;31m         \u001b[0;32mreturn\u001b[0m \u001b[0mnp\u001b[0m\u001b[0;34m.\u001b[0m\u001b[0mdot\u001b[0m\u001b[0;34m(\u001b[0m\u001b[0ma\u001b[0m\u001b[0;34m,\u001b[0m \u001b[0mb\u001b[0m\u001b[0;34m)\u001b[0m\u001b[0;34m\u001b[0m\u001b[0m\n\u001b[0m\u001b[1;32m    141\u001b[0m \u001b[0;34m\u001b[0m\u001b[0m\n\u001b[1;32m    142\u001b[0m \u001b[0;34m\u001b[0m\u001b[0m\n",
      "\u001b[0;31mValueError\u001b[0m: shapes (500,1) and (5,1) not aligned: 1 (dim 1) != 5 (dim 0)"
     ]
    }
   ],
   "source": [
    "reg_l.fit(consc_X_train,chron_Y_train)\n",
    "chron_Y_pred = reg.predict(consc_X_test)"
   ]
  },
  {
   "cell_type": "code",
   "execution_count": 142,
   "metadata": {},
   "outputs": [
    {
     "name": "stdout",
     "output_type": "stream",
     "text": [
      "Coefficients: \n",
      " [938.23786125]\n",
      "Mean squared error: 1.113\n",
      "Variance score: -0.261\n"
     ]
    },
    {
     "data": {
      "text/plain": [
       "[<matplotlib.lines.Line2D at 0x115e50a20>]"
      ]
     },
     "execution_count": 142,
     "metadata": {},
     "output_type": "execute_result"
    },
    {
     "data": {
      "image/png": "[encoded data removed]",
      "text/plain": [
       "<Figure size 432x288 with 1 Axes>"
      ]
     },
     "metadata": {},
     "output_type": "display_data"
    }
   ],
   "source": [
    "print('Coefficients: \\n', regr.coef_)\n",
    "print(\"Mean squared error: %.3f\" % mean_squared_error(chron_Y_test, chron_Y_pred))\n",
    "# Explained variance score: 1 is perfect prediction\n",
    "print('Variance score: %.3f' % r2_score(chron_Y_test, chron_Y_pred))\n",
    "\n",
    "# Plot outputs\n",
    "plt.scatter(consc_X_test, chron_Y_test,  color='r')\n",
    "plt.plot(consc_X_test, chron_Y_pred, color='blue', linewidth=3)"
   ]
  },
  {
   "cell_type": "code",
   "execution_count": 144,
   "metadata": {},
   "outputs": [
    {
     "data": {
      "text/plain": [
       "array([[-1.16315566],\n",
       "       [ 1.6644988 ],\n",
       "       [-0.45624205],\n",
       "       ...,\n",
       "       [ 1.6644988 ],\n",
       "       [-0.45624205],\n",
       "       [-0.45624205]])"
      ]
     },
     "execution_count": 144,
     "metadata": {},
     "output_type": "execute_result"
    }
   ],
   "source": [
    "df['C'].values.reshape(-1,1)"
   ]
  },
  {
   "cell_type": "code",
   "execution_count": null,
   "metadata": {},
   "outputs": [],
   "source": []
  }
 ],
 "metadata": {
  "kernelspec": {
   "display_name": "Python 3",
   "language": "python",
   "name": "python3"
  },
  "language_info": {
   "codemirror_mode": {
    "name": "ipython",
    "version": 3
   },
   "file_extension": ".py",
   "mimetype": "text/x-python",
   "name": "python",
   "nbconvert_exporter": "python",
   "pygments_lexer": "ipython3",
   "version": "3.6.4"
  }
 },
 "nbformat": 4,
 "nbformat_minor": 2
}
