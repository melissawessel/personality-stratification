{
 "cells": [
  {
   "cell_type": "markdown",
   "metadata": {},
   "source": [
    "# Correlations"
   ]
  },
  {
   "cell_type": "code",
   "execution_count": 1,
   "metadata": {},
   "outputs": [],
   "source": [
    "import numpy as np\n",
    "import pandas as pd\n",
    "import pylab as plt\n",
    "from scipy import stats\n",
    "\n",
    "from analysis.CodingScoring import scoreTIPI, normTIPI\n",
    "plt.style.use('dark_background')"
   ]
  },
  {
   "cell_type": "code",
   "execution_count": 2,
   "metadata": {},
   "outputs": [
    {
     "data": {
      "text/html": [
       "<div>\n",
       "<style scoped>\n",
       "    .dataframe tbody tr th:only-of-type {\n",
       "        vertical-align: middle;\n",
       "    }\n",
       "\n",
       "    .dataframe tbody tr th {\n",
       "        vertical-align: top;\n",
       "    }\n",
       "\n",
       "    .dataframe thead th {\n",
       "        text-align: right;\n",
       "    }\n",
       "</style>\n",
       "<table border=\"1\" class=\"dataframe\">\n",
       "  <thead>\n",
       "    <tr style=\"text-align: right;\">\n",
       "      <th></th>\n",
       "      <th>Start Date</th>\n",
       "      <th>End Date</th>\n",
       "      <th>DressColor</th>\n",
       "      <th>DressColorOther</th>\n",
       "      <th>DressShadow</th>\n",
       "      <th>DressShadowOther</th>\n",
       "      <th>DressLight</th>\n",
       "      <th>DressTrueColors</th>\n",
       "      <th>DressTrueColorsOther</th>\n",
       "      <th>JacketColor</th>\n",
       "      <th>...</th>\n",
       "      <th>C+</th>\n",
       "      <th>S-</th>\n",
       "      <th>O+</th>\n",
       "      <th>E-</th>\n",
       "      <th>A+</th>\n",
       "      <th>C-</th>\n",
       "      <th>S+</th>\n",
       "      <th>O-</th>\n",
       "      <th>HonestyCheck</th>\n",
       "      <th>FreeText</th>\n",
       "    </tr>\n",
       "  </thead>\n",
       "  <tbody>\n",
       "    <tr>\n",
       "      <th>0</th>\n",
       "      <td>10/14/17 0:50</td>\n",
       "      <td>10/14/17 0:59</td>\n",
       "      <td>White/Gold</td>\n",
       "      <td>NaN</td>\n",
       "      <td>Yes</td>\n",
       "      <td>NaN</td>\n",
       "      <td>Artificial light</td>\n",
       "      <td>No</td>\n",
       "      <td>NaN</td>\n",
       "      <td>Other (please specify)</td>\n",
       "      <td>...</td>\n",
       "      <td>Neither agree nor disagree</td>\n",
       "      <td>Agree slightly</td>\n",
       "      <td>Agree strongly</td>\n",
       "      <td>Agree slightly</td>\n",
       "      <td>Agree strongly</td>\n",
       "      <td>Agree moderately</td>\n",
       "      <td>Agree slightly</td>\n",
       "      <td>Disagree moderately</td>\n",
       "      <td>Yes</td>\n",
       "      <td>Best of luck!</td>\n",
       "    </tr>\n",
       "    <tr>\n",
       "      <th>1</th>\n",
       "      <td>10/14/17 0:30</td>\n",
       "      <td>10/14/17 0:40</td>\n",
       "      <td>NaN</td>\n",
       "      <td>Switches from blue/black to blue/gold</td>\n",
       "      <td>No</td>\n",
       "      <td>NaN</td>\n",
       "      <td>Artificial light</td>\n",
       "      <td>No</td>\n",
       "      <td>NaN</td>\n",
       "      <td>Other (please specify)</td>\n",
       "      <td>...</td>\n",
       "      <td>Agree strongly</td>\n",
       "      <td>Agree slightly</td>\n",
       "      <td>Agree slightly</td>\n",
       "      <td>Disagree slightly</td>\n",
       "      <td>Agree moderately</td>\n",
       "      <td>Disagree strongly</td>\n",
       "      <td>Agree moderately</td>\n",
       "      <td>Disagree strongly</td>\n",
       "      <td>Yes</td>\n",
       "      <td>Hope research is going well!! Good luck!</td>\n",
       "    </tr>\n",
       "    <tr>\n",
       "      <th>2</th>\n",
       "      <td>10/14/17 0:00</td>\n",
       "      <td>10/14/17 0:04</td>\n",
       "      <td>Blue/Black</td>\n",
       "      <td>NaN</td>\n",
       "      <td>No</td>\n",
       "      <td>NaN</td>\n",
       "      <td>Artificial light</td>\n",
       "      <td>No</td>\n",
       "      <td>NaN</td>\n",
       "      <td>Blue and white</td>\n",
       "      <td>...</td>\n",
       "      <td>Agree slightly</td>\n",
       "      <td>Agree slightly</td>\n",
       "      <td>Agree moderately</td>\n",
       "      <td>Agree slightly</td>\n",
       "      <td>Agree slightly</td>\n",
       "      <td>Agree slightly</td>\n",
       "      <td>Agree slightly</td>\n",
       "      <td>Agree slightly</td>\n",
       "      <td>Yes</td>\n",
       "      <td>NaN</td>\n",
       "    </tr>\n",
       "    <tr>\n",
       "      <th>3</th>\n",
       "      <td>10/13/17 23:38</td>\n",
       "      <td>10/13/17 23:45</td>\n",
       "      <td>White/Gold</td>\n",
       "      <td>NaN</td>\n",
       "      <td>Yes</td>\n",
       "      <td>NaN</td>\n",
       "      <td>Natural light</td>\n",
       "      <td>No</td>\n",
       "      <td>NaN</td>\n",
       "      <td>Green and gold</td>\n",
       "      <td>...</td>\n",
       "      <td>Agree moderately</td>\n",
       "      <td>Disagree moderately</td>\n",
       "      <td>Agree moderately</td>\n",
       "      <td>Disagree slightly</td>\n",
       "      <td>Disagree slightly</td>\n",
       "      <td>Disagree moderately</td>\n",
       "      <td>Agree moderately</td>\n",
       "      <td>Neither agree nor disagree</td>\n",
       "      <td>Yes</td>\n",
       "      <td>I'm an engineer and would love to see the data...</td>\n",
       "    </tr>\n",
       "    <tr>\n",
       "      <th>4</th>\n",
       "      <td>10/13/17 23:24</td>\n",
       "      <td>10/13/17 23:30</td>\n",
       "      <td>White/Gold</td>\n",
       "      <td>NaN</td>\n",
       "      <td>No</td>\n",
       "      <td>NaN</td>\n",
       "      <td>Natural light</td>\n",
       "      <td>No</td>\n",
       "      <td>NaN</td>\n",
       "      <td>Other (please specify)</td>\n",
       "      <td>...</td>\n",
       "      <td>Agree slightly</td>\n",
       "      <td>Agree slightly</td>\n",
       "      <td>Neither agree nor disagree</td>\n",
       "      <td>Agree slightly</td>\n",
       "      <td>Agree moderately</td>\n",
       "      <td>Neither agree nor disagree</td>\n",
       "      <td>Agree slightly</td>\n",
       "      <td>Agree slightly</td>\n",
       "      <td>Yes</td>\n",
       "      <td>NaN</td>\n",
       "    </tr>\n",
       "  </tbody>\n",
       "</table>\n",
       "<p>5 rows × 39 columns</p>\n",
       "</div>"
      ],
      "text/plain": [
       "       Start Date        End Date  DressColor  \\\n",
       "0   10/14/17 0:50   10/14/17 0:59  White/Gold   \n",
       "1   10/14/17 0:30   10/14/17 0:40         NaN   \n",
       "2   10/14/17 0:00   10/14/17 0:04  Blue/Black   \n",
       "3  10/13/17 23:38  10/13/17 23:45  White/Gold   \n",
       "4  10/13/17 23:24  10/13/17 23:30  White/Gold   \n",
       "\n",
       "                         DressColorOther DressShadow DressShadowOther  \\\n",
       "0                                    NaN         Yes              NaN   \n",
       "1  Switches from blue/black to blue/gold          No              NaN   \n",
       "2                                    NaN          No              NaN   \n",
       "3                                    NaN         Yes              NaN   \n",
       "4                                    NaN          No              NaN   \n",
       "\n",
       "         DressLight DressTrueColors DressTrueColorsOther  \\\n",
       "0  Artificial light              No                  NaN   \n",
       "1  Artificial light              No                  NaN   \n",
       "2  Artificial light              No                  NaN   \n",
       "3     Natural light              No                  NaN   \n",
       "4     Natural light              No                  NaN   \n",
       "\n",
       "              JacketColor                        ...                          \\\n",
       "0  Other (please specify)                        ...                           \n",
       "1  Other (please specify)                        ...                           \n",
       "2          Blue and white                        ...                           \n",
       "3          Green and gold                        ...                           \n",
       "4  Other (please specify)                        ...                           \n",
       "\n",
       "                           C+                   S-  \\\n",
       "0  Neither agree nor disagree       Agree slightly   \n",
       "1              Agree strongly       Agree slightly   \n",
       "2              Agree slightly       Agree slightly   \n",
       "3            Agree moderately  Disagree moderately   \n",
       "4              Agree slightly       Agree slightly   \n",
       "\n",
       "                           O+                 E-                 A+  \\\n",
       "0              Agree strongly     Agree slightly     Agree strongly   \n",
       "1              Agree slightly  Disagree slightly   Agree moderately   \n",
       "2            Agree moderately     Agree slightly     Agree slightly   \n",
       "3            Agree moderately  Disagree slightly  Disagree slightly   \n",
       "4  Neither agree nor disagree     Agree slightly   Agree moderately   \n",
       "\n",
       "                           C-                S+                          O-  \\\n",
       "0            Agree moderately    Agree slightly         Disagree moderately   \n",
       "1           Disagree strongly  Agree moderately           Disagree strongly   \n",
       "2              Agree slightly    Agree slightly              Agree slightly   \n",
       "3         Disagree moderately  Agree moderately  Neither agree nor disagree   \n",
       "4  Neither agree nor disagree    Agree slightly              Agree slightly   \n",
       "\n",
       "  HonestyCheck                                           FreeText  \n",
       "0          Yes                                      Best of luck!  \n",
       "1          Yes          Hope research is going well!! Good luck!   \n",
       "2          Yes                                                NaN  \n",
       "3          Yes  I'm an engineer and would love to see the data...  \n",
       "4          Yes                                                NaN  \n",
       "\n",
       "[5 rows x 39 columns]"
      ]
     },
     "execution_count": 2,
     "metadata": {},
     "output_type": "execute_result"
    }
   ],
   "source": [
    "\n",
    "questions = pd.read_csv('data/External/dataHeadings.csv')\n",
    "dataRaw = pd.read_csv('data/External/dataRaw.csv', names=questions.QuestionCode)\n",
    "dataRaw.head()\n"
   ]
  },
  {
   "cell_type": "code",
   "execution_count": 3,
   "metadata": {},
   "outputs": [],
   "source": [
    "df = dataRaw.join(scoreTIPI(dataRaw))"
   ]
  },
  {
   "cell_type": "markdown",
   "metadata": {},
   "source": [
    "## Chronotype"
   ]
  },
  {
   "cell_type": "code",
   "execution_count": 4,
   "metadata": {},
   "outputs": [],
   "source": [
    "cxOCEAS = df[['Chronotype','O','C','E','A','S']]"
   ]
  },
  {
   "cell_type": "code",
   "execution_count": 5,
   "metadata": {},
   "outputs": [],
   "source": [
    "m = cxOCEAS.groupby(['Chronotype']).mean()"
   ]
  },
  {
   "cell_type": "code",
   "execution_count": 6,
   "metadata": {},
   "outputs": [
    {
     "data": {
      "text/html": [
       "<div>\n",
       "<style scoped>\n",
       "    .dataframe tbody tr th:only-of-type {\n",
       "        vertical-align: middle;\n",
       "    }\n",
       "\n",
       "    .dataframe tbody tr th {\n",
       "        vertical-align: top;\n",
       "    }\n",
       "\n",
       "    .dataframe thead th {\n",
       "        text-align: right;\n",
       "    }\n",
       "</style>\n",
       "<table border=\"1\" class=\"dataframe\">\n",
       "  <thead>\n",
       "    <tr style=\"text-align: right;\">\n",
       "      <th></th>\n",
       "      <th>O</th>\n",
       "      <th>C</th>\n",
       "      <th>E</th>\n",
       "      <th>A</th>\n",
       "      <th>S</th>\n",
       "    </tr>\n",
       "    <tr>\n",
       "      <th>Chronotype</th>\n",
       "      <th></th>\n",
       "      <th></th>\n",
       "      <th></th>\n",
       "      <th></th>\n",
       "      <th></th>\n",
       "    </tr>\n",
       "  </thead>\n",
       "  <tbody>\n",
       "    <tr>\n",
       "      <th>Strong lark</th>\n",
       "      <td>5.235566</td>\n",
       "      <td>5.489559</td>\n",
       "      <td>3.583077</td>\n",
       "      <td>4.911696</td>\n",
       "      <td>4.688417</td>\n",
       "    </tr>\n",
       "    <tr>\n",
       "      <th>Lark</th>\n",
       "      <td>5.222124</td>\n",
       "      <td>5.283712</td>\n",
       "      <td>3.636953</td>\n",
       "      <td>4.911116</td>\n",
       "      <td>4.636043</td>\n",
       "    </tr>\n",
       "  </tbody>\n",
       "</table>\n",
       "</div>"
      ],
      "text/plain": [
       "                    O         C         E         A         S\n",
       "Chronotype                                                   \n",
       "Strong lark  5.235566  5.489559  3.583077  4.911696  4.688417\n",
       "Lark         5.222124  5.283712  3.636953  4.911116  4.636043"
      ]
     },
     "execution_count": 6,
     "metadata": {},
     "output_type": "execute_result"
    }
   ],
   "source": [
    "m.loc[['Strong lark','Lark']]"
   ]
  },
  {
   "cell_type": "code",
   "execution_count": 7,
   "metadata": {},
   "outputs": [
    {
     "data": {
      "text/plain": [
       "<matplotlib.legend.Legend at 0x10ded1390>"
      ]
     },
     "execution_count": 7,
     "metadata": {},
     "output_type": "execute_result"
    },
    {
     "data": {
      "image/png": "[encoded data removed]",
      "text/plain": [
       "<Figure size 432x288 with 1 Axes>"
      ]
     },
     "metadata": {},
     "output_type": "display_data"
    }
   ],
   "source": [
    "plt.plot(m.loc[['Strong lark','Lark','Owl','Strong owl']], marker='o')\n",
    "plt.legend(['O','C','E','A','S'])"
   ]
  },
  {
   "cell_type": "code",
   "execution_count": 14,
   "metadata": {},
   "outputs": [
    {
     "data": {
      "text/plain": [
       "<matplotlib.axes._subplots.AxesSubplot at 0x115c1a748>"
      ]
     },
     "execution_count": 14,
     "metadata": {},
     "output_type": "execute_result"
    },
    {
     "data": {
      "image/png": "[encoded data removed]",
      "text/plain": [
       "<Figure size 432x288 with 1 Axes>"
      ]
     },
     "metadata": {},
     "output_type": "display_data"
    }
   ],
   "source": [
    "cxOCEAS.boxplot('C', by='Chronotype')"
   ]
  },
  {
   "cell_type": "code",
   "execution_count": 48,
   "metadata": {},
   "outputs": [
    {
     "data": {
      "text/plain": [
       "91     6.0\n",
       "142    7.0\n",
       "150    7.0\n",
       "186    5.5\n",
       "189    7.0\n",
       "Name: C, dtype: float64"
      ]
     },
     "execution_count": 48,
     "metadata": {},
     "output_type": "execute_result"
    }
   ],
   "source": [
    "cxOCEAS['C'][cxOCEAS['Chronotype']=='Strong lark'].dropna().head()"
   ]
  },
  {
   "cell_type": "code",
   "execution_count": 54,
   "metadata": {},
   "outputs": [
    {
     "name": "stdout",
     "output_type": "stream",
     "text": [
      "F=42.857438, p=0.000000\n",
      "F=1.638169, p=0.178211\n",
      "F=30.401000, p=0.000000\n",
      "F=26.590246, p=0.000000\n",
      "F=300.886551, p=0.000000\n"
     ]
    }
   ],
   "source": [
    "for trait in ['S','E','O','A','C']:\n",
    "    sl = cxOCEAS[trait][cxOCEAS['Chronotype']=='Strong lark'].dropna()\n",
    "    l = cxOCEAS[trait][cxOCEAS['Chronotype']=='Lark'].dropna()\n",
    "    o = cxOCEAS[trait][cxOCEAS['Chronotype']=='Owl'].dropna()\n",
    "    so = cxOCEAS[trait][cxOCEAS['Chronotype']=='Strong owl'].dropna()\n",
    "    f_val, p_val = stats.f_oneway(sl,l,o,so)\n",
    "    print('F=%f, p=%f'%(f_val,p_val))"
   ]
  },
  {
   "cell_type": "code",
   "execution_count": null,
   "metadata": {},
   "outputs": [],
   "source": []
  },
  {
   "cell_type": "code",
   "execution_count": null,
   "metadata": {},
   "outputs": [],
   "source": []
  },
  {
   "cell_type": "code",
   "execution_count": null,
   "metadata": {},
   "outputs": [],
   "source": []
  },
  {
   "cell_type": "code",
   "execution_count": 95,
   "metadata": {},
   "outputs": [
    {
     "data": {
      "text/plain": [
       "Index(['Start Date', 'End Date', 'DressColor', 'DressColorOther',\n",
       "       'DressShadow', 'DressShadowOther', 'DressLight', 'DressTrueColors',\n",
       "       'DressTrueColorsOther', 'JacketColor', 'JacketColorOther',\n",
       "       'JacketShadow', 'JacketLight', 'JacketLightDirection',\n",
       "       'JacketTrueColors', 'FlopColor', 'FlopColorOther', 'FlopShadow',\n",
       "       'FlopLight', 'FlopTrueColors', 'Age', 'Gender', 'Ethnicity',\n",
       "       'Chronotype', 'ChronotypeOther', 'FavColor', 'VisDisorder', 'E+', 'A-',\n",
       "       'C+', 'S-', 'O+', 'E-', 'A+', 'C-', 'S+', 'O-', 'HonestyCheck',\n",
       "       'FreeText'],\n",
       "      dtype='object')"
      ]
     },
     "execution_count": 95,
     "metadata": {},
     "output_type": "execute_result"
    }
   ],
   "source": [
    "dataRaw.columns"
   ]
  },
  {
   "cell_type": "markdown",
   "metadata": {},
   "source": [
    "## Code OCEAS into high mid low\n",
    "By standard deviation"
   ]
  },
  {
   "cell_type": "code",
   "execution_count": 108,
   "metadata": {},
   "outputs": [
    {
     "data": {
      "text/html": [
       "<div>\n",
       "<style scoped>\n",
       "    .dataframe tbody tr th:only-of-type {\n",
       "        vertical-align: middle;\n",
       "    }\n",
       "\n",
       "    .dataframe tbody tr th {\n",
       "        vertical-align: top;\n",
       "    }\n",
       "\n",
       "    .dataframe thead th {\n",
       "        text-align: right;\n",
       "    }\n",
       "</style>\n",
       "<table border=\"1\" class=\"dataframe\">\n",
       "  <thead>\n",
       "    <tr style=\"text-align: right;\">\n",
       "      <th></th>\n",
       "      <th>Chronotype</th>\n",
       "      <th>O</th>\n",
       "      <th>C</th>\n",
       "      <th>E</th>\n",
       "      <th>A</th>\n",
       "      <th>S</th>\n",
       "    </tr>\n",
       "  </thead>\n",
       "  <tbody>\n",
       "    <tr>\n",
       "      <th>0</th>\n",
       "      <td>Strong owl</td>\n",
       "      <td>6.5</td>\n",
       "      <td>3.0</td>\n",
       "      <td>4.5</td>\n",
       "      <td>4.0</td>\n",
       "      <td>4.0</td>\n",
       "    </tr>\n",
       "    <tr>\n",
       "      <th>1</th>\n",
       "      <td>Strong owl</td>\n",
       "      <td>6.0</td>\n",
       "      <td>7.0</td>\n",
       "      <td>5.0</td>\n",
       "      <td>4.0</td>\n",
       "      <td>4.5</td>\n",
       "    </tr>\n",
       "    <tr>\n",
       "      <th>2</th>\n",
       "      <td>Owl</td>\n",
       "      <td>4.5</td>\n",
       "      <td>4.0</td>\n",
       "      <td>4.0</td>\n",
       "      <td>3.5</td>\n",
       "      <td>4.0</td>\n",
       "    </tr>\n",
       "    <tr>\n",
       "      <th>3</th>\n",
       "      <td>Lark</td>\n",
       "      <td>5.0</td>\n",
       "      <td>6.0</td>\n",
       "      <td>4.0</td>\n",
       "      <td>2.5</td>\n",
       "      <td>6.0</td>\n",
       "    </tr>\n",
       "    <tr>\n",
       "      <th>4</th>\n",
       "      <td>Lark</td>\n",
       "      <td>3.5</td>\n",
       "      <td>4.5</td>\n",
       "      <td>2.5</td>\n",
       "      <td>5.5</td>\n",
       "      <td>4.0</td>\n",
       "    </tr>\n",
       "  </tbody>\n",
       "</table>\n",
       "</div>"
      ],
      "text/plain": [
       "   Chronotype    O    C    E    A    S\n",
       "0  Strong owl  6.5  3.0  4.5  4.0  4.0\n",
       "1  Strong owl  6.0  7.0  5.0  4.0  4.5\n",
       "2         Owl  4.5  4.0  4.0  3.5  4.0\n",
       "3        Lark  5.0  6.0  4.0  2.5  6.0\n",
       "4        Lark  3.5  4.5  2.5  5.5  4.0"
      ]
     },
     "execution_count": 108,
     "metadata": {},
     "output_type": "execute_result"
    }
   ],
   "source": [
    "cxOCEAS.head()"
   ]
  },
  {
   "cell_type": "code",
   "execution_count": 136,
   "metadata": {},
   "outputs": [
    {
     "data": {
      "text/html": [
       "<div>\n",
       "<style scoped>\n",
       "    .dataframe tbody tr th:only-of-type {\n",
       "        vertical-align: middle;\n",
       "    }\n",
       "\n",
       "    .dataframe tbody tr th {\n",
       "        vertical-align: top;\n",
       "    }\n",
       "\n",
       "    .dataframe thead th {\n",
       "        text-align: right;\n",
       "    }\n",
       "</style>\n",
       "<table border=\"1\" class=\"dataframe\">\n",
       "  <thead>\n",
       "    <tr style=\"text-align: right;\">\n",
       "      <th></th>\n",
       "      <th>E</th>\n",
       "      <th>A</th>\n",
       "      <th>C</th>\n",
       "      <th>S</th>\n",
       "      <th>O</th>\n",
       "    </tr>\n",
       "  </thead>\n",
       "  <tbody>\n",
       "    <tr>\n",
       "      <th>count</th>\n",
       "      <td>16495.000000</td>\n",
       "      <td>16430.000000</td>\n",
       "      <td>16437.000000</td>\n",
       "      <td>16463.000000</td>\n",
       "      <td>16481.000000</td>\n",
       "    </tr>\n",
       "    <tr>\n",
       "      <th>mean</th>\n",
       "      <td>3.597484</td>\n",
       "      <td>4.812355</td>\n",
       "      <td>4.956774</td>\n",
       "      <td>4.508018</td>\n",
       "      <td>5.295856</td>\n",
       "    </tr>\n",
       "    <tr>\n",
       "      <th>std</th>\n",
       "      <td>1.682075</td>\n",
       "      <td>1.224732</td>\n",
       "      <td>1.363664</td>\n",
       "      <td>1.501507</td>\n",
       "      <td>1.118479</td>\n",
       "    </tr>\n",
       "    <tr>\n",
       "      <th>min</th>\n",
       "      <td>1.000000</td>\n",
       "      <td>1.000000</td>\n",
       "      <td>1.000000</td>\n",
       "      <td>1.000000</td>\n",
       "      <td>1.000000</td>\n",
       "    </tr>\n",
       "    <tr>\n",
       "      <th>25%</th>\n",
       "      <td>2.000000</td>\n",
       "      <td>4.000000</td>\n",
       "      <td>4.000000</td>\n",
       "      <td>3.500000</td>\n",
       "      <td>4.500000</td>\n",
       "    </tr>\n",
       "    <tr>\n",
       "      <th>50%</th>\n",
       "      <td>3.500000</td>\n",
       "      <td>5.000000</td>\n",
       "      <td>5.000000</td>\n",
       "      <td>4.500000</td>\n",
       "      <td>5.500000</td>\n",
       "    </tr>\n",
       "    <tr>\n",
       "      <th>75%</th>\n",
       "      <td>5.000000</td>\n",
       "      <td>6.000000</td>\n",
       "      <td>6.000000</td>\n",
       "      <td>6.000000</td>\n",
       "      <td>6.000000</td>\n",
       "    </tr>\n",
       "    <tr>\n",
       "      <th>max</th>\n",
       "      <td>7.000000</td>\n",
       "      <td>7.000000</td>\n",
       "      <td>7.000000</td>\n",
       "      <td>7.000000</td>\n",
       "      <td>7.000000</td>\n",
       "    </tr>\n",
       "  </tbody>\n",
       "</table>\n",
       "</div>"
      ],
      "text/plain": [
       "                  E             A             C             S             O\n",
       "count  16495.000000  16430.000000  16437.000000  16463.000000  16481.000000\n",
       "mean       3.597484      4.812355      4.956774      4.508018      5.295856\n",
       "std        1.682075      1.224732      1.363664      1.501507      1.118479\n",
       "min        1.000000      1.000000      1.000000      1.000000      1.000000\n",
       "25%        2.000000      4.000000      4.000000      3.500000      4.500000\n",
       "50%        3.500000      5.000000      5.000000      4.500000      5.500000\n",
       "75%        5.000000      6.000000      6.000000      6.000000      6.000000\n",
       "max        7.000000      7.000000      7.000000      7.000000      7.000000"
      ]
     },
     "execution_count": 136,
     "metadata": {},
     "output_type": "execute_result"
    }
   ],
   "source": [
    "cxOCEAS[['E','A','C','S','O']].describe()"
   ]
  },
  {
   "cell_type": "code",
   "execution_count": 5,
   "metadata": {},
   "outputs": [
    {
     "data": {
      "image/png": "[encoded data removed]",
      "text/plain": [
       "<Figure size 432x288 with 1 Axes>"
      ]
     },
     "metadata": {},
     "output_type": "display_data"
    }
   ],
   "source": [
    "i=0\n",
    "colors = ['r','y','b','g','c']\n",
    "for trait in ['S','E','O','A','C']:\n",
    "    plt.plot(cxOCEAS[trait].value_counts().sort_index(),color=colors[i])\n",
    "    i+=1"
   ]
  },
  {
   "cell_type": "code",
   "execution_count": 6,
   "metadata": {},
   "outputs": [
    {
     "name": "stderr",
     "output_type": "stream",
     "text": [
      "/usr/local/lib/python3.6/site-packages/pandas/core/frame.py:2540: SettingWithCopyWarning: \n",
      "A value is trying to be set on a copy of a slice from a DataFrame.\n",
      "Try using .loc[row_indexer,col_indexer] = value instead\n",
      "\n",
      "See the caveats in the documentation: http://pandas.pydata.org/pandas-docs/stable/indexing.html#indexing-view-versus-copy\n",
      "  self[k1] = value[k2]\n"
     ]
    }
   ],
   "source": [
    "# df = pd.DataFrame(np.load('TIPI_scored_normed_OCEAN.npy'), columns=['O','C','E','A','N'])\n",
    "cxOCEAS[['O','C','E','A','S']] = normTIPI(cxOCEAS)"
   ]
  },
  {
   "cell_type": "code",
   "execution_count": 2,
   "metadata": {},
   "outputs": [],
   "source": [
    "cxOCEAS['N'] = 0-cxOCEAS['S']\n",
    "df = cxOCEAS.drop(columns=['S'])\n",
    "df.head()"
   ]
  },
  {
   "cell_type": "code",
   "execution_count": 10,
   "metadata": {},
   "outputs": [
    {
     "data": {
      "image/png": "[encoded data removed]",
      "text/plain": [
       "<Figure size 432x288 with 1 Axes>"
      ]
     },
     "metadata": {},
     "output_type": "display_data"
    }
   ],
   "source": [
    "i=0\n",
    "colors = ['r','y','b','g','c']\n",
    "for trait in ['N','E','O','A','C']:\n",
    "    plt.plot(cxOCEAS[trait].value_counts().sort_index(),color=colors[i])\n",
    "    i+=1"
   ]
  },
  {
   "cell_type": "markdown",
   "metadata": {},
   "source": [
    "Code traits into low mid high based on standard deviation"
   ]
  },
  {
   "cell_type": "code",
   "execution_count": 29,
   "metadata": {},
   "outputs": [
    {
     "name": "stderr",
     "output_type": "stream",
     "text": [
      "/usr/local/lib/python3.6/site-packages/pandas/core/indexing.py:194: SettingWithCopyWarning: \n",
      "A value is trying to be set on a copy of a slice from a DataFrame\n",
      "\n",
      "See the caveats in the documentation: http://pandas.pydata.org/pandas-docs/stable/indexing.html#indexing-view-versus-copy\n",
      "  self._setitem_with_indexer(indexer, value)\n"
     ]
    },
    {
     "data": {
      "text/html": [
       "<div>\n",
       "<style scoped>\n",
       "    .dataframe tbody tr th:only-of-type {\n",
       "        vertical-align: middle;\n",
       "    }\n",
       "\n",
       "    .dataframe tbody tr th {\n",
       "        vertical-align: top;\n",
       "    }\n",
       "\n",
       "    .dataframe thead th {\n",
       "        text-align: right;\n",
       "    }\n",
       "</style>\n",
       "<table border=\"1\" class=\"dataframe\">\n",
       "  <thead>\n",
       "    <tr style=\"text-align: right;\">\n",
       "      <th></th>\n",
       "      <th>Chronotype</th>\n",
       "      <th>N</th>\n",
       "      <th>E</th>\n",
       "      <th>O</th>\n",
       "      <th>A</th>\n",
       "      <th>C</th>\n",
       "      <th>N_strat</th>\n",
       "      <th>E_strat</th>\n",
       "      <th>O_strat</th>\n",
       "      <th>A_strat</th>\n",
       "      <th>C_strat</th>\n",
       "    </tr>\n",
       "  </thead>\n",
       "  <tbody>\n",
       "    <tr>\n",
       "      <th>0</th>\n",
       "      <td>Strong owl</td>\n",
       "      <td>0.242004</td>\n",
       "      <td>0.347041</td>\n",
       "      <td>0.871115</td>\n",
       "      <td>-0.578990</td>\n",
       "      <td>-1.163156</td>\n",
       "      <td>2</td>\n",
       "      <td>2</td>\n",
       "      <td>2</td>\n",
       "      <td>2</td>\n",
       "      <td>1</td>\n",
       "    </tr>\n",
       "    <tr>\n",
       "      <th>1</th>\n",
       "      <td>Strong owl</td>\n",
       "      <td>-0.096085</td>\n",
       "      <td>0.662877</td>\n",
       "      <td>0.432133</td>\n",
       "      <td>-0.578990</td>\n",
       "      <td>1.664499</td>\n",
       "      <td>2</td>\n",
       "      <td>2</td>\n",
       "      <td>2</td>\n",
       "      <td>2</td>\n",
       "      <td>3</td>\n",
       "    </tr>\n",
       "    <tr>\n",
       "      <th>2</th>\n",
       "      <td>Owl</td>\n",
       "      <td>0.242004</td>\n",
       "      <td>0.031205</td>\n",
       "      <td>-0.884811</td>\n",
       "      <td>-0.986787</td>\n",
       "      <td>-0.456242</td>\n",
       "      <td>2</td>\n",
       "      <td>2</td>\n",
       "      <td>2</td>\n",
       "      <td>2</td>\n",
       "      <td>2</td>\n",
       "    </tr>\n",
       "    <tr>\n",
       "      <th>3</th>\n",
       "      <td>Lark</td>\n",
       "      <td>-1.110352</td>\n",
       "      <td>0.031205</td>\n",
       "      <td>-0.445830</td>\n",
       "      <td>-1.802382</td>\n",
       "      <td>0.957585</td>\n",
       "      <td>1</td>\n",
       "      <td>2</td>\n",
       "      <td>2</td>\n",
       "      <td>1</td>\n",
       "      <td>2</td>\n",
       "    </tr>\n",
       "    <tr>\n",
       "      <th>4</th>\n",
       "      <td>Lark</td>\n",
       "      <td>0.242004</td>\n",
       "      <td>-0.916303</td>\n",
       "      <td>-1.762774</td>\n",
       "      <td>0.644401</td>\n",
       "      <td>-0.102785</td>\n",
       "      <td>2</td>\n",
       "      <td>2</td>\n",
       "      <td>1</td>\n",
       "      <td>2</td>\n",
       "      <td>2</td>\n",
       "    </tr>\n",
       "  </tbody>\n",
       "</table>\n",
       "</div>"
      ],
      "text/plain": [
       "   Chronotype         N         E         O         A         C  N_strat  \\\n",
       "0  Strong owl  0.242004  0.347041  0.871115 -0.578990 -1.163156        2   \n",
       "1  Strong owl -0.096085  0.662877  0.432133 -0.578990  1.664499        2   \n",
       "2         Owl  0.242004  0.031205 -0.884811 -0.986787 -0.456242        2   \n",
       "3        Lark -1.110352  0.031205 -0.445830 -1.802382  0.957585        1   \n",
       "4        Lark  0.242004 -0.916303 -1.762774  0.644401 -0.102785        2   \n",
       "\n",
       "   E_strat  O_strat  A_strat  C_strat  \n",
       "0        2        2        2        1  \n",
       "1        2        2        2        3  \n",
       "2        2        2        2        2  \n",
       "3        2        2        1        2  \n",
       "4        2        1        2        2  "
      ]
     },
     "execution_count": 29,
     "metadata": {},
     "output_type": "execute_result"
    }
   ],
   "source": [
    "# df = df.drop(columns=['N_strat','E_strat','O_strat','A_strat','C_strat'])\n",
    "df = cxOCEAS[['Chronotype','N','E','O','A','C']].dropna()\n",
    "for trait in ['N','E','O','A','C']:\n",
    "    df['%s_strat'%trait]=0\n",
    "    df['%s_strat'%trait].loc[df[trait]<-1] = 1\n",
    "    df['%s_strat'%trait].loc[df[trait]>1] = 3\n",
    "    df['%s_strat'%trait].loc[df['%s_strat'%trait]==0] = 2\n",
    "df.head()"
   ]
  },
  {
   "cell_type": "code",
   "execution_count": 71,
   "metadata": {},
   "outputs": [
    {
     "data": {
      "text/html": [
       "<div>\n",
       "<style scoped>\n",
       "    .dataframe tbody tr th:only-of-type {\n",
       "        vertical-align: middle;\n",
       "    }\n",
       "\n",
       "    .dataframe tbody tr th {\n",
       "        vertical-align: top;\n",
       "    }\n",
       "\n",
       "    .dataframe thead th {\n",
       "        text-align: right;\n",
       "    }\n",
       "</style>\n",
       "<table border=\"1\" class=\"dataframe\">\n",
       "  <thead>\n",
       "    <tr style=\"text-align: right;\">\n",
       "      <th></th>\n",
       "      <th>N</th>\n",
       "      <th>E</th>\n",
       "      <th>O</th>\n",
       "      <th>A</th>\n",
       "      <th>C</th>\n",
       "      <th>N_strat</th>\n",
       "      <th>E_strat</th>\n",
       "      <th>O_strat</th>\n",
       "      <th>A_strat</th>\n",
       "      <th>C_strat</th>\n",
       "    </tr>\n",
       "  </thead>\n",
       "  <tbody>\n",
       "    <tr>\n",
       "      <th>0</th>\n",
       "      <td>0.242004</td>\n",
       "      <td>0.347041</td>\n",
       "      <td>0.871115</td>\n",
       "      <td>-0.578990</td>\n",
       "      <td>-1.163156</td>\n",
       "      <td>2</td>\n",
       "      <td>2</td>\n",
       "      <td>2</td>\n",
       "      <td>2</td>\n",
       "      <td>1</td>\n",
       "    </tr>\n",
       "    <tr>\n",
       "      <th>1</th>\n",
       "      <td>-0.096085</td>\n",
       "      <td>0.662877</td>\n",
       "      <td>0.432133</td>\n",
       "      <td>-0.578990</td>\n",
       "      <td>1.664499</td>\n",
       "      <td>2</td>\n",
       "      <td>2</td>\n",
       "      <td>2</td>\n",
       "      <td>2</td>\n",
       "      <td>3</td>\n",
       "    </tr>\n",
       "    <tr>\n",
       "      <th>2</th>\n",
       "      <td>0.242004</td>\n",
       "      <td>0.031205</td>\n",
       "      <td>-0.884811</td>\n",
       "      <td>-0.986787</td>\n",
       "      <td>-0.456242</td>\n",
       "      <td>2</td>\n",
       "      <td>2</td>\n",
       "      <td>2</td>\n",
       "      <td>2</td>\n",
       "      <td>2</td>\n",
       "    </tr>\n",
       "    <tr>\n",
       "      <th>3</th>\n",
       "      <td>-1.110352</td>\n",
       "      <td>0.031205</td>\n",
       "      <td>-0.445830</td>\n",
       "      <td>-1.802382</td>\n",
       "      <td>0.957585</td>\n",
       "      <td>1</td>\n",
       "      <td>2</td>\n",
       "      <td>2</td>\n",
       "      <td>1</td>\n",
       "      <td>2</td>\n",
       "    </tr>\n",
       "    <tr>\n",
       "      <th>4</th>\n",
       "      <td>0.242004</td>\n",
       "      <td>-0.916303</td>\n",
       "      <td>-1.762774</td>\n",
       "      <td>0.644401</td>\n",
       "      <td>-0.102785</td>\n",
       "      <td>2</td>\n",
       "      <td>2</td>\n",
       "      <td>1</td>\n",
       "      <td>2</td>\n",
       "      <td>2</td>\n",
       "    </tr>\n",
       "  </tbody>\n",
       "</table>\n",
       "</div>"
      ],
      "text/plain": [
       "          N         E         O         A         C  N_strat  E_strat  \\\n",
       "0  0.242004  0.347041  0.871115 -0.578990 -1.163156        2        2   \n",
       "1 -0.096085  0.662877  0.432133 -0.578990  1.664499        2        2   \n",
       "2  0.242004  0.031205 -0.884811 -0.986787 -0.456242        2        2   \n",
       "3 -1.110352  0.031205 -0.445830 -1.802382  0.957585        1        2   \n",
       "4  0.242004 -0.916303 -1.762774  0.644401 -0.102785        2        2   \n",
       "\n",
       "   O_strat  A_strat  C_strat  \n",
       "0        2        2        1  \n",
       "1        2        2        3  \n",
       "2        2        2        2  \n",
       "3        2        1        2  \n",
       "4        1        2        2  "
      ]
     },
     "execution_count": 71,
     "metadata": {},
     "output_type": "execute_result"
    }
   ],
   "source": [
    "df.head()"
   ]
  },
  {
   "cell_type": "code",
   "execution_count": 30,
   "metadata": {},
   "outputs": [
    {
     "data": {
      "image/png": "[encoded data removed]",
      "text/plain": [
       "<Figure size 432x288 with 1 Axes>"
      ]
     },
     "metadata": {},
     "output_type": "display_data"
    },
    {
     "data": {
      "image/png": "[encoded data removed]",
      "text/plain": [
       "<Figure size 432x288 with 1 Axes>"
      ]
     },
     "metadata": {},
     "output_type": "display_data"
    },
    {
     "data": {
      "image/png": "[encoded data removed]",
      "text/plain": [
       "<Figure size 432x288 with 1 Axes>"
      ]
     },
     "metadata": {},
     "output_type": "display_data"
    },
    {
     "data": {
      "image/png": "[encoded data removed]",
      "text/plain": [
       "<Figure size 432x288 with 1 Axes>"
      ]
     },
     "metadata": {},
     "output_type": "display_data"
    },
    {
     "data": {
      "image/png": "[encoded data removed]",
      "text/plain": [
       "<Figure size 432x288 with 1 Axes>"
      ]
     },
     "metadata": {},
     "output_type": "display_data"
    }
   ],
   "source": [
    "i=0\n",
    "colors = ['r','y','b','g','c']\n",
    "for trait in ['N_strat','E_strat','O_strat','A_strat','C_strat']:\n",
    "    plt.figure(i)\n",
    "    plt.title(trait)\n",
    "    plt.bar(x=['low','mid','high'],height=df[trait].value_counts().sort_index(),color=colors[i])\n",
    "    i+=1"
   ]
  },
  {
   "cell_type": "markdown",
   "metadata": {},
   "source": [
    "Bisect traits along the mean a la MBTI"
   ]
  },
  {
   "cell_type": "code",
   "execution_count": null,
   "metadata": {},
   "outputs": [],
   "source": []
  },
  {
   "cell_type": "code",
   "execution_count": 31,
   "metadata": {},
   "outputs": [
    {
     "name": "stderr",
     "output_type": "stream",
     "text": [
      "/usr/local/lib/python3.6/site-packages/pandas/core/indexing.py:194: SettingWithCopyWarning: \n",
      "A value is trying to be set on a copy of a slice from a DataFrame\n",
      "\n",
      "See the caveats in the documentation: http://pandas.pydata.org/pandas-docs/stable/indexing.html#indexing-view-versus-copy\n",
      "  self._setitem_with_indexer(indexer, value)\n"
     ]
    },
    {
     "data": {
      "text/html": [
       "<div>\n",
       "<style scoped>\n",
       "    .dataframe tbody tr th:only-of-type {\n",
       "        vertical-align: middle;\n",
       "    }\n",
       "\n",
       "    .dataframe tbody tr th {\n",
       "        vertical-align: top;\n",
       "    }\n",
       "\n",
       "    .dataframe thead th {\n",
       "        text-align: right;\n",
       "    }\n",
       "</style>\n",
       "<table border=\"1\" class=\"dataframe\">\n",
       "  <thead>\n",
       "    <tr style=\"text-align: right;\">\n",
       "      <th></th>\n",
       "      <th>Chronotype</th>\n",
       "      <th>N</th>\n",
       "      <th>E</th>\n",
       "      <th>O</th>\n",
       "      <th>A</th>\n",
       "      <th>C</th>\n",
       "      <th>N_strat</th>\n",
       "      <th>E_strat</th>\n",
       "      <th>O_strat</th>\n",
       "      <th>A_strat</th>\n",
       "      <th>C_strat</th>\n",
       "      <th>N_bistrat</th>\n",
       "      <th>E_bistrat</th>\n",
       "      <th>O_bistrat</th>\n",
       "      <th>A_bistrat</th>\n",
       "      <th>C_bistrat</th>\n",
       "    </tr>\n",
       "  </thead>\n",
       "  <tbody>\n",
       "    <tr>\n",
       "      <th>0</th>\n",
       "      <td>Strong owl</td>\n",
       "      <td>0.242004</td>\n",
       "      <td>0.347041</td>\n",
       "      <td>0.871115</td>\n",
       "      <td>-0.578990</td>\n",
       "      <td>-1.163156</td>\n",
       "      <td>2</td>\n",
       "      <td>2</td>\n",
       "      <td>2</td>\n",
       "      <td>2</td>\n",
       "      <td>1</td>\n",
       "      <td>3</td>\n",
       "      <td>3</td>\n",
       "      <td>3</td>\n",
       "      <td>1</td>\n",
       "      <td>1</td>\n",
       "    </tr>\n",
       "    <tr>\n",
       "      <th>1</th>\n",
       "      <td>Strong owl</td>\n",
       "      <td>-0.096085</td>\n",
       "      <td>0.662877</td>\n",
       "      <td>0.432133</td>\n",
       "      <td>-0.578990</td>\n",
       "      <td>1.664499</td>\n",
       "      <td>2</td>\n",
       "      <td>2</td>\n",
       "      <td>2</td>\n",
       "      <td>2</td>\n",
       "      <td>3</td>\n",
       "      <td>1</td>\n",
       "      <td>3</td>\n",
       "      <td>3</td>\n",
       "      <td>1</td>\n",
       "      <td>3</td>\n",
       "    </tr>\n",
       "    <tr>\n",
       "      <th>2</th>\n",
       "      <td>Owl</td>\n",
       "      <td>0.242004</td>\n",
       "      <td>0.031205</td>\n",
       "      <td>-0.884811</td>\n",
       "      <td>-0.986787</td>\n",
       "      <td>-0.456242</td>\n",
       "      <td>2</td>\n",
       "      <td>2</td>\n",
       "      <td>2</td>\n",
       "      <td>2</td>\n",
       "      <td>2</td>\n",
       "      <td>3</td>\n",
       "      <td>3</td>\n",
       "      <td>1</td>\n",
       "      <td>1</td>\n",
       "      <td>1</td>\n",
       "    </tr>\n",
       "    <tr>\n",
       "      <th>3</th>\n",
       "      <td>Lark</td>\n",
       "      <td>-1.110352</td>\n",
       "      <td>0.031205</td>\n",
       "      <td>-0.445830</td>\n",
       "      <td>-1.802382</td>\n",
       "      <td>0.957585</td>\n",
       "      <td>1</td>\n",
       "      <td>2</td>\n",
       "      <td>2</td>\n",
       "      <td>1</td>\n",
       "      <td>2</td>\n",
       "      <td>1</td>\n",
       "      <td>3</td>\n",
       "      <td>1</td>\n",
       "      <td>1</td>\n",
       "      <td>3</td>\n",
       "    </tr>\n",
       "    <tr>\n",
       "      <th>4</th>\n",
       "      <td>Lark</td>\n",
       "      <td>0.242004</td>\n",
       "      <td>-0.916303</td>\n",
       "      <td>-1.762774</td>\n",
       "      <td>0.644401</td>\n",
       "      <td>-0.102785</td>\n",
       "      <td>2</td>\n",
       "      <td>2</td>\n",
       "      <td>1</td>\n",
       "      <td>2</td>\n",
       "      <td>2</td>\n",
       "      <td>3</td>\n",
       "      <td>1</td>\n",
       "      <td>1</td>\n",
       "      <td>3</td>\n",
       "      <td>1</td>\n",
       "    </tr>\n",
       "  </tbody>\n",
       "</table>\n",
       "</div>"
      ],
      "text/plain": [
       "   Chronotype         N         E         O         A         C  N_strat  \\\n",
       "0  Strong owl  0.242004  0.347041  0.871115 -0.578990 -1.163156        2   \n",
       "1  Strong owl -0.096085  0.662877  0.432133 -0.578990  1.664499        2   \n",
       "2         Owl  0.242004  0.031205 -0.884811 -0.986787 -0.456242        2   \n",
       "3        Lark -1.110352  0.031205 -0.445830 -1.802382  0.957585        1   \n",
       "4        Lark  0.242004 -0.916303 -1.762774  0.644401 -0.102785        2   \n",
       "\n",
       "   E_strat  O_strat  A_strat  C_strat  N_bistrat  E_bistrat  O_bistrat  \\\n",
       "0        2        2        2        1          3          3          3   \n",
       "1        2        2        2        3          1          3          3   \n",
       "2        2        2        2        2          3          3          1   \n",
       "3        2        2        1        2          1          3          1   \n",
       "4        2        1        2        2          3          1          1   \n",
       "\n",
       "   A_bistrat  C_bistrat  \n",
       "0          1          1  \n",
       "1          1          3  \n",
       "2          1          1  \n",
       "3          1          3  \n",
       "4          3          1  "
      ]
     },
     "execution_count": 31,
     "metadata": {},
     "output_type": "execute_result"
    }
   ],
   "source": [
    "# df = df.drop(columns=['N_bistrat','E_bistrat','O_bistrat','A_bistrat','C_bistrat'])\n",
    "for trait in ['N','E','O','A','C']:\n",
    "    df['%s_bistrat'%trait]=0\n",
    "    df['%s_bistrat'%trait].loc[df[trait]<0] = 1\n",
    "    df['%s_bistrat'%trait].loc[df[trait]>0] = 3\n",
    "df.head()"
   ]
  },
  {
   "cell_type": "code",
   "execution_count": 32,
   "metadata": {},
   "outputs": [
    {
     "data": {
      "text/html": [
       "<div>\n",
       "<style scoped>\n",
       "    .dataframe tbody tr th:only-of-type {\n",
       "        vertical-align: middle;\n",
       "    }\n",
       "\n",
       "    .dataframe tbody tr th {\n",
       "        vertical-align: top;\n",
       "    }\n",
       "\n",
       "    .dataframe thead th {\n",
       "        text-align: right;\n",
       "    }\n",
       "</style>\n",
       "<table border=\"1\" class=\"dataframe\">\n",
       "  <thead>\n",
       "    <tr style=\"text-align: right;\">\n",
       "      <th></th>\n",
       "      <th>Chronotype</th>\n",
       "      <th>N</th>\n",
       "      <th>E</th>\n",
       "      <th>O</th>\n",
       "      <th>A</th>\n",
       "      <th>C</th>\n",
       "      <th>N_strat</th>\n",
       "      <th>E_strat</th>\n",
       "      <th>O_strat</th>\n",
       "      <th>A_strat</th>\n",
       "      <th>C_strat</th>\n",
       "      <th>N_bistrat</th>\n",
       "      <th>E_bistrat</th>\n",
       "      <th>O_bistrat</th>\n",
       "      <th>A_bistrat</th>\n",
       "      <th>C_bistrat</th>\n",
       "    </tr>\n",
       "  </thead>\n",
       "  <tbody>\n",
       "  </tbody>\n",
       "</table>\n",
       "</div>"
      ],
      "text/plain": [
       "Empty DataFrame\n",
       "Columns: [Chronotype, N, E, O, A, C, N_strat, E_strat, O_strat, A_strat, C_strat, N_bistrat, E_bistrat, O_bistrat, A_bistrat, C_bistrat]\n",
       "Index: []"
      ]
     },
     "execution_count": 32,
     "metadata": {},
     "output_type": "execute_result"
    }
   ],
   "source": [
    "df.loc[df['N_bistrat']==0]"
   ]
  },
  {
   "cell_type": "code",
   "execution_count": 33,
   "metadata": {},
   "outputs": [
    {
     "data": {
      "image/png": "[encoded data removed]",
      "text/plain": [
       "<Figure size 432x288 with 1 Axes>"
      ]
     },
     "metadata": {},
     "output_type": "display_data"
    },
    {
     "data": {
      "image/png": "[encoded data removed]",
      "text/plain": [
       "<Figure size 432x288 with 1 Axes>"
      ]
     },
     "metadata": {},
     "output_type": "display_data"
    },
    {
     "data": {
      "image/png": "[encoded data removed]",
      "text/plain": [
       "<Figure size 432x288 with 1 Axes>"
      ]
     },
     "metadata": {},
     "output_type": "display_data"
    },
    {
     "data": {
      "image/png": "[encoded data removed]",
      "text/plain": [
       "<Figure size 432x288 with 1 Axes>"
      ]
     },
     "metadata": {},
     "output_type": "display_data"
    },
    {
     "data": {
      "image/png": "[encoded data removed]",
      "text/plain": [
       "<Figure size 432x288 with 1 Axes>"
      ]
     },
     "metadata": {},
     "output_type": "display_data"
    }
   ],
   "source": [
    "i=0\n",
    "colors = ['r','y','b','g','c']\n",
    "for trait in ['N_bistrat','E_bistrat','O_bistrat','A_bistrat','C_bistrat']:\n",
    "    plt.figure(i)\n",
    "    plt.title(trait)\n",
    "    plt.bar(x=['low','high'],height=df[trait].value_counts().sort_index(),color=colors[i])\n",
    "    i+=1"
   ]
  },
  {
   "cell_type": "code",
   "execution_count": 34,
   "metadata": {},
   "outputs": [
    {
     "data": {
      "text/html": [
       "<div>\n",
       "<style scoped>\n",
       "    .dataframe tbody tr th:only-of-type {\n",
       "        vertical-align: middle;\n",
       "    }\n",
       "\n",
       "    .dataframe tbody tr th {\n",
       "        vertical-align: top;\n",
       "    }\n",
       "\n",
       "    .dataframe thead th {\n",
       "        text-align: right;\n",
       "    }\n",
       "</style>\n",
       "<table border=\"1\" class=\"dataframe\">\n",
       "  <thead>\n",
       "    <tr style=\"text-align: right;\">\n",
       "      <th></th>\n",
       "      <th>Chronotype</th>\n",
       "      <th>N</th>\n",
       "      <th>E</th>\n",
       "      <th>O</th>\n",
       "      <th>A</th>\n",
       "      <th>C</th>\n",
       "      <th>N_strat</th>\n",
       "      <th>E_strat</th>\n",
       "      <th>O_strat</th>\n",
       "      <th>A_strat</th>\n",
       "      <th>C_strat</th>\n",
       "      <th>N_bistrat</th>\n",
       "      <th>E_bistrat</th>\n",
       "      <th>O_bistrat</th>\n",
       "      <th>A_bistrat</th>\n",
       "      <th>C_bistrat</th>\n",
       "    </tr>\n",
       "  </thead>\n",
       "  <tbody>\n",
       "    <tr>\n",
       "      <th>16696</th>\n",
       "      <td>Owl</td>\n",
       "      <td>-0.434174</td>\n",
       "      <td>1.294549</td>\n",
       "      <td>0.432133</td>\n",
       "      <td>-0.171193</td>\n",
       "      <td>-0.809699</td>\n",
       "      <td>2</td>\n",
       "      <td>3</td>\n",
       "      <td>2</td>\n",
       "      <td>2</td>\n",
       "      <td>2</td>\n",
       "      <td>1</td>\n",
       "      <td>3</td>\n",
       "      <td>3</td>\n",
       "      <td>1</td>\n",
       "      <td>1</td>\n",
       "    </tr>\n",
       "    <tr>\n",
       "      <th>16697</th>\n",
       "      <td>Lark</td>\n",
       "      <td>-0.772263</td>\n",
       "      <td>0.347041</td>\n",
       "      <td>-0.884811</td>\n",
       "      <td>1.052198</td>\n",
       "      <td>0.250672</td>\n",
       "      <td>2</td>\n",
       "      <td>2</td>\n",
       "      <td>2</td>\n",
       "      <td>3</td>\n",
       "      <td>2</td>\n",
       "      <td>1</td>\n",
       "      <td>3</td>\n",
       "      <td>1</td>\n",
       "      <td>3</td>\n",
       "      <td>3</td>\n",
       "    </tr>\n",
       "    <tr>\n",
       "      <th>16698</th>\n",
       "      <td>Owl</td>\n",
       "      <td>-1.110352</td>\n",
       "      <td>-1.863812</td>\n",
       "      <td>-0.006848</td>\n",
       "      <td>0.644401</td>\n",
       "      <td>1.664499</td>\n",
       "      <td>1</td>\n",
       "      <td>1</td>\n",
       "      <td>2</td>\n",
       "      <td>2</td>\n",
       "      <td>3</td>\n",
       "      <td>1</td>\n",
       "      <td>1</td>\n",
       "      <td>1</td>\n",
       "      <td>3</td>\n",
       "      <td>3</td>\n",
       "    </tr>\n",
       "    <tr>\n",
       "      <th>16699</th>\n",
       "      <td>Owl</td>\n",
       "      <td>2.270539</td>\n",
       "      <td>-0.916303</td>\n",
       "      <td>-0.445830</td>\n",
       "      <td>-0.171193</td>\n",
       "      <td>-0.456242</td>\n",
       "      <td>3</td>\n",
       "      <td>2</td>\n",
       "      <td>2</td>\n",
       "      <td>2</td>\n",
       "      <td>2</td>\n",
       "      <td>3</td>\n",
       "      <td>1</td>\n",
       "      <td>1</td>\n",
       "      <td>1</td>\n",
       "      <td>1</td>\n",
       "    </tr>\n",
       "    <tr>\n",
       "      <th>16700</th>\n",
       "      <td>Lark</td>\n",
       "      <td>1.256272</td>\n",
       "      <td>0.031205</td>\n",
       "      <td>-0.884811</td>\n",
       "      <td>-2.210179</td>\n",
       "      <td>-0.456242</td>\n",
       "      <td>3</td>\n",
       "      <td>2</td>\n",
       "      <td>2</td>\n",
       "      <td>1</td>\n",
       "      <td>2</td>\n",
       "      <td>3</td>\n",
       "      <td>3</td>\n",
       "      <td>1</td>\n",
       "      <td>1</td>\n",
       "      <td>1</td>\n",
       "    </tr>\n",
       "  </tbody>\n",
       "</table>\n",
       "</div>"
      ],
      "text/plain": [
       "      Chronotype         N         E         O         A         C  N_strat  \\\n",
       "16696        Owl -0.434174  1.294549  0.432133 -0.171193 -0.809699        2   \n",
       "16697       Lark -0.772263  0.347041 -0.884811  1.052198  0.250672        2   \n",
       "16698        Owl -1.110352 -1.863812 -0.006848  0.644401  1.664499        1   \n",
       "16699        Owl  2.270539 -0.916303 -0.445830 -0.171193 -0.456242        3   \n",
       "16700       Lark  1.256272  0.031205 -0.884811 -2.210179 -0.456242        3   \n",
       "\n",
       "       E_strat  O_strat  A_strat  C_strat  N_bistrat  E_bistrat  O_bistrat  \\\n",
       "16696        3        2        2        2          1          3          3   \n",
       "16697        2        2        3        2          1          3          1   \n",
       "16698        1        2        2        3          1          1          1   \n",
       "16699        2        2        2        2          3          1          1   \n",
       "16700        2        2        1        2          3          3          1   \n",
       "\n",
       "       A_bistrat  C_bistrat  \n",
       "16696          1          1  \n",
       "16697          3          3  \n",
       "16698          3          3  \n",
       "16699          1          1  \n",
       "16700          1          1  "
      ]
     },
     "execution_count": 34,
     "metadata": {},
     "output_type": "execute_result"
    }
   ],
   "source": [
    "df.tail()"
   ]
  },
  {
   "cell_type": "markdown",
   "metadata": {},
   "source": [
    "## Chi square tests on stratified data"
   ]
  },
  {
   "cell_type": "code",
   "execution_count": 35,
   "metadata": {},
   "outputs": [
    {
     "data": {
      "text/html": [
       "<div>\n",
       "<style scoped>\n",
       "    .dataframe tbody tr th:only-of-type {\n",
       "        vertical-align: middle;\n",
       "    }\n",
       "\n",
       "    .dataframe tbody tr th {\n",
       "        vertical-align: top;\n",
       "    }\n",
       "\n",
       "    .dataframe thead th {\n",
       "        text-align: right;\n",
       "    }\n",
       "</style>\n",
       "<table border=\"1\" class=\"dataframe\">\n",
       "  <thead>\n",
       "    <tr style=\"text-align: right;\">\n",
       "      <th>Chronotype</th>\n",
       "      <th>Lark</th>\n",
       "      <th>Owl</th>\n",
       "      <th>Strong lark</th>\n",
       "      <th>Strong owl</th>\n",
       "    </tr>\n",
       "    <tr>\n",
       "      <th>C_strat</th>\n",
       "      <th></th>\n",
       "      <th></th>\n",
       "      <th></th>\n",
       "      <th></th>\n",
       "    </tr>\n",
       "  </thead>\n",
       "  <tbody>\n",
       "    <tr>\n",
       "      <th>1</th>\n",
       "      <td>309</td>\n",
       "      <td>805</td>\n",
       "      <td>86</td>\n",
       "      <td>769</td>\n",
       "    </tr>\n",
       "    <tr>\n",
       "      <th>2</th>\n",
       "      <td>3033</td>\n",
       "      <td>4329</td>\n",
       "      <td>741</td>\n",
       "      <td>2440</td>\n",
       "    </tr>\n",
       "    <tr>\n",
       "      <th>3</th>\n",
       "      <td>1111</td>\n",
       "      <td>998</td>\n",
       "      <td>441</td>\n",
       "      <td>477</td>\n",
       "    </tr>\n",
       "  </tbody>\n",
       "</table>\n",
       "</div>"
      ],
      "text/plain": [
       "Chronotype  Lark   Owl  Strong lark  Strong owl\n",
       "C_strat                                        \n",
       "1            309   805           86         769\n",
       "2           3033  4329          741        2440\n",
       "3           1111   998          441         477"
      ]
     },
     "execution_count": 35,
     "metadata": {},
     "output_type": "execute_result"
    }
   ],
   "source": [
    "pd.crosstab(index=df['C_strat'],columns=df['Chronotype'])"
   ]
  },
  {
   "cell_type": "code",
   "execution_count": 36,
   "metadata": {},
   "outputs": [
    {
     "data": {
      "text/plain": [
       "array([[ 309,  805,   86,  769],\n",
       "       [3033, 4329,  741, 2440],\n",
       "       [1111,  998,  441,  477]])"
      ]
     },
     "execution_count": 36,
     "metadata": {},
     "output_type": "execute_result"
    }
   ],
   "source": [
    "x = pd.crosstab(index=df['C_strat'],columns=df['Chronotype'])\n",
    "x.values"
   ]
  },
  {
   "cell_type": "code",
   "execution_count": 37,
   "metadata": {},
   "outputs": [
    {
     "data": {
      "text/plain": [
       "(705.2545580088133,\n",
       " 4.487283988365978e-149,\n",
       " 6,\n",
       " array([[ 564.25490701,  777.00675719,  160.67263016,  467.06570564],\n",
       "        [3021.2998906 , 4160.47853787,  860.32074136, 2500.90083017],\n",
       "        [ 867.44520239, 1194.51470494,  247.00662848,  718.03346419]]))"
      ]
     },
     "execution_count": 37,
     "metadata": {},
     "output_type": "execute_result"
    }
   ],
   "source": [
    "stats.chi2_contingency(x.values)"
   ]
  },
  {
   "cell_type": "code",
   "execution_count": 38,
   "metadata": {},
   "outputs": [
    {
     "data": {
      "text/plain": [
       "(568.0008088295247,\n",
       " 8.711012477230626e-123,\n",
       " 3,\n",
       " array([[1878.46161272, 2586.73402407,  534.89542442, 1554.9089388 ],\n",
       "        [2574.53838728, 3545.26597593,  733.10457558, 2131.0910612 ]]))"
      ]
     },
     "execution_count": 38,
     "metadata": {},
     "output_type": "execute_result"
    }
   ],
   "source": [
    "x = pd.crosstab(index=df['C_bistrat'],columns=df['Chronotype'])\n",
    "stats.chi2_contingency(x.values)"
   ]
  },
  {
   "cell_type": "code",
   "execution_count": null,
   "metadata": {},
   "outputs": [],
   "source": []
  }
 ],
 "metadata": {
  "kernelspec": {
   "display_name": "Python 3",
   "language": "python",
   "name": "python3"
  },
  "language_info": {
   "codemirror_mode": {
    "name": "ipython",
    "version": 3
   },
   "file_extension": ".py",
   "mimetype": "text/x-python",
   "name": "python",
   "nbconvert_exporter": "python",
   "pygments_lexer": "ipython3",
   "version": "3.6.4"
  }
 },
 "nbformat": 4,
 "nbformat_minor": 2
}
