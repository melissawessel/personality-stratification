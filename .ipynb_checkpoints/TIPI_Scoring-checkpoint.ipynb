{
 "cells": [
  {
   "cell_type": "markdown",
   "metadata": {},
   "source": [
    "# TIPI Scoring"
   ]
  },
  {
   "cell_type": "code",
   "execution_count": 23,
   "metadata": {},
   "outputs": [],
   "source": [
    "import os, sys\n",
    "import pandas as pd\n",
    "import numpy as np\n",
    "from scipy import stats\n",
    "import pylab as plt"
   ]
  },
  {
   "cell_type": "code",
   "execution_count": 24,
   "metadata": {},
   "outputs": [],
   "source": [
    "from analysis.CodingScoring import scoreTIPI, normTIPI"
   ]
  },
  {
   "cell_type": "code",
   "execution_count": null,
   "metadata": {},
   "outputs": [],
   "source": []
  },
  {
   "cell_type": "markdown",
   "metadata": {},
   "source": [
    "Import data\n"
   ]
  },
  {
   "cell_type": "code",
   "execution_count": 4,
   "metadata": {},
   "outputs": [],
   "source": [
    "questions = pd.read_csv('dataHeadings.csv')\n",
    "dataRaw = pd.read_csv('dataRaw.csv', names=questions.QuestionCode)"
   ]
  },
  {
   "cell_type": "markdown",
   "metadata": {},
   "source": [
    "## Get TIPI scores"
   ]
  },
  {
   "cell_type": "markdown",
   "metadata": {},
   "source": [
    "Code"
   ]
  },
  {
   "cell_type": "code",
   "execution_count": 5,
   "metadata": {},
   "outputs": [],
   "source": [
    "dataTIPIRaw = dataRaw[['E+','A-','C+','S-','O+','E-','A+','C-','S+','O-']].dropna()\n",
    "\n",
    "dataTIPI = dataTIPIRaw.replace(['Disagree strongly','Disagree moderately','Disagree slightly',\n",
    "                                'Neither agree nor disagree','Agree slightly','Agree moderately','Agree strongly'],\n",
    "                               [1,2,3,4,5,6,7])\n"
   ]
  },
  {
   "cell_type": "markdown",
   "metadata": {},
   "source": [
    "Reverse code"
   ]
  },
  {
   "cell_type": "code",
   "execution_count": 6,
   "metadata": {},
   "outputs": [],
   "source": [
    "dataTIPI[['A-','S-','E-','C-','O-']] = 8-dataTIPI.filter(regex='-')"
   ]
  },
  {
   "cell_type": "markdown",
   "metadata": {},
   "source": [
    "Check"
   ]
  },
  {
   "cell_type": "code",
   "execution_count": 7,
   "metadata": {},
   "outputs": [
    {
     "data": {
      "text/html": [
       "<div>\n",
       "<style scoped>\n",
       "    .dataframe tbody tr th:only-of-type {\n",
       "        vertical-align: middle;\n",
       "    }\n",
       "\n",
       "    .dataframe tbody tr th {\n",
       "        vertical-align: top;\n",
       "    }\n",
       "\n",
       "    .dataframe thead th {\n",
       "        text-align: right;\n",
       "    }\n",
       "</style>\n",
       "<table border=\"1\" class=\"dataframe\">\n",
       "  <thead>\n",
       "    <tr style=\"text-align: right;\">\n",
       "      <th></th>\n",
       "      <th>E+</th>\n",
       "      <th>A-</th>\n",
       "      <th>C+</th>\n",
       "      <th>S-</th>\n",
       "      <th>O+</th>\n",
       "      <th>E-</th>\n",
       "      <th>A+</th>\n",
       "      <th>C-</th>\n",
       "      <th>S+</th>\n",
       "      <th>O-</th>\n",
       "    </tr>\n",
       "  </thead>\n",
       "  <tbody>\n",
       "    <tr>\n",
       "      <th>0</th>\n",
       "      <td>Agree moderately</td>\n",
       "      <td>Agree strongly</td>\n",
       "      <td>Neither agree nor disagree</td>\n",
       "      <td>Agree slightly</td>\n",
       "      <td>Agree strongly</td>\n",
       "      <td>Agree slightly</td>\n",
       "      <td>Agree strongly</td>\n",
       "      <td>Agree moderately</td>\n",
       "      <td>Agree slightly</td>\n",
       "      <td>Disagree moderately</td>\n",
       "    </tr>\n",
       "    <tr>\n",
       "      <th>1</th>\n",
       "      <td>Agree slightly</td>\n",
       "      <td>Agree moderately</td>\n",
       "      <td>Agree strongly</td>\n",
       "      <td>Agree slightly</td>\n",
       "      <td>Agree slightly</td>\n",
       "      <td>Disagree slightly</td>\n",
       "      <td>Agree moderately</td>\n",
       "      <td>Disagree strongly</td>\n",
       "      <td>Agree moderately</td>\n",
       "      <td>Disagree strongly</td>\n",
       "    </tr>\n",
       "    <tr>\n",
       "      <th>2</th>\n",
       "      <td>Agree slightly</td>\n",
       "      <td>Agree moderately</td>\n",
       "      <td>Agree slightly</td>\n",
       "      <td>Agree slightly</td>\n",
       "      <td>Agree moderately</td>\n",
       "      <td>Agree slightly</td>\n",
       "      <td>Agree slightly</td>\n",
       "      <td>Agree slightly</td>\n",
       "      <td>Agree slightly</td>\n",
       "      <td>Agree slightly</td>\n",
       "    </tr>\n",
       "    <tr>\n",
       "      <th>3</th>\n",
       "      <td>Disagree slightly</td>\n",
       "      <td>Agree moderately</td>\n",
       "      <td>Agree moderately</td>\n",
       "      <td>Disagree moderately</td>\n",
       "      <td>Agree moderately</td>\n",
       "      <td>Disagree slightly</td>\n",
       "      <td>Disagree slightly</td>\n",
       "      <td>Disagree moderately</td>\n",
       "      <td>Agree moderately</td>\n",
       "      <td>Neither agree nor disagree</td>\n",
       "    </tr>\n",
       "    <tr>\n",
       "      <th>4</th>\n",
       "      <td>Disagree moderately</td>\n",
       "      <td>Disagree slightly</td>\n",
       "      <td>Agree slightly</td>\n",
       "      <td>Agree slightly</td>\n",
       "      <td>Neither agree nor disagree</td>\n",
       "      <td>Agree slightly</td>\n",
       "      <td>Agree moderately</td>\n",
       "      <td>Neither agree nor disagree</td>\n",
       "      <td>Agree slightly</td>\n",
       "      <td>Agree slightly</td>\n",
       "    </tr>\n",
       "  </tbody>\n",
       "</table>\n",
       "</div>"
      ],
      "text/plain": [
       "                    E+                 A-                          C+  \\\n",
       "0     Agree moderately     Agree strongly  Neither agree nor disagree   \n",
       "1       Agree slightly   Agree moderately              Agree strongly   \n",
       "2       Agree slightly   Agree moderately              Agree slightly   \n",
       "3    Disagree slightly   Agree moderately            Agree moderately   \n",
       "4  Disagree moderately  Disagree slightly              Agree slightly   \n",
       "\n",
       "                    S-                          O+                 E-  \\\n",
       "0       Agree slightly              Agree strongly     Agree slightly   \n",
       "1       Agree slightly              Agree slightly  Disagree slightly   \n",
       "2       Agree slightly            Agree moderately     Agree slightly   \n",
       "3  Disagree moderately            Agree moderately  Disagree slightly   \n",
       "4       Agree slightly  Neither agree nor disagree     Agree slightly   \n",
       "\n",
       "                  A+                          C-                S+  \\\n",
       "0     Agree strongly            Agree moderately    Agree slightly   \n",
       "1   Agree moderately           Disagree strongly  Agree moderately   \n",
       "2     Agree slightly              Agree slightly    Agree slightly   \n",
       "3  Disagree slightly         Disagree moderately  Agree moderately   \n",
       "4   Agree moderately  Neither agree nor disagree    Agree slightly   \n",
       "\n",
       "                           O-  \n",
       "0         Disagree moderately  \n",
       "1           Disagree strongly  \n",
       "2              Agree slightly  \n",
       "3  Neither agree nor disagree  \n",
       "4              Agree slightly  "
      ]
     },
     "execution_count": 7,
     "metadata": {},
     "output_type": "execute_result"
    }
   ],
   "source": [
    "dataTIPIRaw.head()"
   ]
  },
  {
   "cell_type": "code",
   "execution_count": 8,
   "metadata": {},
   "outputs": [
    {
     "data": {
      "text/html": [
       "<div>\n",
       "<style scoped>\n",
       "    .dataframe tbody tr th:only-of-type {\n",
       "        vertical-align: middle;\n",
       "    }\n",
       "\n",
       "    .dataframe tbody tr th {\n",
       "        vertical-align: top;\n",
       "    }\n",
       "\n",
       "    .dataframe thead th {\n",
       "        text-align: right;\n",
       "    }\n",
       "</style>\n",
       "<table border=\"1\" class=\"dataframe\">\n",
       "  <thead>\n",
       "    <tr style=\"text-align: right;\">\n",
       "      <th></th>\n",
       "      <th>E+</th>\n",
       "      <th>A-</th>\n",
       "      <th>C+</th>\n",
       "      <th>S-</th>\n",
       "      <th>O+</th>\n",
       "      <th>E-</th>\n",
       "      <th>A+</th>\n",
       "      <th>C-</th>\n",
       "      <th>S+</th>\n",
       "      <th>O-</th>\n",
       "    </tr>\n",
       "  </thead>\n",
       "  <tbody>\n",
       "    <tr>\n",
       "      <th>0</th>\n",
       "      <td>6</td>\n",
       "      <td>1</td>\n",
       "      <td>4</td>\n",
       "      <td>3</td>\n",
       "      <td>7</td>\n",
       "      <td>3</td>\n",
       "      <td>7</td>\n",
       "      <td>2</td>\n",
       "      <td>5</td>\n",
       "      <td>6</td>\n",
       "    </tr>\n",
       "    <tr>\n",
       "      <th>1</th>\n",
       "      <td>5</td>\n",
       "      <td>2</td>\n",
       "      <td>7</td>\n",
       "      <td>3</td>\n",
       "      <td>5</td>\n",
       "      <td>5</td>\n",
       "      <td>6</td>\n",
       "      <td>7</td>\n",
       "      <td>6</td>\n",
       "      <td>7</td>\n",
       "    </tr>\n",
       "    <tr>\n",
       "      <th>2</th>\n",
       "      <td>5</td>\n",
       "      <td>2</td>\n",
       "      <td>5</td>\n",
       "      <td>3</td>\n",
       "      <td>6</td>\n",
       "      <td>3</td>\n",
       "      <td>5</td>\n",
       "      <td>3</td>\n",
       "      <td>5</td>\n",
       "      <td>3</td>\n",
       "    </tr>\n",
       "    <tr>\n",
       "      <th>3</th>\n",
       "      <td>3</td>\n",
       "      <td>2</td>\n",
       "      <td>6</td>\n",
       "      <td>6</td>\n",
       "      <td>6</td>\n",
       "      <td>5</td>\n",
       "      <td>3</td>\n",
       "      <td>6</td>\n",
       "      <td>6</td>\n",
       "      <td>4</td>\n",
       "    </tr>\n",
       "    <tr>\n",
       "      <th>4</th>\n",
       "      <td>2</td>\n",
       "      <td>5</td>\n",
       "      <td>5</td>\n",
       "      <td>3</td>\n",
       "      <td>4</td>\n",
       "      <td>3</td>\n",
       "      <td>6</td>\n",
       "      <td>4</td>\n",
       "      <td>5</td>\n",
       "      <td>3</td>\n",
       "    </tr>\n",
       "  </tbody>\n",
       "</table>\n",
       "</div>"
      ],
      "text/plain": [
       "   E+  A-  C+  S-  O+  E-  A+  C-  S+  O-\n",
       "0   6   1   4   3   7   3   7   2   5   6\n",
       "1   5   2   7   3   5   5   6   7   6   7\n",
       "2   5   2   5   3   6   3   5   3   5   3\n",
       "3   3   2   6   6   6   5   3   6   6   4\n",
       "4   2   5   5   3   4   3   6   4   5   3"
      ]
     },
     "execution_count": 8,
     "metadata": {},
     "output_type": "execute_result"
    }
   ],
   "source": [
    "dataTIPI.head()"
   ]
  },
  {
   "cell_type": "markdown",
   "metadata": {},
   "source": [
    "Score"
   ]
  },
  {
   "cell_type": "code",
   "execution_count": 9,
   "metadata": {},
   "outputs": [
    {
     "data": {
      "text/html": [
       "<div>\n",
       "<style scoped>\n",
       "    .dataframe tbody tr th:only-of-type {\n",
       "        vertical-align: middle;\n",
       "    }\n",
       "\n",
       "    .dataframe tbody tr th {\n",
       "        vertical-align: top;\n",
       "    }\n",
       "\n",
       "    .dataframe thead th {\n",
       "        text-align: right;\n",
       "    }\n",
       "</style>\n",
       "<table border=\"1\" class=\"dataframe\">\n",
       "  <thead>\n",
       "    <tr style=\"text-align: right;\">\n",
       "      <th></th>\n",
       "      <th>O</th>\n",
       "      <th>C</th>\n",
       "      <th>E</th>\n",
       "      <th>A</th>\n",
       "      <th>S</th>\n",
       "    </tr>\n",
       "  </thead>\n",
       "  <tbody>\n",
       "    <tr>\n",
       "      <th>0</th>\n",
       "      <td>6.5</td>\n",
       "      <td>3.0</td>\n",
       "      <td>4.5</td>\n",
       "      <td>4.0</td>\n",
       "      <td>4.0</td>\n",
       "    </tr>\n",
       "    <tr>\n",
       "      <th>1</th>\n",
       "      <td>6.0</td>\n",
       "      <td>7.0</td>\n",
       "      <td>5.0</td>\n",
       "      <td>4.0</td>\n",
       "      <td>4.5</td>\n",
       "    </tr>\n",
       "    <tr>\n",
       "      <th>2</th>\n",
       "      <td>4.5</td>\n",
       "      <td>4.0</td>\n",
       "      <td>4.0</td>\n",
       "      <td>3.5</td>\n",
       "      <td>4.0</td>\n",
       "    </tr>\n",
       "    <tr>\n",
       "      <th>3</th>\n",
       "      <td>5.0</td>\n",
       "      <td>6.0</td>\n",
       "      <td>4.0</td>\n",
       "      <td>2.5</td>\n",
       "      <td>6.0</td>\n",
       "    </tr>\n",
       "    <tr>\n",
       "      <th>4</th>\n",
       "      <td>3.5</td>\n",
       "      <td>4.5</td>\n",
       "      <td>2.5</td>\n",
       "      <td>5.5</td>\n",
       "      <td>4.0</td>\n",
       "    </tr>\n",
       "  </tbody>\n",
       "</table>\n",
       "</div>"
      ],
      "text/plain": [
       "     O    C    E    A    S\n",
       "0  6.5  3.0  4.5  4.0  4.0\n",
       "1  6.0  7.0  5.0  4.0  4.5\n",
       "2  4.5  4.0  4.0  3.5  4.0\n",
       "3  5.0  6.0  4.0  2.5  6.0\n",
       "4  3.5  4.5  2.5  5.5  4.0"
      ]
     },
     "execution_count": 9,
     "metadata": {},
     "output_type": "execute_result"
    }
   ],
   "source": [
    "TIPI_scored = pd.DataFrame()\n",
    "TIPI_scored['O'] = (dataTIPI['O+']+dataTIPI['O-'])/2\n",
    "TIPI_scored['C'] = (dataTIPI['C+']+dataTIPI['C-'])/2\n",
    "TIPI_scored['E'] = (dataTIPI['E+']+dataTIPI['E-'])/2\n",
    "TIPI_scored['A'] = (dataTIPI['A+']+dataTIPI['A-'])/2\n",
    "TIPI_scored['S'] = (dataTIPI['S+']+dataTIPI['S-'])/2\n",
    "TIPI_scored.head()"
   ]
  },
  {
   "cell_type": "code",
   "execution_count": 10,
   "metadata": {},
   "outputs": [
    {
     "data": {
      "text/html": [
       "<div>\n",
       "<style scoped>\n",
       "    .dataframe tbody tr th:only-of-type {\n",
       "        vertical-align: middle;\n",
       "    }\n",
       "\n",
       "    .dataframe tbody tr th {\n",
       "        vertical-align: top;\n",
       "    }\n",
       "\n",
       "    .dataframe thead th {\n",
       "        text-align: right;\n",
       "    }\n",
       "</style>\n",
       "<table border=\"1\" class=\"dataframe\">\n",
       "  <thead>\n",
       "    <tr style=\"text-align: right;\">\n",
       "      <th></th>\n",
       "      <th>O</th>\n",
       "      <th>C</th>\n",
       "      <th>E</th>\n",
       "      <th>A</th>\n",
       "      <th>S</th>\n",
       "    </tr>\n",
       "  </thead>\n",
       "  <tbody>\n",
       "    <tr>\n",
       "      <th>count</th>\n",
       "      <td>16181.000000</td>\n",
       "      <td>16181.000000</td>\n",
       "      <td>16181.000000</td>\n",
       "      <td>16181.000000</td>\n",
       "      <td>16181.000000</td>\n",
       "    </tr>\n",
       "    <tr>\n",
       "      <th>mean</th>\n",
       "      <td>5.295686</td>\n",
       "      <td>4.957079</td>\n",
       "      <td>3.600952</td>\n",
       "      <td>4.813454</td>\n",
       "      <td>4.510413</td>\n",
       "    </tr>\n",
       "    <tr>\n",
       "      <th>std</th>\n",
       "      <td>1.118450</td>\n",
       "      <td>1.364139</td>\n",
       "      <td>1.682553</td>\n",
       "      <td>1.224232</td>\n",
       "      <td>1.500494</td>\n",
       "    </tr>\n",
       "    <tr>\n",
       "      <th>min</th>\n",
       "      <td>1.000000</td>\n",
       "      <td>1.000000</td>\n",
       "      <td>1.000000</td>\n",
       "      <td>1.000000</td>\n",
       "      <td>1.000000</td>\n",
       "    </tr>\n",
       "    <tr>\n",
       "      <th>25%</th>\n",
       "      <td>4.500000</td>\n",
       "      <td>4.000000</td>\n",
       "      <td>2.000000</td>\n",
       "      <td>4.000000</td>\n",
       "      <td>3.500000</td>\n",
       "    </tr>\n",
       "    <tr>\n",
       "      <th>50%</th>\n",
       "      <td>5.500000</td>\n",
       "      <td>5.000000</td>\n",
       "      <td>3.500000</td>\n",
       "      <td>5.000000</td>\n",
       "      <td>4.500000</td>\n",
       "    </tr>\n",
       "    <tr>\n",
       "      <th>75%</th>\n",
       "      <td>6.000000</td>\n",
       "      <td>6.000000</td>\n",
       "      <td>5.000000</td>\n",
       "      <td>6.000000</td>\n",
       "      <td>6.000000</td>\n",
       "    </tr>\n",
       "    <tr>\n",
       "      <th>max</th>\n",
       "      <td>7.000000</td>\n",
       "      <td>7.000000</td>\n",
       "      <td>7.000000</td>\n",
       "      <td>7.000000</td>\n",
       "      <td>7.000000</td>\n",
       "    </tr>\n",
       "  </tbody>\n",
       "</table>\n",
       "</div>"
      ],
      "text/plain": [
       "                  O             C             E             A             S\n",
       "count  16181.000000  16181.000000  16181.000000  16181.000000  16181.000000\n",
       "mean       5.295686      4.957079      3.600952      4.813454      4.510413\n",
       "std        1.118450      1.364139      1.682553      1.224232      1.500494\n",
       "min        1.000000      1.000000      1.000000      1.000000      1.000000\n",
       "25%        4.500000      4.000000      2.000000      4.000000      3.500000\n",
       "50%        5.500000      5.000000      3.500000      5.000000      4.500000\n",
       "75%        6.000000      6.000000      5.000000      6.000000      6.000000\n",
       "max        7.000000      7.000000      7.000000      7.000000      7.000000"
      ]
     },
     "execution_count": 10,
     "metadata": {},
     "output_type": "execute_result"
    }
   ],
   "source": [
    "TIPI_scored.describe()"
   ]
  },
  {
   "cell_type": "code",
   "execution_count": 11,
   "metadata": {},
   "outputs": [
    {
     "data": {
      "text/html": [
       "<div>\n",
       "<style scoped>\n",
       "    .dataframe tbody tr th:only-of-type {\n",
       "        vertical-align: middle;\n",
       "    }\n",
       "\n",
       "    .dataframe tbody tr th {\n",
       "        vertical-align: top;\n",
       "    }\n",
       "\n",
       "    .dataframe thead th {\n",
       "        text-align: right;\n",
       "    }\n",
       "</style>\n",
       "<table border=\"1\" class=\"dataframe\">\n",
       "  <thead>\n",
       "    <tr style=\"text-align: right;\">\n",
       "      <th></th>\n",
       "      <th>O</th>\n",
       "      <th>C</th>\n",
       "      <th>E</th>\n",
       "      <th>A</th>\n",
       "      <th>S</th>\n",
       "    </tr>\n",
       "  </thead>\n",
       "  <tbody>\n",
       "    <tr>\n",
       "      <th>O</th>\n",
       "      <td>1.000000</td>\n",
       "      <td>-0.043542</td>\n",
       "      <td>0.240957</td>\n",
       "      <td>0.147523</td>\n",
       "      <td>0.096411</td>\n",
       "    </tr>\n",
       "    <tr>\n",
       "      <th>C</th>\n",
       "      <td>-0.043542</td>\n",
       "      <td>1.000000</td>\n",
       "      <td>-0.002609</td>\n",
       "      <td>0.086653</td>\n",
       "      <td>0.241843</td>\n",
       "    </tr>\n",
       "    <tr>\n",
       "      <th>E</th>\n",
       "      <td>0.240957</td>\n",
       "      <td>-0.002609</td>\n",
       "      <td>1.000000</td>\n",
       "      <td>0.061674</td>\n",
       "      <td>0.068337</td>\n",
       "    </tr>\n",
       "    <tr>\n",
       "      <th>A</th>\n",
       "      <td>0.147523</td>\n",
       "      <td>0.086653</td>\n",
       "      <td>0.061674</td>\n",
       "      <td>1.000000</td>\n",
       "      <td>0.214427</td>\n",
       "    </tr>\n",
       "    <tr>\n",
       "      <th>S</th>\n",
       "      <td>0.096411</td>\n",
       "      <td>0.241843</td>\n",
       "      <td>0.068337</td>\n",
       "      <td>0.214427</td>\n",
       "      <td>1.000000</td>\n",
       "    </tr>\n",
       "  </tbody>\n",
       "</table>\n",
       "</div>"
      ],
      "text/plain": [
       "          O         C         E         A         S\n",
       "O  1.000000 -0.043542  0.240957  0.147523  0.096411\n",
       "C -0.043542  1.000000 -0.002609  0.086653  0.241843\n",
       "E  0.240957 -0.002609  1.000000  0.061674  0.068337\n",
       "A  0.147523  0.086653  0.061674  1.000000  0.214427\n",
       "S  0.096411  0.241843  0.068337  0.214427  1.000000"
      ]
     },
     "execution_count": 11,
     "metadata": {},
     "output_type": "execute_result"
    }
   ],
   "source": [
    "TIPI_scored.corr()"
   ]
  },
  {
   "cell_type": "code",
   "execution_count": 12,
   "metadata": {},
   "outputs": [],
   "source": [
    "np.save('TIPI_scored_OCEAS.npy',TIPI_scored)"
   ]
  },
  {
   "cell_type": "code",
   "execution_count": 13,
   "metadata": {},
   "outputs": [
    {
     "data": {
      "text/html": [
       "<div>\n",
       "<style scoped>\n",
       "    .dataframe tbody tr th:only-of-type {\n",
       "        vertical-align: middle;\n",
       "    }\n",
       "\n",
       "    .dataframe tbody tr th {\n",
       "        vertical-align: top;\n",
       "    }\n",
       "\n",
       "    .dataframe thead th {\n",
       "        text-align: right;\n",
       "    }\n",
       "</style>\n",
       "<table border=\"1\" class=\"dataframe\">\n",
       "  <thead>\n",
       "    <tr style=\"text-align: right;\">\n",
       "      <th></th>\n",
       "      <th>O</th>\n",
       "      <th>C</th>\n",
       "      <th>E</th>\n",
       "      <th>A</th>\n",
       "      <th>S</th>\n",
       "    </tr>\n",
       "  </thead>\n",
       "  <tbody>\n",
       "    <tr>\n",
       "      <th>0</th>\n",
       "      <td>6.5</td>\n",
       "      <td>3.0</td>\n",
       "      <td>4.5</td>\n",
       "      <td>4.0</td>\n",
       "      <td>4.0</td>\n",
       "    </tr>\n",
       "    <tr>\n",
       "      <th>1</th>\n",
       "      <td>6.0</td>\n",
       "      <td>7.0</td>\n",
       "      <td>5.0</td>\n",
       "      <td>4.0</td>\n",
       "      <td>4.5</td>\n",
       "    </tr>\n",
       "    <tr>\n",
       "      <th>2</th>\n",
       "      <td>4.5</td>\n",
       "      <td>4.0</td>\n",
       "      <td>4.0</td>\n",
       "      <td>3.5</td>\n",
       "      <td>4.0</td>\n",
       "    </tr>\n",
       "    <tr>\n",
       "      <th>3</th>\n",
       "      <td>5.0</td>\n",
       "      <td>6.0</td>\n",
       "      <td>4.0</td>\n",
       "      <td>2.5</td>\n",
       "      <td>6.0</td>\n",
       "    </tr>\n",
       "    <tr>\n",
       "      <th>4</th>\n",
       "      <td>3.5</td>\n",
       "      <td>4.5</td>\n",
       "      <td>2.5</td>\n",
       "      <td>5.5</td>\n",
       "      <td>4.0</td>\n",
       "    </tr>\n",
       "  </tbody>\n",
       "</table>\n",
       "</div>"
      ],
      "text/plain": [
       "     O    C    E    A    S\n",
       "0  6.5  3.0  4.5  4.0  4.0\n",
       "1  6.0  7.0  5.0  4.0  4.5\n",
       "2  4.5  4.0  4.0  3.5  4.0\n",
       "3  5.0  6.0  4.0  2.5  6.0\n",
       "4  3.5  4.5  2.5  5.5  4.0"
      ]
     },
     "execution_count": 13,
     "metadata": {},
     "output_type": "execute_result"
    }
   ],
   "source": [
    "TIPI_scored.head()"
   ]
  },
  {
   "cell_type": "code",
   "execution_count": 14,
   "metadata": {},
   "outputs": [
    {
     "data": {
      "text/html": [
       "<div>\n",
       "<style scoped>\n",
       "    .dataframe tbody tr th:only-of-type {\n",
       "        vertical-align: middle;\n",
       "    }\n",
       "\n",
       "    .dataframe tbody tr th {\n",
       "        vertical-align: top;\n",
       "    }\n",
       "\n",
       "    .dataframe thead th {\n",
       "        text-align: right;\n",
       "    }\n",
       "</style>\n",
       "<table border=\"1\" class=\"dataframe\">\n",
       "  <thead>\n",
       "    <tr style=\"text-align: right;\">\n",
       "      <th></th>\n",
       "      <th>N</th>\n",
       "      <th>E</th>\n",
       "      <th>O</th>\n",
       "      <th>A</th>\n",
       "      <th>C</th>\n",
       "    </tr>\n",
       "  </thead>\n",
       "  <tbody>\n",
       "    <tr>\n",
       "      <th>0</th>\n",
       "      <td>4.0</td>\n",
       "      <td>4.5</td>\n",
       "      <td>6.5</td>\n",
       "      <td>4.0</td>\n",
       "      <td>3.0</td>\n",
       "    </tr>\n",
       "    <tr>\n",
       "      <th>1</th>\n",
       "      <td>3.5</td>\n",
       "      <td>5.0</td>\n",
       "      <td>6.0</td>\n",
       "      <td>4.0</td>\n",
       "      <td>7.0</td>\n",
       "    </tr>\n",
       "    <tr>\n",
       "      <th>2</th>\n",
       "      <td>4.0</td>\n",
       "      <td>4.0</td>\n",
       "      <td>4.5</td>\n",
       "      <td>3.5</td>\n",
       "      <td>4.0</td>\n",
       "    </tr>\n",
       "    <tr>\n",
       "      <th>3</th>\n",
       "      <td>2.0</td>\n",
       "      <td>4.0</td>\n",
       "      <td>5.0</td>\n",
       "      <td>2.5</td>\n",
       "      <td>6.0</td>\n",
       "    </tr>\n",
       "    <tr>\n",
       "      <th>4</th>\n",
       "      <td>4.0</td>\n",
       "      <td>2.5</td>\n",
       "      <td>3.5</td>\n",
       "      <td>5.5</td>\n",
       "      <td>4.5</td>\n",
       "    </tr>\n",
       "  </tbody>\n",
       "</table>\n",
       "</div>"
      ],
      "text/plain": [
       "     N    E    O    A    C\n",
       "0  4.0  4.5  6.5  4.0  3.0\n",
       "1  3.5  5.0  6.0  4.0  7.0\n",
       "2  4.0  4.0  4.5  3.5  4.0\n",
       "3  2.0  4.0  5.0  2.5  6.0\n",
       "4  4.0  2.5  3.5  5.5  4.5"
      ]
     },
     "execution_count": 14,
     "metadata": {},
     "output_type": "execute_result"
    }
   ],
   "source": [
    "\n",
    "TIPI_scored['N'] = 8-TIPI_scored['S']\n",
    "TIPI_scored_NEOAC = TIPI_scored[['N','E','O','A','C']]\n",
    "TIPI_scored_NEOAC.head()"
   ]
  },
  {
   "cell_type": "code",
   "execution_count": 15,
   "metadata": {},
   "outputs": [],
   "source": [
    "np.save('TIPI_scored_NEOAC.npy',TIPI_scored_NEOAC)"
   ]
  },
  {
   "cell_type": "code",
   "execution_count": null,
   "metadata": {},
   "outputs": [],
   "source": []
  },
  {
   "cell_type": "markdown",
   "metadata": {},
   "source": [
    "## Normalizing"
   ]
  },
  {
   "cell_type": "code",
   "execution_count": 16,
   "metadata": {},
   "outputs": [],
   "source": [
    "TIPInorms = pd.read_csv('TIPINorms.csv', index_col=0)"
   ]
  },
  {
   "cell_type": "code",
   "execution_count": 17,
   "metadata": {},
   "outputs": [
    {
     "data": {
      "text/plain": [
       "array([[5.5078e+00, 4.6454e+00, 3.9506e+00, 4.7099e+00, 4.3579e+00],\n",
       "       [1.1390e+00, 1.4146e+00, 1.5831e+00, 1.2261e+00, 1.4789e+00],\n",
       "       [2.7800e+05, 2.7800e+05, 2.7800e+05, 2.7800e+05, 2.7800e+05]])"
      ]
     },
     "execution_count": 17,
     "metadata": {},
     "output_type": "execute_result"
    }
   ],
   "source": [
    "arrTIPInorms = TIPInorms[['Openness','Conscientiousness','Extraversion','Agreeableness','Emotional Stability']].values\n",
    "arrTIPInorms"
   ]
  },
  {
   "cell_type": "code",
   "execution_count": 3,
   "metadata": {},
   "outputs": [
    {
     "data": {
      "text/plain": [
       "array([[6.5, 3. , 4.5, 4. , 4. ],\n",
       "       [6. , 7. , 5. , 4. , 4.5],\n",
       "       [4.5, 4. , 4. , 3.5, 4. ],\n",
       "       ...,\n",
       "       [5.5, 7. , 1. , 5.5, 6. ],\n",
       "       [5. , 4. , 2.5, 4.5, 1. ],\n",
       "       [4.5, 4. , 4. , 2. , 2.5]])"
      ]
     },
     "execution_count": 3,
     "metadata": {},
     "output_type": "execute_result"
    }
   ],
   "source": [
    "arrTIPI = np.load('data/TIPI_scored_OCEAS.npy')\n",
    "arrTIPI"
   ]
  },
  {
   "cell_type": "markdown",
   "metadata": {},
   "source": [
    "Norm according to TIPI norms because this sample is significantly different from the norms (t test, P<.001)"
   ]
  },
  {
   "cell_type": "code",
   "execution_count": 11,
   "metadata": {},
   "outputs": [
    {
     "ename": "NameError",
     "evalue": "name 'arrTIPInorms' is not defined",
     "output_type": "error",
     "traceback": [
      "\u001b[0;31m-----------------------------------------------------------------\u001b[0m",
      "\u001b[0;31mNameError\u001b[0m                       Traceback (most recent call last)",
      "\u001b[0;32m<ipython-input-11-d1024b62901d>\u001b[0m in \u001b[0;36m<module>\u001b[0;34m()\u001b[0m\n\u001b[1;32m      2\u001b[0m \u001b[0;32mfor\u001b[0m \u001b[0md\u001b[0m \u001b[0;32min\u001b[0m \u001b[0mrange\u001b[0m\u001b[0;34m(\u001b[0m\u001b[0mD_\u001b[0m\u001b[0;34m)\u001b[0m\u001b[0;34m:\u001b[0m\u001b[0;34m\u001b[0m\u001b[0m\n\u001b[1;32m      3\u001b[0m     \u001b[0mx_tmp\u001b[0m \u001b[0;34m=\u001b[0m \u001b[0marrTIPI\u001b[0m\u001b[0;34m[\u001b[0m\u001b[0;34m:\u001b[0m\u001b[0;34m,\u001b[0m\u001b[0md\u001b[0m\u001b[0;34m]\u001b[0m\u001b[0;34m\u001b[0m\u001b[0m\n\u001b[0;32m----> 4\u001b[0;31m     \u001b[0mx_mu\u001b[0m \u001b[0;34m=\u001b[0m \u001b[0marrTIPInorms\u001b[0m\u001b[0;34m[\u001b[0m\u001b[0;36m0\u001b[0m\u001b[0;34m]\u001b[0m\u001b[0;34m[\u001b[0m\u001b[0md\u001b[0m\u001b[0;34m]\u001b[0m\u001b[0;34m\u001b[0m\u001b[0m\n\u001b[0m\u001b[1;32m      5\u001b[0m     \u001b[0mx_std\u001b[0m \u001b[0;34m=\u001b[0m \u001b[0marrTIPInorms\u001b[0m\u001b[0;34m[\u001b[0m\u001b[0;36m1\u001b[0m\u001b[0;34m]\u001b[0m\u001b[0;34m[\u001b[0m\u001b[0md\u001b[0m\u001b[0;34m]\u001b[0m\u001b[0;34m\u001b[0m\u001b[0m\n\u001b[1;32m      6\u001b[0m     \u001b[0marrTIPI\u001b[0m\u001b[0;34m[\u001b[0m\u001b[0;34m:\u001b[0m\u001b[0;34m,\u001b[0m\u001b[0md\u001b[0m\u001b[0;34m]\u001b[0m \u001b[0;34m=\u001b[0m \u001b[0;34m(\u001b[0m\u001b[0mx_tmp\u001b[0m \u001b[0;34m-\u001b[0m \u001b[0mx_mu\u001b[0m\u001b[0;34m)\u001b[0m\u001b[0;34m/\u001b[0m\u001b[0mx_std\u001b[0m\u001b[0;34m\u001b[0m\u001b[0m\n",
      "\u001b[0;31mNameError\u001b[0m: name 'arrTIPInorms' is not defined"
     ]
    }
   ],
   "source": [
    "N_,D_ = np.shape(arrTIPI)\n",
    "for d in range(D_):\n",
    "    x_tmp = arrTIPI[:,d]\n",
    "    x_mu = arrTIPInorms[0][d]\n",
    "    x_std = arrTIPInorms[1][d]\n",
    "    arrTIPI[:,d] = (x_tmp - x_mu)/x_std"
   ]
  },
  {
   "cell_type": "markdown",
   "metadata": {},
   "source": [
    "Reverse emotional stability into neuroticism"
   ]
  },
  {
   "cell_type": "code",
   "execution_count": 25,
   "metadata": {},
   "outputs": [],
   "source": [
    "arrTIPI[:,4] = 0-arrTIPI[:,4]"
   ]
  },
  {
   "cell_type": "code",
   "execution_count": 26,
   "metadata": {},
   "outputs": [
    {
     "data": {
      "text/plain": [
       "array([[ 0.87111501, -1.16315566,  0.34704062, -0.57899029,  0.24200419],\n",
       "       [ 0.43213345,  1.6644988 ,  0.66287663, -0.57899029, -0.09608493],\n",
       "       [-0.88481124, -0.45624205,  0.0312046 , -0.98678737,  0.24200419],\n",
       "       ...,\n",
       "       [-0.00684811,  1.6644988 , -1.86381151,  0.64440095, -1.11035229],\n",
       "       [-0.44582968, -0.45624205, -0.91630346, -0.17119321,  2.27053891],\n",
       "       [-0.88481124, -0.45624205,  0.0312046 , -2.21017862,  1.25627155]])"
      ]
     },
     "execution_count": 26,
     "metadata": {},
     "output_type": "execute_result"
    }
   ],
   "source": [
    "arrTIPI"
   ]
  },
  {
   "cell_type": "code",
   "execution_count": 27,
   "metadata": {},
   "outputs": [],
   "source": [
    "np.save('TIPI_scored_normed_OCEAN.npy',arrTIPI)"
   ]
  },
  {
   "cell_type": "markdown",
   "metadata": {},
   "source": [
    "## Final norm method"
   ]
  },
  {
   "cell_type": "code",
   "execution_count": 25,
   "metadata": {},
   "outputs": [],
   "source": [
    "df = pd.DataFrame(arrTIPI,columns=['O','C','E','A','S'])"
   ]
  },
  {
   "cell_type": "code",
   "execution_count": 26,
   "metadata": {},
   "outputs": [],
   "source": [
    "df_TIPInormed = normTIPI(df)"
   ]
  },
  {
   "cell_type": "code",
   "execution_count": 27,
   "metadata": {},
   "outputs": [
    {
     "data": {
      "text/html": [
       "<div>\n",
       "<style scoped>\n",
       "    .dataframe tbody tr th:only-of-type {\n",
       "        vertical-align: middle;\n",
       "    }\n",
       "\n",
       "    .dataframe tbody tr th {\n",
       "        vertical-align: top;\n",
       "    }\n",
       "\n",
       "    .dataframe thead th {\n",
       "        text-align: right;\n",
       "    }\n",
       "</style>\n",
       "<table border=\"1\" class=\"dataframe\">\n",
       "  <thead>\n",
       "    <tr style=\"text-align: right;\">\n",
       "      <th></th>\n",
       "      <th>O</th>\n",
       "      <th>C</th>\n",
       "      <th>E</th>\n",
       "      <th>A</th>\n",
       "      <th>S</th>\n",
       "    </tr>\n",
       "  </thead>\n",
       "  <tbody>\n",
       "    <tr>\n",
       "      <th>0</th>\n",
       "      <td>0.871115</td>\n",
       "      <td>-1.163156</td>\n",
       "      <td>0.347041</td>\n",
       "      <td>-0.578990</td>\n",
       "      <td>-0.242004</td>\n",
       "    </tr>\n",
       "    <tr>\n",
       "      <th>1</th>\n",
       "      <td>0.432133</td>\n",
       "      <td>1.664499</td>\n",
       "      <td>0.662877</td>\n",
       "      <td>-0.578990</td>\n",
       "      <td>0.096085</td>\n",
       "    </tr>\n",
       "    <tr>\n",
       "      <th>2</th>\n",
       "      <td>-0.884811</td>\n",
       "      <td>-0.456242</td>\n",
       "      <td>0.031205</td>\n",
       "      <td>-0.986787</td>\n",
       "      <td>-0.242004</td>\n",
       "    </tr>\n",
       "    <tr>\n",
       "      <th>3</th>\n",
       "      <td>-0.445830</td>\n",
       "      <td>0.957585</td>\n",
       "      <td>0.031205</td>\n",
       "      <td>-1.802382</td>\n",
       "      <td>1.110352</td>\n",
       "    </tr>\n",
       "    <tr>\n",
       "      <th>4</th>\n",
       "      <td>-1.762774</td>\n",
       "      <td>-0.102785</td>\n",
       "      <td>-0.916303</td>\n",
       "      <td>0.644401</td>\n",
       "      <td>-0.242004</td>\n",
       "    </tr>\n",
       "  </tbody>\n",
       "</table>\n",
       "</div>"
      ],
      "text/plain": [
       "          O         C         E         A         S\n",
       "0  0.871115 -1.163156  0.347041 -0.578990 -0.242004\n",
       "1  0.432133  1.664499  0.662877 -0.578990  0.096085\n",
       "2 -0.884811 -0.456242  0.031205 -0.986787 -0.242004\n",
       "3 -0.445830  0.957585  0.031205 -1.802382  1.110352\n",
       "4 -1.762774 -0.102785 -0.916303  0.644401 -0.242004"
      ]
     },
     "execution_count": 27,
     "metadata": {},
     "output_type": "execute_result"
    }
   ],
   "source": [
    "df_TIPInormed.head()"
   ]
  },
  {
   "cell_type": "code",
   "execution_count": 28,
   "metadata": {},
   "outputs": [],
   "source": [
    "arr_TIPInormed = df_TIPInormed[['S','E','O','A','C']].values"
   ]
  },
  {
   "cell_type": "code",
   "execution_count": 29,
   "metadata": {},
   "outputs": [],
   "source": [
    "arr_TIPInormed[:,0] = 0-arr_TIPInormed[:,0]"
   ]
  },
  {
   "cell_type": "code",
   "execution_count": 30,
   "metadata": {},
   "outputs": [
    {
     "data": {
      "text/plain": [
       "array([[ 0.24200419,  0.34704062,  0.87111501, -0.57899029, -1.16315566],\n",
       "       [-0.09608493,  0.66287663,  0.43213345, -0.57899029,  1.6644988 ],\n",
       "       [ 0.24200419,  0.0312046 , -0.88481124, -0.98678737, -0.45624205],\n",
       "       ...,\n",
       "       [-1.11035229, -1.86381151, -0.00684811,  0.64440095,  1.6644988 ],\n",
       "       [ 2.27053891, -0.91630346, -0.44582968, -0.17119321, -0.45624205],\n",
       "       [ 1.25627155,  0.0312046 , -0.88481124, -2.21017862, -0.45624205]])"
      ]
     },
     "execution_count": 30,
     "metadata": {},
     "output_type": "execute_result"
    }
   ],
   "source": [
    "arr_TIPInormed"
   ]
  },
  {
   "cell_type": "code",
   "execution_count": 35,
   "metadata": {},
   "outputs": [],
   "source": [
    "np.save('data/TIPI_scored_normed_NEOAC.npy',arr_TIPInormed)"
   ]
  },
  {
   "cell_type": "code",
   "execution_count": 36,
   "metadata": {},
   "outputs": [],
   "source": [
    "arrTIPI = np.load('data/TIPI_scored_normed_NEOAC.npy')"
   ]
  },
  {
   "cell_type": "code",
   "execution_count": 37,
   "metadata": {},
   "outputs": [
    {
     "data": {
      "text/plain": [
       "array([[ 0.24200419,  0.34704062,  0.87111501, -0.57899029, -1.16315566],\n",
       "       [-0.09608493,  0.66287663,  0.43213345, -0.57899029,  1.6644988 ],\n",
       "       [ 0.24200419,  0.0312046 , -0.88481124, -0.98678737, -0.45624205],\n",
       "       ...,\n",
       "       [-1.11035229, -1.86381151, -0.00684811,  0.64440095,  1.6644988 ],\n",
       "       [ 2.27053891, -0.91630346, -0.44582968, -0.17119321, -0.45624205],\n",
       "       [ 1.25627155,  0.0312046 , -0.88481124, -2.21017862, -0.45624205]])"
      ]
     },
     "execution_count": 37,
     "metadata": {},
     "output_type": "execute_result"
    }
   ],
   "source": [
    "arrTIPI"
   ]
  },
  {
   "cell_type": "code",
   "execution_count": null,
   "metadata": {},
   "outputs": [],
   "source": []
  }
 ],
 "metadata": {
  "kernelspec": {
   "display_name": "Python 3",
   "language": "python",
   "name": "python3"
  },
  "language_info": {
   "codemirror_mode": {
    "name": "ipython",
    "version": 3
   },
   "file_extension": ".py",
   "mimetype": "text/x-python",
   "name": "python",
   "nbconvert_exporter": "python",
   "pygments_lexer": "ipython3",
   "version": "3.6.4"
  }
 },
 "nbformat": 4,
 "nbformat_minor": 2
}
