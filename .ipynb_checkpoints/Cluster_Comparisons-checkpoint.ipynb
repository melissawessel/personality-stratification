{
 "cells": [
  {
   "cell_type": "markdown",
   "metadata": {},
   "source": [
    "# Johnson300 vs Johnson120"
   ]
  },
  {
   "cell_type": "code",
   "execution_count": 2,
   "metadata": {
    "collapsed": true
   },
   "outputs": [],
   "source": [
    "import pandas as pd\n",
    "import numpy as np\n",
    "import pylab as plt\n",
    "from scipy.spatial.distance import euclidean,cdist"
   ]
  },
  {
   "cell_type": "code",
   "execution_count": 3,
   "metadata": {},
   "outputs": [],
   "source": [
    "clusGerlach = pd.read_csv('data/clusters/Gerlach_clusters.csv', index_col=0)"
   ]
  },
  {
   "cell_type": "code",
   "execution_count": 4,
   "metadata": {},
   "outputs": [
    {
     "data": {
      "text/html": [
       "<div>\n",
       "<style scoped>\n",
       "    .dataframe tbody tr th:only-of-type {\n",
       "        vertical-align: middle;\n",
       "    }\n",
       "\n",
       "    .dataframe tbody tr th {\n",
       "        vertical-align: top;\n",
       "    }\n",
       "\n",
       "    .dataframe thead th {\n",
       "        text-align: right;\n",
       "    }\n",
       "</style>\n",
       "<table border=\"1\" class=\"dataframe\">\n",
       "  <thead>\n",
       "    <tr style=\"text-align: right;\">\n",
       "      <th></th>\n",
       "      <th>N</th>\n",
       "      <th>E</th>\n",
       "      <th>O</th>\n",
       "      <th>A</th>\n",
       "      <th>C</th>\n",
       "    </tr>\n",
       "  </thead>\n",
       "  <tbody>\n",
       "    <tr>\n",
       "      <th>Average</th>\n",
       "      <td>0.55</td>\n",
       "      <td>0.51</td>\n",
       "      <td>-0.60</td>\n",
       "      <td>0.25</td>\n",
       "      <td>0.25</td>\n",
       "    </tr>\n",
       "    <tr>\n",
       "      <th>SelfCentered</th>\n",
       "      <td>-0.23</td>\n",
       "      <td>0.70</td>\n",
       "      <td>-0.75</td>\n",
       "      <td>-0.56</td>\n",
       "      <td>-0.44</td>\n",
       "    </tr>\n",
       "    <tr>\n",
       "      <th>Reserved</th>\n",
       "      <td>-0.54</td>\n",
       "      <td>-0.07</td>\n",
       "      <td>-0.77</td>\n",
       "      <td>0.12</td>\n",
       "      <td>0.19</td>\n",
       "    </tr>\n",
       "    <tr>\n",
       "      <th>RoleModel</th>\n",
       "      <td>-0.70</td>\n",
       "      <td>0.52</td>\n",
       "      <td>0.23</td>\n",
       "      <td>0.62</td>\n",
       "      <td>0.78</td>\n",
       "    </tr>\n",
       "  </tbody>\n",
       "</table>\n",
       "</div>"
      ],
      "text/plain": [
       "                 N     E     O     A     C\n",
       "Average       0.55  0.51 -0.60  0.25  0.25\n",
       "SelfCentered -0.23  0.70 -0.75 -0.56 -0.44\n",
       "Reserved     -0.54 -0.07 -0.77  0.12  0.19\n",
       "RoleModel    -0.70  0.52  0.23  0.62  0.78"
      ]
     },
     "execution_count": 4,
     "metadata": {},
     "output_type": "execute_result"
    }
   ],
   "source": [
    "clusGerlach"
   ]
  },
  {
   "cell_type": "code",
   "execution_count": 14,
   "metadata": {},
   "outputs": [],
   "source": [
    "clusPascal = pd.DataFrame(np.load('data/clusters/Pascal_clusters_Nc14_TIPInormed.npy'),columns=['N','E','O','A','C'])"
   ]
  },
  {
   "cell_type": "code",
   "execution_count": 7,
   "metadata": {},
   "outputs": [],
   "source": [
    "clus120 = pd.DataFrame(np.load('data/clusters/Johnson120_clusters_Nc18.npy'),columns=['N','E','O','A','C'])"
   ]
  },
  {
   "cell_type": "code",
   "execution_count": 8,
   "metadata": {},
   "outputs": [
    {
     "data": {
      "text/html": [
       "<div>\n",
       "<style scoped>\n",
       "    .dataframe tbody tr th:only-of-type {\n",
       "        vertical-align: middle;\n",
       "    }\n",
       "\n",
       "    .dataframe tbody tr th {\n",
       "        vertical-align: top;\n",
       "    }\n",
       "\n",
       "    .dataframe thead th {\n",
       "        text-align: right;\n",
       "    }\n",
       "</style>\n",
       "<table border=\"1\" class=\"dataframe\">\n",
       "  <thead>\n",
       "    <tr style=\"text-align: right;\">\n",
       "      <th></th>\n",
       "      <th>N</th>\n",
       "      <th>E</th>\n",
       "      <th>O</th>\n",
       "      <th>A</th>\n",
       "      <th>C</th>\n",
       "    </tr>\n",
       "  </thead>\n",
       "  <tbody>\n",
       "    <tr>\n",
       "      <th>0</th>\n",
       "      <td>-0.913556</td>\n",
       "      <td>0.480593</td>\n",
       "      <td>0.497881</td>\n",
       "      <td>0.452075</td>\n",
       "      <td>0.857996</td>\n",
       "    </tr>\n",
       "    <tr>\n",
       "      <th>1</th>\n",
       "      <td>0.824866</td>\n",
       "      <td>0.616444</td>\n",
       "      <td>-0.655940</td>\n",
       "      <td>-0.411651</td>\n",
       "      <td>-0.474065</td>\n",
       "    </tr>\n",
       "    <tr>\n",
       "      <th>2</th>\n",
       "      <td>-0.673587</td>\n",
       "      <td>-0.472493</td>\n",
       "      <td>-0.671561</td>\n",
       "      <td>0.391340</td>\n",
       "      <td>0.436308</td>\n",
       "    </tr>\n",
       "    <tr>\n",
       "      <th>3</th>\n",
       "      <td>0.047312</td>\n",
       "      <td>0.497026</td>\n",
       "      <td>-0.236810</td>\n",
       "      <td>0.798765</td>\n",
       "      <td>0.311571</td>\n",
       "    </tr>\n",
       "    <tr>\n",
       "      <th>4</th>\n",
       "      <td>-0.374951</td>\n",
       "      <td>0.372290</td>\n",
       "      <td>-0.468095</td>\n",
       "      <td>-0.305500</td>\n",
       "      <td>0.176265</td>\n",
       "    </tr>\n",
       "  </tbody>\n",
       "</table>\n",
       "</div>"
      ],
      "text/plain": [
       "          N         E         O         A         C\n",
       "0 -0.913556  0.480593  0.497881  0.452075  0.857996\n",
       "1  0.824866  0.616444 -0.655940 -0.411651 -0.474065\n",
       "2 -0.673587 -0.472493 -0.671561  0.391340  0.436308\n",
       "3  0.047312  0.497026 -0.236810  0.798765  0.311571\n",
       "4 -0.374951  0.372290 -0.468095 -0.305500  0.176265"
      ]
     },
     "execution_count": 8,
     "metadata": {},
     "output_type": "execute_result"
    }
   ],
   "source": [
    "clus120"
   ]
  },
  {
   "cell_type": "code",
   "execution_count": 16,
   "metadata": {},
   "outputs": [
    {
     "data": {
      "text/plain": [
       "array([[0.        , 1.34134261, 1.25455171, 1.63379925],\n",
       "       [1.34134261, 0.        , 1.24446776, 2.02348709],\n",
       "       [1.25455171, 1.24446776, 0.        , 1.40420796],\n",
       "       [1.63379925, 2.02348709, 1.40420796, 0.        ]])"
      ]
     },
     "execution_count": 16,
     "metadata": {},
     "output_type": "execute_result"
    }
   ],
   "source": [
    "distancesG = cdist(clusGerlach, clusGerlach, metric='euclidean')\n",
    "distancesG"
   ]
  },
  {
   "cell_type": "code",
   "execution_count": 9,
   "metadata": {},
   "outputs": [],
   "source": [
    "distances = cdist(clus120, clusGerlach, metric='euclidean')"
   ]
  },
  {
   "cell_type": "code",
   "execution_count": 10,
   "metadata": {},
   "outputs": [
    {
     "data": {
      "text/html": [
       "<div>\n",
       "<style scoped>\n",
       "    .dataframe tbody tr th:only-of-type {\n",
       "        vertical-align: middle;\n",
       "    }\n",
       "\n",
       "    .dataframe tbody tr th {\n",
       "        vertical-align: top;\n",
       "    }\n",
       "\n",
       "    .dataframe thead th {\n",
       "        text-align: right;\n",
       "    }\n",
       "</style>\n",
       "<table border=\"1\" class=\"dataframe\">\n",
       "  <thead>\n",
       "    <tr style=\"text-align: right;\">\n",
       "      <th></th>\n",
       "      <th>Average</th>\n",
       "      <th>SelfCentered</th>\n",
       "      <th>Reserved</th>\n",
       "      <th>RoleModel</th>\n",
       "    </tr>\n",
       "  </thead>\n",
       "  <tbody>\n",
       "    <tr>\n",
       "      <th>0</th>\n",
       "      <td>1.938736</td>\n",
       "      <td>2.186707</td>\n",
       "      <td>1.614532</td>\n",
       "      <td>0.391410</td>\n",
       "    </tr>\n",
       "    <tr>\n",
       "      <th>1</th>\n",
       "      <td>1.025701</td>\n",
       "      <td>1.073191</td>\n",
       "      <td>1.752343</td>\n",
       "      <td>2.399247</td>\n",
       "    </tr>\n",
       "    <tr>\n",
       "      <th>2</th>\n",
       "      <td>1.588164</td>\n",
       "      <td>1.802949</td>\n",
       "      <td>0.569060</td>\n",
       "      <td>1.403197</td>\n",
       "    </tr>\n",
       "    <tr>\n",
       "      <th>3</th>\n",
       "      <td>0.830484</td>\n",
       "      <td>1.671097</td>\n",
       "      <td>1.194256</td>\n",
       "      <td>1.014050</td>\n",
       "    </tr>\n",
       "    <tr>\n",
       "      <th>4</th>\n",
       "      <td>1.098141</td>\n",
       "      <td>0.807730</td>\n",
       "      <td>0.703738</td>\n",
       "      <td>1.354938</td>\n",
       "    </tr>\n",
       "  </tbody>\n",
       "</table>\n",
       "</div>"
      ],
      "text/plain": [
       "    Average  SelfCentered  Reserved  RoleModel\n",
       "0  1.938736      2.186707  1.614532   0.391410\n",
       "1  1.025701      1.073191  1.752343   2.399247\n",
       "2  1.588164      1.802949  0.569060   1.403197\n",
       "3  0.830484      1.671097  1.194256   1.014050\n",
       "4  1.098141      0.807730  0.703738   1.354938"
      ]
     },
     "execution_count": 10,
     "metadata": {},
     "output_type": "execute_result"
    }
   ],
   "source": [
    "distdf = pd.DataFrame(distances, columns = ['Average','SelfCentered','Reserved','RoleModel'])\n",
    "distdf"
   ]
  },
  {
   "cell_type": "code",
   "execution_count": 13,
   "metadata": {},
   "outputs": [
    {
     "data": {
      "text/html": [
       "<div>\n",
       "<style scoped>\n",
       "    .dataframe tbody tr th:only-of-type {\n",
       "        vertical-align: middle;\n",
       "    }\n",
       "\n",
       "    .dataframe tbody tr th {\n",
       "        vertical-align: top;\n",
       "    }\n",
       "\n",
       "    .dataframe thead th {\n",
       "        text-align: right;\n",
       "    }\n",
       "</style>\n",
       "<table border=\"1\" class=\"dataframe\">\n",
       "  <thead>\n",
       "    <tr style=\"text-align: right;\">\n",
       "      <th></th>\n",
       "      <th>Average</th>\n",
       "      <th>SelfCentered</th>\n",
       "      <th>Reserved</th>\n",
       "      <th>RoleModel</th>\n",
       "    </tr>\n",
       "  </thead>\n",
       "  <tbody>\n",
       "    <tr>\n",
       "      <th>0</th>\n",
       "      <td>NaN</td>\n",
       "      <td>NaN</td>\n",
       "      <td>NaN</td>\n",
       "      <td>0.39141</td>\n",
       "    </tr>\n",
       "    <tr>\n",
       "      <th>1</th>\n",
       "      <td>NaN</td>\n",
       "      <td>NaN</td>\n",
       "      <td>NaN</td>\n",
       "      <td>NaN</td>\n",
       "    </tr>\n",
       "    <tr>\n",
       "      <th>2</th>\n",
       "      <td>NaN</td>\n",
       "      <td>NaN</td>\n",
       "      <td>0.569060</td>\n",
       "      <td>NaN</td>\n",
       "    </tr>\n",
       "    <tr>\n",
       "      <th>3</th>\n",
       "      <td>0.830484</td>\n",
       "      <td>NaN</td>\n",
       "      <td>NaN</td>\n",
       "      <td>NaN</td>\n",
       "    </tr>\n",
       "    <tr>\n",
       "      <th>4</th>\n",
       "      <td>NaN</td>\n",
       "      <td>0.80773</td>\n",
       "      <td>0.703738</td>\n",
       "      <td>NaN</td>\n",
       "    </tr>\n",
       "  </tbody>\n",
       "</table>\n",
       "</div>"
      ],
      "text/plain": [
       "    Average  SelfCentered  Reserved  RoleModel\n",
       "0       NaN           NaN       NaN    0.39141\n",
       "1       NaN           NaN       NaN        NaN\n",
       "2       NaN           NaN  0.569060        NaN\n",
       "3  0.830484           NaN       NaN        NaN\n",
       "4       NaN       0.80773  0.703738        NaN"
      ]
     },
     "execution_count": 13,
     "metadata": {},
     "output_type": "execute_result"
    }
   ],
   "source": [
    "distdf[distdf<1]"
   ]
  },
  {
   "cell_type": "code",
   "execution_count": 64,
   "metadata": {},
   "outputs": [
    {
     "data": {
      "text/plain": [
       "N   -0.70\n",
       "E    0.52\n",
       "O    0.23\n",
       "A    0.62\n",
       "C    0.78\n",
       "Name: RoleModel, dtype: float64"
      ]
     },
     "execution_count": 64,
     "metadata": {},
     "output_type": "execute_result"
    }
   ],
   "source": [
    "clusPascal.iloc[3]\n",
    "clusGerlach.loc['RoleModel']"
   ]
  },
  {
   "cell_type": "markdown",
   "metadata": {},
   "source": [
    "## Cluster matches"
   ]
  },
  {
   "cell_type": "code",
   "execution_count": 17,
   "metadata": {},
   "outputs": [
    {
     "data": {
      "text/plain": [
       "<matplotlib.collections.LineCollection at 0x10ea9ce10>"
      ]
     },
     "execution_count": 17,
     "metadata": {},
     "output_type": "execute_result"
    },
    {
     "data": {
      "image/png": "[encoded data removed]",
      "text/plain": [
       "<Figure size 432x288 with 1 Axes>"
      ]
     },
     "metadata": {},
     "output_type": "display_data"
    }
   ],
   "source": [
    "r = '#d62728'\n",
    "g = '#2ca02c'\n",
    "y = '#ff7f0e'\n",
    "b = '#1f77b4'\n",
    "plt.plot(['N','E','O','A','C'],clus120.iloc[2], marker='D', color='g')\n",
    "plt.plot(['N','E','O','A','C'],clusGerlach.loc['Reserved'], marker='o', color=g)\n",
    "plt.ylim(-1.25,1.25)\n",
    "plt.hlines(y=0,xmin='N',xmax='C',linestyles='dashed')"
   ]
  },
  {
   "cell_type": "markdown",
   "metadata": {},
   "source": [
    "### Self-Centered"
   ]
  },
  {
   "cell_type": "code",
   "execution_count": 19,
   "metadata": {},
   "outputs": [
    {
     "data": {
      "text/plain": [
       "<matplotlib.collections.LineCollection at 0x1152c8ba8>"
      ]
     },
     "execution_count": 19,
     "metadata": {},
     "output_type": "execute_result"
    },
    {
     "data": {
      "image/png": "[encoded data removed]",
      "text/plain": [
       "<Figure size 432x288 with 1 Axes>"
      ]
     },
     "metadata": {},
     "output_type": "display_data"
    }
   ],
   "source": [
    "plt.plot(['N','E','O','A','C'],clus120.iloc[4], marker='D', color='y')\n",
    "plt.plot(['N','E','O','A','C'],clusGerlach.loc['SelfCentered'], marker='o', color=y)\n",
    "plt.ylim(-1.25,1.25)\n",
    "plt.hlines(y=0,xmin='N',xmax='C',linestyles='dashed')"
   ]
  },
  {
   "cell_type": "markdown",
   "metadata": {},
   "source": [
    "### Average"
   ]
  },
  {
   "cell_type": "code",
   "execution_count": 21,
   "metadata": {},
   "outputs": [
    {
     "data": {
      "text/plain": [
       "<matplotlib.collections.LineCollection at 0x115384828>"
      ]
     },
     "execution_count": 21,
     "metadata": {},
     "output_type": "execute_result"
    },
    {
     "data": {
      "image/png": "[encoded data removed]",
      "text/plain": [
       "<Figure size 432x288 with 1 Axes>"
      ]
     },
     "metadata": {},
     "output_type": "display_data"
    }
   ],
   "source": [
    "plt.plot(['N','E','O','A','C'],clus120.iloc[3], marker='D', color='b')\n",
    "plt.plot(['N','E','O','A','C'],clusGerlach.loc['Average'], marker='o', color=b)\n",
    "plt.ylim(-1.25,1.25)\n",
    "plt.hlines(y=0,xmin='N',xmax='C',linestyles='dashed')"
   ]
  },
  {
   "cell_type": "markdown",
   "metadata": {},
   "source": [
    "### Role Model"
   ]
  },
  {
   "cell_type": "code",
   "execution_count": 22,
   "metadata": {},
   "outputs": [
    {
     "data": {
      "text/plain": [
       "<matplotlib.collections.LineCollection at 0x115392198>"
      ]
     },
     "execution_count": 22,
     "metadata": {},
     "output_type": "execute_result"
    },
    {
     "data": {
      "image/png": "[encoded data removed]",
      "text/plain": [
       "<Figure size 432x288 with 1 Axes>"
      ]
     },
     "metadata": {},
     "output_type": "display_data"
    }
   ],
   "source": [
    "plt.plot(['N','E','O','A','C'],clus120.iloc[0], marker='D', color='r')\n",
    "plt.plot(['N','E','O','A','C'],clusGerlach.loc['RoleModel'], marker='o', color=r)\n",
    "plt.ylim(-1.25,1.25)\n",
    "plt.hlines(y=0,xmin='N',xmax='C',linestyles='dashed')"
   ]
  },
  {
   "cell_type": "markdown",
   "metadata": {},
   "source": [
    "### Other"
   ]
  },
  {
   "cell_type": "code",
   "execution_count": 23,
   "metadata": {},
   "outputs": [
    {
     "data": {
      "text/plain": [
       "<matplotlib.collections.LineCollection at 0x115461ba8>"
      ]
     },
     "execution_count": 23,
     "metadata": {},
     "output_type": "execute_result"
    },
    {
     "data": {
      "image/png": "[encoded data removed]",
      "text/plain": [
       "<Figure size 432x288 with 1 Axes>"
      ]
     },
     "metadata": {},
     "output_type": "display_data"
    }
   ],
   "source": [
    "plt.plot(['N','E','O','A','C'],clus120.iloc[1], marker='D', color='c')\n",
    "plt.ylim(-1.25,1.25)\n",
    "plt.hlines(y=0,xmin='N',xmax='C',linestyles='dashed')"
   ]
  },
  {
   "cell_type": "code",
   "execution_count": null,
   "metadata": {},
   "outputs": [],
   "source": []
  }
 ],
 "metadata": {
  "kernelspec": {
   "display_name": "Python 3",
   "language": "python",
   "name": "python3"
  },
  "language_info": {
   "codemirror_mode": {
    "name": "ipython",
    "version": 3
   },
   "file_extension": ".py",
   "mimetype": "text/x-python",
   "name": "python",
   "nbconvert_exporter": "python",
   "pygments_lexer": "ipython3",
   "version": "3.6.4"
  }
 },
 "nbformat": 4,
 "nbformat_minor": 2
}
