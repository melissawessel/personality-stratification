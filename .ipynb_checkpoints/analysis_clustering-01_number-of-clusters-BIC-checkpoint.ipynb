{
 "cells": [
  {
   "cell_type": "markdown",
   "metadata": {},
   "source": [
    "We fit a gaussian mixture model to the factor scores of all individuals trying to find the best number of clusters using the BIC"
   ]
  },
  {
   "cell_type": "code",
   "execution_count": 6,
   "metadata": {},
   "outputs": [
    {
     "name": "stdout",
     "output_type": "stream",
     "text": [
      "The autoreload extension is already loaded. To reload it, use:\n",
      "  %reload_ext autoreload\n"
     ]
    }
   ],
   "source": [
    "%load_ext autoreload\n",
    "%autoreload 2\n",
    "\n",
    "import os, sys\n",
    "import pandas as pd\n",
    "import numpy as np\n",
    "import glob\n",
    "\n",
    "import pylab as plt\n",
    "from matplotlib.pyplot import get_cmap\n",
    "%matplotlib inline  \n",
    "\n",
    "src_dir = os.path.abspath(os.path.join(os.pardir,'personality-types-orig/src'))\n",
    "sys.path[0] = src_dir\n",
    "\n",
    "from analysis.cluster_density import gmm_kd\n",
    "from analysis.data_sample import get_subset"
   ]
  },
  {
   "cell_type": "markdown",
   "metadata": {},
   "source": [
    "# Load data and setup"
   ]
  },
  {
   "cell_type": "code",
   "execution_count": 9,
   "metadata": {},
   "outputs": [],
   "source": [
    "# factor scores\n",
    "# path_read = os.path.join(src_dir,os.pardir,'data_filter')\n",
    "fname_read = 'TIPI_scored_NEOAC.npy'\n",
    "arrTIPI =  np.load(fname_read)\n",
    "\n",
    "# parameters for fitting\n",
    "n_rep = 10 # number of different initial conditions for optimization\n",
    "arr_Nc = np.arange(1,20,1) ## range of values for number of clusters\n",
    "\n",
    "# these are not needed but will be specified\n",
    "n_rep_kd = 0 # number of randomizations for estaimting density --> not needed here: 0\n",
    "bw = -1 # bandwidth for density estimation (-1, estimate from avg nearest-neighbor distance)\n",
    "N_samples = 0 # number of pairs of n.n. for estimating bandwidth --> not needed here:0\n"
   ]
  },
  {
   "cell_type": "code",
   "execution_count": 10,
   "metadata": {},
   "outputs": [],
   "source": [
    "#####\n",
    "# z-score the data in each dimension\n",
    "#####\n",
    "# N_,D_ = np.shape(arrTIPI)\n",
    "# for d in range(D_):\n",
    "#     x_tmp = arrTIPI[:,d]\n",
    "#     x_mu = np.mean(x_tmp)\n",
    "#     x_std = np.std(x_tmp)\n",
    "#     arrTIPI[:,d] = (x_tmp - x_mu)/x_std\n",
    "\n",
    "# scores are already normed - see TIPI_Scoring.ipynb\n",
    "arrTIPI = np.load('TIPI_scored_normed_NEOAC.npy')\n",
    "\n",
    "#####\n",
    "# get a random subset to reduce processing time\n",
    "# use line above if you want to fit the whole dataset\n",
    "#####\n",
    "\n",
    "arr_x = 1.0*arrTIPI\n",
    "# arr_x = get_subset(arr_pd,10000) \n"
   ]
  },
  {
   "cell_type": "markdown",
   "metadata": {
    "collapsed": true
   },
   "source": [
    "# Fit"
   ]
  },
  {
   "cell_type": "code",
   "execution_count": 11,
   "metadata": {},
   "outputs": [
    {
     "name": "stdout",
     "output_type": "stream",
     "text": [
      "1\n",
      "2\n",
      "3\n",
      "4\n",
      "5\n",
      "6\n",
      "7\n",
      "8\n",
      "9\n",
      "10\n",
      "11\n",
      "12\n",
      "13\n",
      "14\n",
      "15\n",
      "16\n",
      "17\n",
      "18\n",
      "19\n"
     ]
    }
   ],
   "source": [
    "arr_BIC = 0.0*arr_Nc\n",
    "arr_AIC = 0.0*arr_Nc\n",
    "for i_Nc,Nc in enumerate(arr_Nc):\n",
    "    print(Nc)\n",
    "    ## fit the gmm\n",
    "    dict_result_tmp = gmm_kd(Nc,arrTIPI,n_rep,n_rep_kd, bw = bw, N_samples = N_samples)\n",
    "    ## get the BIC\n",
    "    arr_BIC[i_Nc] = dict_result_tmp['BIC']\n",
    "    arr_AIC[i_Nc] = dict_result_tmp['AIC']"
   ]
  },
  {
   "cell_type": "code",
   "execution_count": null,
   "metadata": {},
   "outputs": [],
   "source": []
  },
  {
   "cell_type": "markdown",
   "metadata": {},
   "source": [
    "# Plot the result"
   ]
  },
  {
   "cell_type": "code",
   "execution_count": 12,
   "metadata": {},
   "outputs": [
    {
     "data": {
      "text/plain": [
       "Text(0.5, 0, 'Number of clusters, $N_c$')"
      ]
     },
     "execution_count": 12,
     "metadata": {},
     "output_type": "execute_result"
    },
    {
     "data": {
      "image/png": "[encoded data removed]",
      "text/plain": [
       "<Figure size 432x288 with 1 Axes>"
      ]
     },
     "metadata": {},
     "output_type": "display_data"
    }
   ],
   "source": [
    "bic = plt.plot(arr_Nc,arr_BIC,marker='o',label='BIC')\n",
    "# aic = plt.plot(arr_Nc,arr_AIC,marker='o',label='AIC')\n",
    "\n",
    "#plt.ylabel('BIC')\n",
    "plt.xlabel(r'Number of clusters, $N_c$')\n",
    "# plt.legend(['BIC','AIC'])"
   ]
  },
  {
   "cell_type": "code",
   "execution_count": null,
   "metadata": {
    "collapsed": true
   },
   "outputs": [],
   "source": []
  }
 ],
 "metadata": {
  "kernelspec": {
   "display_name": "Python 3",
   "language": "python",
   "name": "python3"
  },
  "language_info": {
   "codemirror_mode": {
    "name": "ipython",
    "version": 3
   },
   "file_extension": ".py",
   "mimetype": "text/x-python",
   "name": "python",
   "nbconvert_exporter": "python",
   "pygments_lexer": "ipython3",
   "version": "3.6.4"
  }
 },
 "nbformat": 4,
 "nbformat_minor": 1
}
